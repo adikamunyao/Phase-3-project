{
 "cells": [
  {
   "cell_type": "markdown",
   "metadata": {},
   "source": [
    "#  Overview\n",
    "\n",
    "The Terry Stops problem aims to predict the outcome of police stops based on reasonable suspicion using a classification model. The model considers various factors such as presence of weapons, time of day, and possibly gender and race of both the officer and the subject. However, the use of race and gender data raises ethical concerns and the importance of avoiding bias and discrimination must be taken into consideration. The goal of this model is to improve the efficiency and fairness of law enforcement actions, but the agencies must also monitor and address any potential biases."
   ]
  },
  {
   "cell_type": "markdown",
   "metadata": {},
   "source": [
    "# 1. Business Understanding\n"
   ]
  },
  {
   "cell_type": "markdown",
   "metadata": {},
   "source": [
    "## 1.1. Problem\n",
    "The Terry Stops presents a business opportunity to improve the efficiency and fairness of law enforcement actions. By developing a predictive model that can assist officers in determining the likelihood of an arrest being made during a Terry Stop, the law enforcement agencies can make informed decisions and potentially reduce the number of false arrests and incidents of police misconduct. However, it is important to approach this problem with caution and transparency, considering the ethical concerns raised by the use of gender and race data. The goal is to provide a tool that can help improve policing, while avoiding biases and discrimination."
   ]
  },
  {
   "cell_type": "markdown",
   "metadata": {},
   "source": [
    "## 1.2 Aim"
   ]
  },
  {
   "cell_type": "markdown",
   "metadata": {},
   "source": [
    "The aim of this project is to build a classifier that can predict the outcome of a Terry Stop (whether an arrest was made or not) based on reasonable suspicion. This will be done by considering various factors such as the presence of weapons, time of day of the call, and other relevant information. The model will be designed to address the binary classification problem, with the goal of improving the efficiency and fairness of law enforcement actions."
   ]
  },
  {
   "cell_type": "markdown",
   "metadata": {},
   "source": [
    "## 1.3. 0bjectives\n",
    "* To create a predictive model for Terry Stops that accurately predicts the outcome of the stop (arrest made or not)\n",
    "* To take into consideration key factors such as the presence of weapons and the time of the call in the model\n",
    "* To ensure that the model is ethically sound and avoids any biases or discrimination related to gender and race."
   ]
  },
  {
   "cell_type": "markdown",
   "metadata": {},
   "source": [
    "# 2. Data Understanding"
   ]
  },
  {
   "cell_type": "markdown",
   "metadata": {},
   "source": [
    "## 2.1 Data Understanding\n",
    "This dataset was provided by the City of Seattle and is managed by the Seattle Police Department. It was created on April 13, 2017 and last updated on February 6, 2023. The dataset contains **54873**, rows and **23** columns, each row representing a unique Terry Stop record as reported by the officer conducting the stop. The columns in the dataset include information about the subject of the stop, such as the perceived age group, perceived race, and perceived gender. \n",
    "\n",
    "The dataset also includes information about the officer, such as the officer's gender, race, and year of birth. Additionally, the dataset includes information about the resolution of the stop, any weapons found, the date and time the stop was reported, and information about the underlying Computer Aided Dispatch (CAD) event. The data is updated daily and is licensed under the public domain."
   ]
  },
  {
   "cell_type": "markdown",
   "metadata": {},
   "source": [
    "# 3. Requirements\n",
    "\n",
    "* Data Preparation -> Loading Libraries -> Loading data -> Descriptive Exploration -> Data Cleaning -> Exploratory Descriptive Analysis (EDA) -> Pre-processing Data\n",
    "\n",
    "* Modelling -> Train test split -> Logistic Regression -> K-Nearest -> Decision Tree -> Logistic Regression -> Random Forest\n",
    "    \n",
    "* Evaluation -> Classification Metrics -> Best Perfoming Model\n",
    "\n",
    "* Conclusion -> Best Model\n",
    "    \n",
    "* Recommendation -> Most imporatnt features"
   ]
  },
  {
   "cell_type": "markdown",
   "metadata": {},
   "source": [
    "# 4. Data Preparation\n",
    "\n",
    "*  Update the Stop Resolution column to either be arrested (1) or not arrested (0):\n",
    "*  Change the date column to datetime so we can work with it. Add in the month as a new column:\n",
    "*  Group weapons into firearms vs. non-firearms vs. no weapon:\n",
    "*  Change Officer year of bith to give the officer age:\n",
    "*  Drop columns that we are not going to need:\n",
    "\n",
    "* Converting categorical data to numeric format through label encoder"
   ]
  },
  {
   "cell_type": "markdown",
   "metadata": {},
   "source": [
    "i) Loading Libraries -> \n",
    "ii) Loading data -> \n",
    "iii) Descriptive Exploration -> \n",
    "iv) Data Cleaning -> \n",
    "v) Exploratory Descriptive Analysis (EDA) -> \n",
    "vi) Pre-processing Data"
   ]
  },
  {
   "cell_type": "markdown",
   "metadata": {},
   "source": [
    "### 4.1. Loading Libraries"
   ]
  },
  {
   "cell_type": "code",
   "execution_count": 48,
   "metadata": {},
   "outputs": [],
   "source": [
    "# import relevant libraries\n",
    "import pandas as pd\n",
    "import numpy as np\n",
    "\n",
    "import matplotlib.pyplot as plt\n",
    "import pandas as pd\n",
    "import seaborn as sns"
   ]
  },
  {
   "cell_type": "markdown",
   "metadata": {},
   "source": [
    "### 4.2. Loading Data"
   ]
  },
  {
   "cell_type": "code",
   "execution_count": 49,
   "metadata": {},
   "outputs": [
    {
     "data": {
      "text/html": [
       "<div>\n",
       "<style scoped>\n",
       "    .dataframe tbody tr th:only-of-type {\n",
       "        vertical-align: middle;\n",
       "    }\n",
       "\n",
       "    .dataframe tbody tr th {\n",
       "        vertical-align: top;\n",
       "    }\n",
       "\n",
       "    .dataframe thead th {\n",
       "        text-align: right;\n",
       "    }\n",
       "</style>\n",
       "<table border=\"1\" class=\"dataframe\">\n",
       "  <thead>\n",
       "    <tr style=\"text-align: right;\">\n",
       "      <th></th>\n",
       "      <th>Subject Age Group</th>\n",
       "      <th>Subject ID</th>\n",
       "      <th>GO / SC Num</th>\n",
       "      <th>Terry Stop ID</th>\n",
       "      <th>Stop Resolution</th>\n",
       "      <th>Weapon Type</th>\n",
       "      <th>Officer ID</th>\n",
       "      <th>Officer YOB</th>\n",
       "      <th>Officer Gender</th>\n",
       "      <th>Officer Race</th>\n",
       "      <th>...</th>\n",
       "      <th>Reported Time</th>\n",
       "      <th>Initial Call Type</th>\n",
       "      <th>Final Call Type</th>\n",
       "      <th>Call Type</th>\n",
       "      <th>Officer Squad</th>\n",
       "      <th>Arrest Flag</th>\n",
       "      <th>Frisk Flag</th>\n",
       "      <th>Precinct</th>\n",
       "      <th>Sector</th>\n",
       "      <th>Beat</th>\n",
       "    </tr>\n",
       "  </thead>\n",
       "  <tbody>\n",
       "    <tr>\n",
       "      <th>0</th>\n",
       "      <td>26 - 35</td>\n",
       "      <td>-1</td>\n",
       "      <td>20160000004638</td>\n",
       "      <td>207171</td>\n",
       "      <td>Field Contact</td>\n",
       "      <td>None</td>\n",
       "      <td>6970</td>\n",
       "      <td>1968</td>\n",
       "      <td>M</td>\n",
       "      <td>White</td>\n",
       "      <td>...</td>\n",
       "      <td>01:23:00.0000000</td>\n",
       "      <td>-</td>\n",
       "      <td>-</td>\n",
       "      <td>-</td>\n",
       "      <td>SOUTH PCT 3RD W - ROBERT</td>\n",
       "      <td>N</td>\n",
       "      <td>N</td>\n",
       "      <td>-</td>\n",
       "      <td>-</td>\n",
       "      <td>-</td>\n",
       "    </tr>\n",
       "    <tr>\n",
       "      <th>1</th>\n",
       "      <td>18 - 25</td>\n",
       "      <td>-1</td>\n",
       "      <td>20180000352673</td>\n",
       "      <td>484084</td>\n",
       "      <td>Offense Report</td>\n",
       "      <td>None</td>\n",
       "      <td>7794</td>\n",
       "      <td>1991</td>\n",
       "      <td>M</td>\n",
       "      <td>White</td>\n",
       "      <td>...</td>\n",
       "      <td>06:45:00.0000000</td>\n",
       "      <td>TRESPASS</td>\n",
       "      <td>TRESPASS</td>\n",
       "      <td>TELEPHONE OTHER, NOT 911</td>\n",
       "      <td>NORTH PCT 1ST W - LINCOLN</td>\n",
       "      <td>N</td>\n",
       "      <td>N</td>\n",
       "      <td>North</td>\n",
       "      <td>L</td>\n",
       "      <td>L2</td>\n",
       "    </tr>\n",
       "    <tr>\n",
       "      <th>2</th>\n",
       "      <td>26 - 35</td>\n",
       "      <td>-1</td>\n",
       "      <td>20170000399165</td>\n",
       "      <td>325847</td>\n",
       "      <td>Offense Report</td>\n",
       "      <td>None</td>\n",
       "      <td>7795</td>\n",
       "      <td>1992</td>\n",
       "      <td>M</td>\n",
       "      <td>Hispanic or Latino</td>\n",
       "      <td>...</td>\n",
       "      <td>17:28:00.0000000</td>\n",
       "      <td>BURG - RES (INCL UNOCC STRUCTURES ON PROP)</td>\n",
       "      <td>--BURGLARY - RESIDENTIAL, UNOCCUPIED</td>\n",
       "      <td>911</td>\n",
       "      <td>EAST PCT 2ND W - CHARLIE RELIEF</td>\n",
       "      <td>N</td>\n",
       "      <td>N</td>\n",
       "      <td>East</td>\n",
       "      <td>C</td>\n",
       "      <td>C1</td>\n",
       "    </tr>\n",
       "    <tr>\n",
       "      <th>3</th>\n",
       "      <td>1 - 17</td>\n",
       "      <td>12771262575</td>\n",
       "      <td>20200000093264</td>\n",
       "      <td>12771309361</td>\n",
       "      <td>Arrest</td>\n",
       "      <td>-</td>\n",
       "      <td>8308</td>\n",
       "      <td>1987</td>\n",
       "      <td>M</td>\n",
       "      <td>Hispanic or Latino</td>\n",
       "      <td>...</td>\n",
       "      <td>01:56:17.0000000</td>\n",
       "      <td>DISTURBANCE, MISCELLANEOUS/OTHER</td>\n",
       "      <td>--TRAFFIC - D.U.I.</td>\n",
       "      <td>ONVIEW</td>\n",
       "      <td>NaN</td>\n",
       "      <td>Y</td>\n",
       "      <td>N</td>\n",
       "      <td>West</td>\n",
       "      <td>Q</td>\n",
       "      <td>Q3</td>\n",
       "    </tr>\n",
       "    <tr>\n",
       "      <th>4</th>\n",
       "      <td>56 and Above</td>\n",
       "      <td>-1</td>\n",
       "      <td>20170000000086</td>\n",
       "      <td>227439</td>\n",
       "      <td>Field Contact</td>\n",
       "      <td>None</td>\n",
       "      <td>8376</td>\n",
       "      <td>1975</td>\n",
       "      <td>M</td>\n",
       "      <td>Hispanic or Latino</td>\n",
       "      <td>...</td>\n",
       "      <td>14:29:00.0000000</td>\n",
       "      <td>-</td>\n",
       "      <td>-</td>\n",
       "      <td>-</td>\n",
       "      <td>NORTH PCT 2ND W - JOHN</td>\n",
       "      <td>N</td>\n",
       "      <td>N</td>\n",
       "      <td>-</td>\n",
       "      <td>-</td>\n",
       "      <td>-</td>\n",
       "    </tr>\n",
       "    <tr>\n",
       "      <th>5</th>\n",
       "      <td>1 - 17</td>\n",
       "      <td>-1</td>\n",
       "      <td>20170000272079</td>\n",
       "      <td>289314</td>\n",
       "      <td>Offense Report</td>\n",
       "      <td>None</td>\n",
       "      <td>8409</td>\n",
       "      <td>1993</td>\n",
       "      <td>M</td>\n",
       "      <td>White</td>\n",
       "      <td>...</td>\n",
       "      <td>17:00:00.0000000</td>\n",
       "      <td>ROBBERY - IP/JO (INCLUDES STRONG ARM)</td>\n",
       "      <td>--ROBBERY - STRONG ARM</td>\n",
       "      <td>911</td>\n",
       "      <td>NORTH PCT 2ND W - JOHN</td>\n",
       "      <td>N</td>\n",
       "      <td>N</td>\n",
       "      <td>North</td>\n",
       "      <td>J</td>\n",
       "      <td>J3</td>\n",
       "    </tr>\n",
       "    <tr>\n",
       "      <th>6</th>\n",
       "      <td>36 - 45</td>\n",
       "      <td>-1</td>\n",
       "      <td>20190000001386</td>\n",
       "      <td>549535</td>\n",
       "      <td>Field Contact</td>\n",
       "      <td>Lethal Cutting Instrument</td>\n",
       "      <td>8418</td>\n",
       "      <td>1984</td>\n",
       "      <td>M</td>\n",
       "      <td>White</td>\n",
       "      <td>...</td>\n",
       "      <td>17:13:00.0000000</td>\n",
       "      <td>-</td>\n",
       "      <td>-</td>\n",
       "      <td>-</td>\n",
       "      <td>WEST PCT 2ND W - D/M RELIEF</td>\n",
       "      <td>N</td>\n",
       "      <td>N</td>\n",
       "      <td>-</td>\n",
       "      <td>-</td>\n",
       "      <td>-</td>\n",
       "    </tr>\n",
       "  </tbody>\n",
       "</table>\n",
       "<p>7 rows × 23 columns</p>\n",
       "</div>"
      ],
      "text/plain": [
       "  Subject Age Group   Subject ID     GO / SC Num  Terry Stop ID  \\\n",
       "0           26 - 35           -1  20160000004638         207171   \n",
       "1           18 - 25           -1  20180000352673         484084   \n",
       "2           26 - 35           -1  20170000399165         325847   \n",
       "3            1 - 17  12771262575  20200000093264    12771309361   \n",
       "4      56 and Above           -1  20170000000086         227439   \n",
       "5            1 - 17           -1  20170000272079         289314   \n",
       "6           36 - 45           -1  20190000001386         549535   \n",
       "\n",
       "  Stop Resolution                Weapon Type Officer ID  Officer YOB  \\\n",
       "0   Field Contact                       None       6970         1968   \n",
       "1  Offense Report                       None       7794         1991   \n",
       "2  Offense Report                       None       7795         1992   \n",
       "3          Arrest                          -       8308         1987   \n",
       "4   Field Contact                       None       8376         1975   \n",
       "5  Offense Report                       None       8409         1993   \n",
       "6   Field Contact  Lethal Cutting Instrument       8418         1984   \n",
       "\n",
       "  Officer Gender        Officer Race  ...     Reported Time  \\\n",
       "0              M               White  ...  01:23:00.0000000   \n",
       "1              M               White  ...  06:45:00.0000000   \n",
       "2              M  Hispanic or Latino  ...  17:28:00.0000000   \n",
       "3              M  Hispanic or Latino  ...  01:56:17.0000000   \n",
       "4              M  Hispanic or Latino  ...  14:29:00.0000000   \n",
       "5              M               White  ...  17:00:00.0000000   \n",
       "6              M               White  ...  17:13:00.0000000   \n",
       "\n",
       "                            Initial Call Type  \\\n",
       "0                                           -   \n",
       "1                                    TRESPASS   \n",
       "2  BURG - RES (INCL UNOCC STRUCTURES ON PROP)   \n",
       "3            DISTURBANCE, MISCELLANEOUS/OTHER   \n",
       "4                                           -   \n",
       "5       ROBBERY - IP/JO (INCLUDES STRONG ARM)   \n",
       "6                                           -   \n",
       "\n",
       "                        Final Call Type                 Call Type  \\\n",
       "0                                     -                         -   \n",
       "1                              TRESPASS  TELEPHONE OTHER, NOT 911   \n",
       "2  --BURGLARY - RESIDENTIAL, UNOCCUPIED                       911   \n",
       "3                    --TRAFFIC - D.U.I.                    ONVIEW   \n",
       "4                                     -                         -   \n",
       "5                --ROBBERY - STRONG ARM                       911   \n",
       "6                                     -                         -   \n",
       "\n",
       "                     Officer Squad Arrest Flag Frisk Flag Precinct Sector Beat  \n",
       "0         SOUTH PCT 3RD W - ROBERT           N          N        -      -    -  \n",
       "1        NORTH PCT 1ST W - LINCOLN           N          N    North      L   L2  \n",
       "2  EAST PCT 2ND W - CHARLIE RELIEF           N          N     East      C   C1  \n",
       "3                              NaN           Y          N     West      Q   Q3  \n",
       "4           NORTH PCT 2ND W - JOHN           N          N        -      -    -  \n",
       "5           NORTH PCT 2ND W - JOHN           N          N    North      J   J3  \n",
       "6      WEST PCT 2ND W - D/M RELIEF           N          N        -      -    -  \n",
       "\n",
       "[7 rows x 23 columns]"
      ]
     },
     "execution_count": 49,
     "metadata": {},
     "output_type": "execute_result"
    }
   ],
   "source": [
    "# read the csv file to pandas data frame\n",
    "Tery_stops_df = pd.read_csv(\"data/Terry_Stops.csv\")\n",
    "\n",
    "# preview the first 3 rows\n",
    "Tery_stops_df.head(7)"
   ]
  },
  {
   "cell_type": "markdown",
   "metadata": {},
   "source": [
    "#### These are the  23 columns, with a concise explanation of the information contained in each column :\n",
    "\n",
    "**Subject Age Group:** Subject Age Group (10 year increments) as reported by the officer.\n",
    "\n",
    "**Subject ID:** Key, generated daily, identifying unique subjects in the dataset using a character to character match of first name and last name. \"Null\" values indicate an \"anonymous\" or \"unidentified\" subject. Subjects of a Terry Stop are not required to present identification.\n",
    "\n",
    "**GO/SC Num:** General Offense or Street Check number, relating the Terry Stop to the parent report. This field may have a one to many relationship in the data.\n",
    "\n",
    "**Terry Stop ID:** Key identifying unique Terry Stop reports.\n",
    "\n",
    "**Stop Resolution:** Resolution of the stop as reported by the officer.\n",
    "\n",
    "**Weapon Type:** Type of weapon, if any, identified during a search or frisk of the subject. Indicates \"None\" if no weapons was found.\n",
    "\n",
    "**Officer ID:** Key identifying unique officers in the dataset.\n",
    "\n",
    "**Officer YOB:** Year of birth, as reported by the officer.\n",
    "\n",
    "**Officer Gender:** Gender of the officer, as reported by the officer.\n",
    "\n",
    "**Officer Race:** Race of the officer, as reported by the officer.\n",
    "\n",
    "**Subject Perceived Race:** Perceived race of the subject, as reported by the officer.\n",
    "\n",
    "**Subject Perceived Gender:** Perceived gender of the subject, as reported by the officer.\n",
    "\n",
    "**Reported Date:** Date the report was filed in the Records Management System (RMS). Not necessarily the date the stop occurred but generally within 1 day.\n",
    "\n",
    "**Reported Time:** Time the stop was reported in the Records Management System (RMS). Not the time the stop occurred but generally within 10 hours.\n",
    "\n",
    "**Initial Call Type:** Initial classification of the call as assigned by 911.\n",
    "\n",
    "**Final Call Type:** Final classification of the call as assigned by the primary officer closing the event.\n",
    "\n",
    "**Call Type:** How the call was received by the communication center.\n",
    "\n",
    "**Officer Squad:** Functional squad assignment (not budget) of the officer as reported by the Data Analytics Platform (DAP).\n",
    "\n",
    "**Arrest Flag:** Indicator of whether a \"physical arrest\" was made, of the subject, during the Terry Stop. Does not necessarily reflect a report of an arrest in the Records Management System (RMS).\n",
    "\n",
    "**Frisk Flag:** Indicator of whether a \"frisk\" was conducted, by the officer, of the subject, during the Terry Stop.\n",
    "\n",
    "**Precinct:** Precinct of the address associated with the underlying Computer Aided Dispatch (CAD) event. Not necessarily where the Terry Stop occurred.\n",
    "\n",
    "**Sector:** Sector of the address associated with the underlying Computer Aided Dispatch (CAD) event. Not necessarily where the Terry Stop occurred.\n",
    "\n",
    "**Beat:** Beat of the address associated with the underlying Computer Aided Dispatch (CAD) event. Not necessarily where the Terry Stop occurred.\n",
    "\n",
    "\n"
   ]
  },
  {
   "cell_type": "markdown",
   "metadata": {},
   "source": [
    "### 4.3.  Descriptive Exploration\n",
    "To summarizes the characteristics of a data set"
   ]
  },
  {
   "cell_type": "code",
   "execution_count": 50,
   "metadata": {},
   "outputs": [
    {
     "name": "stdout",
     "output_type": "stream",
     "text": [
      "This dataset has 54873 rows and 23 columns\n"
     ]
    }
   ],
   "source": [
    "# data shape\n",
    "print(f\"This dataset has {Tery_stops_df.shape[0]} rows and {Tery_stops_df.shape[1]} columns\")"
   ]
  },
  {
   "cell_type": "markdown",
   "metadata": {},
   "source": [
    "#### 4.3.1.  What are the datatype of columns ?"
   ]
  },
  {
   "cell_type": "code",
   "execution_count": 51,
   "metadata": {},
   "outputs": [
    {
     "name": "stdout",
     "output_type": "stream",
     "text": [
      "Numerical columns: 4\n",
      "Categorical columns: 19\n"
     ]
    }
   ],
   "source": [
    "# # check number of categorical and numerical columns\n",
    "def columns_dtypes(df):\n",
    "    num = len(df.select_dtypes(include=np.number).columns)\n",
    "    cat = len(df.select_dtypes(include='object').columns)\n",
    "    print(f\"Numerical columns: {num}\")\n",
    "    print(f\"Categorical columns: {cat}\")\n",
    "    \n",
    "# call the function  \n",
    "columns_dtypes(Tery_stops_df)"
   ]
  },
  {
   "cell_type": "markdown",
   "metadata": {},
   "source": [
    "#### 4.3.2. Data set description"
   ]
  },
  {
   "cell_type": "code",
   "execution_count": 52,
   "metadata": {},
   "outputs": [
    {
     "data": {
      "text/html": [
       "<div>\n",
       "<style scoped>\n",
       "    .dataframe tbody tr th:only-of-type {\n",
       "        vertical-align: middle;\n",
       "    }\n",
       "\n",
       "    .dataframe tbody tr th {\n",
       "        vertical-align: top;\n",
       "    }\n",
       "\n",
       "    .dataframe thead th {\n",
       "        text-align: right;\n",
       "    }\n",
       "</style>\n",
       "<table border=\"1\" class=\"dataframe\">\n",
       "  <thead>\n",
       "    <tr style=\"text-align: right;\">\n",
       "      <th></th>\n",
       "      <th>count</th>\n",
       "      <th>mean</th>\n",
       "      <th>std</th>\n",
       "      <th>min</th>\n",
       "      <th>25%</th>\n",
       "      <th>50%</th>\n",
       "      <th>75%</th>\n",
       "      <th>max</th>\n",
       "    </tr>\n",
       "  </thead>\n",
       "  <tbody>\n",
       "    <tr>\n",
       "      <th>Subject ID</th>\n",
       "      <td>54873.0</td>\n",
       "      <td>4.733982e+09</td>\n",
       "      <td>8.203096e+09</td>\n",
       "      <td>-8.0</td>\n",
       "      <td>-1.000000e+00</td>\n",
       "      <td>-1.000000e+00</td>\n",
       "      <td>7.732994e+09</td>\n",
       "      <td>4.149222e+10</td>\n",
       "    </tr>\n",
       "    <tr>\n",
       "      <th>GO / SC Num</th>\n",
       "      <td>54873.0</td>\n",
       "      <td>2.018135e+13</td>\n",
       "      <td>8.883140e+10</td>\n",
       "      <td>-1.0</td>\n",
       "      <td>2.016000e+13</td>\n",
       "      <td>2.018000e+13</td>\n",
       "      <td>2.020000e+13</td>\n",
       "      <td>2.023000e+13</td>\n",
       "    </tr>\n",
       "    <tr>\n",
       "      <th>Terry Stop ID</th>\n",
       "      <td>54873.0</td>\n",
       "      <td>7.648965e+09</td>\n",
       "      <td>1.171084e+10</td>\n",
       "      <td>28020.0</td>\n",
       "      <td>2.123010e+05</td>\n",
       "      <td>4.677610e+05</td>\n",
       "      <td>1.279593e+10</td>\n",
       "      <td>4.149624e+10</td>\n",
       "    </tr>\n",
       "    <tr>\n",
       "      <th>Officer YOB</th>\n",
       "      <td>54873.0</td>\n",
       "      <td>1.983519e+03</td>\n",
       "      <td>9.508902e+00</td>\n",
       "      <td>1900.0</td>\n",
       "      <td>1.979000e+03</td>\n",
       "      <td>1.986000e+03</td>\n",
       "      <td>1.990000e+03</td>\n",
       "      <td>2.000000e+03</td>\n",
       "    </tr>\n",
       "  </tbody>\n",
       "</table>\n",
       "</div>"
      ],
      "text/plain": [
       "                 count          mean           std      min           25%  \\\n",
       "Subject ID     54873.0  4.733982e+09  8.203096e+09     -8.0 -1.000000e+00   \n",
       "GO / SC Num    54873.0  2.018135e+13  8.883140e+10     -1.0  2.016000e+13   \n",
       "Terry Stop ID  54873.0  7.648965e+09  1.171084e+10  28020.0  2.123010e+05   \n",
       "Officer YOB    54873.0  1.983519e+03  9.508902e+00   1900.0  1.979000e+03   \n",
       "\n",
       "                        50%           75%           max  \n",
       "Subject ID    -1.000000e+00  7.732994e+09  4.149222e+10  \n",
       "GO / SC Num    2.018000e+13  2.020000e+13  2.023000e+13  \n",
       "Terry Stop ID  4.677610e+05  1.279593e+10  4.149624e+10  \n",
       "Officer YOB    1.986000e+03  1.990000e+03  2.000000e+03  "
      ]
     },
     "execution_count": 52,
     "metadata": {},
     "output_type": "execute_result"
    }
   ],
   "source": [
    "# describe the dataset\n",
    "Tery_stops_df.describe().T"
   ]
  },
  {
   "cell_type": "markdown",
   "metadata": {},
   "source": [
    ">Most of the figures are too large to give a clear description but this before any scaling."
   ]
  },
  {
   "cell_type": "markdown",
   "metadata": {},
   "source": [
    "#### 4.3.3 Target column distribution\n"
   ]
  },
  {
   "cell_type": "code",
   "execution_count": 53,
   "metadata": {},
   "outputs": [
    {
     "data": {
      "image/png": "[encoded data removed]",
      "text/plain": [
       "<Figure size 864x576 with 1 Axes>"
      ]
     },
     "metadata": {
      "needs_background": "light"
     },
     "output_type": "display_data"
    }
   ],
   "source": [
    "def plot_value_counts(df, col_name):\n",
    "    # Count the number of unique values for the column \"Stop Resolution\"\n",
    "    value_counts = df[col_name].value_counts()\n",
    "\n",
    "    # Plot the bar chart\n",
    "    plt.figure(figsize=(12,8))\n",
    "    plt.bar(value_counts.index, value_counts.values)\n",
    "    \n",
    "    \n",
    "    # Label the x and y axis\n",
    "    plt.title(\"Bar plot for the count of \" + col_name, fontsize=20)\n",
    "    plt.xlabel(col_name, fontsize=16)\n",
    "    plt.ylabel(\"Count\", fontsize=16)\n",
    "\n",
    "    # Add grid\n",
    "    plt.grid(True, linestyle='--')\n",
    "    \n",
    "    # Show the plot\n",
    "    plt.show()\n",
    "\n",
    "# call the function    \n",
    "plot_value_counts(Tery_stops_df,\"Stop Resolution\")"
   ]
  },
  {
   "cell_type": "markdown",
   "metadata": {},
   "source": [
    ">Field contact dominated the stop resolution as repoted by officer"
   ]
  },
  {
   "cell_type": "markdown",
   "metadata": {},
   "source": [
    "#### 4.3.4 Categorical Columns"
   ]
  },
  {
   "cell_type": "code",
   "execution_count": 54,
   "metadata": {},
   "outputs": [
    {
     "data": {
      "image/png": "[encoded data removed]",
      "text/plain": [
       "<Figure size 864x576 with 1 Axes>"
      ]
     },
     "metadata": {
      "needs_background": "light"
     },
     "output_type": "display_data"
    }
   ],
   "source": [
    "# function to describe categorical columns\n",
    "def count_plot(df, x_col, y_col):\n",
    "    # Plot the count plot\n",
    "    plt.figure(figsize=(12,8))\n",
    "    sns.countplot(x=x_col, hue=y_col, data=df)\n",
    "\n",
    "    # Label the x and y axis\n",
    "    plt.title(\"Count plot of \" + x_col + \" and \" + y_col, fontsize=20)\n",
    "    plt.xlabel(x_col, fontsize=16)\n",
    "    plt.ylabel(\"Count\", fontsize=16)\n",
    "\n",
    "    # Add grid\n",
    "    plt.grid(True, linestyle='--')\n",
    "    \n",
    "    # Show the plot\n",
    "    plt.show()\n",
    "\n",
    "# call the function \n",
    "count_plot(Tery_stops_df, \"Subject Age Group\", \"Stop Resolution\" )"
   ]
  },
  {
   "cell_type": "code",
   "execution_count": 55,
   "metadata": {},
   "outputs": [
    {
     "data": {
      "image/png": "[encoded data removed]",
      "text/plain": [
       "<Figure size 864x576 with 1 Axes>"
      ]
     },
     "metadata": {
      "needs_background": "light"
     },
     "output_type": "display_data"
    }
   ],
   "source": [
    "count_plot(Tery_stops_df, \"Stop Resolution\",\"Officer Race\")"
   ]
  },
  {
   "cell_type": "markdown",
   "metadata": {},
   "source": [
    "### 4.4 Data Cleaning\n",
    "\n",
    "Identifying and correcting inaccuracies, inconsistencies, and irrelevant data from a dataset. These were the steps\n",
    "* handling missing values\n",
    "* removing duplicates\n",
    "* correcting data format\n",
    "* transforming variables to make the data ready for modelling and predictions."
   ]
  },
  {
   "cell_type": "code",
   "execution_count": 56,
   "metadata": {},
   "outputs": [
    {
     "name": "stdout",
     "output_type": "stream",
     "text": [
      "<class 'pandas.core.frame.DataFrame'>\n",
      "RangeIndex: 54873 entries, 0 to 54872\n",
      "Data columns (total 23 columns):\n",
      " #   Column                    Non-Null Count  Dtype \n",
      "---  ------                    --------------  ----- \n",
      " 0   Subject Age Group         54873 non-null  object\n",
      " 1   Subject ID                54873 non-null  int64 \n",
      " 2   GO / SC Num               54873 non-null  int64 \n",
      " 3   Terry Stop ID             54873 non-null  int64 \n",
      " 4   Stop Resolution           54873 non-null  object\n",
      " 5   Weapon Type               54873 non-null  object\n",
      " 6   Officer ID                54873 non-null  object\n",
      " 7   Officer YOB               54873 non-null  int64 \n",
      " 8   Officer Gender            54873 non-null  object\n",
      " 9   Officer Race              54873 non-null  object\n",
      " 10  Subject Perceived Race    54873 non-null  object\n",
      " 11  Subject Perceived Gender  54873 non-null  object\n",
      " 12  Reported Date             54873 non-null  object\n",
      " 13  Reported Time             54873 non-null  object\n",
      " 14  Initial Call Type         54873 non-null  object\n",
      " 15  Final Call Type           54873 non-null  object\n",
      " 16  Call Type                 54873 non-null  object\n",
      " 17  Officer Squad             34144 non-null  object\n",
      " 18  Arrest Flag               54873 non-null  object\n",
      " 19  Frisk Flag                54873 non-null  object\n",
      " 20  Precinct                  54873 non-null  object\n",
      " 21  Sector                    54873 non-null  object\n",
      " 22  Beat                      54873 non-null  object\n",
      "dtypes: int64(4), object(19)\n",
      "memory usage: 9.6+ MB\n"
     ]
    }
   ],
   "source": [
    "# check to see type of data\n",
    "Tery_stops_df.info()"
   ]
  },
  {
   "cell_type": "code",
   "execution_count": 57,
   "metadata": {},
   "outputs": [
    {
     "name": "stdout",
     "output_type": "stream",
     "text": [
      "Summary:\n",
      "Numerical columns: 4\n",
      "Categorical columns: 19\n"
     ]
    }
   ],
   "source": [
    "# call the function  \n",
    "print(\"Summary:\")\n",
    "columns_dtypes(Tery_stops_df)"
   ]
  },
  {
   "cell_type": "markdown",
   "metadata": {},
   "source": [
    "#### 4.4.1. Missing and Duplicate Values\n",
    " a function to check duplicates and null"
   ]
  },
  {
   "cell_type": "code",
   "execution_count": 58,
   "metadata": {},
   "outputs": [
    {
     "name": "stdout",
     "output_type": "stream",
     "text": [
      "Officer squad is the column with null count of\n",
      "\n",
      "No duplicates\n"
     ]
    },
    {
     "data": {
      "text/html": [
       "<div>\n",
       "<style scoped>\n",
       "    .dataframe tbody tr th:only-of-type {\n",
       "        vertical-align: middle;\n",
       "    }\n",
       "\n",
       "    .dataframe tbody tr th {\n",
       "        vertical-align: top;\n",
       "    }\n",
       "\n",
       "    .dataframe thead th {\n",
       "        text-align: right;\n",
       "    }\n",
       "</style>\n",
       "<table border=\"1\" class=\"dataframe\">\n",
       "  <thead>\n",
       "    <tr style=\"text-align: right;\">\n",
       "      <th></th>\n",
       "      <th>Missing Values %</th>\n",
       "      <th>Missing Values Count</th>\n",
       "      <th>Duplicate Values %</th>\n",
       "    </tr>\n",
       "  </thead>\n",
       "  <tbody>\n",
       "    <tr>\n",
       "      <th>Subject Age Group</th>\n",
       "      <td>0.00</td>\n",
       "      <td>0</td>\n",
       "      <td>0.0</td>\n",
       "    </tr>\n",
       "    <tr>\n",
       "      <th>Subject ID</th>\n",
       "      <td>0.00</td>\n",
       "      <td>0</td>\n",
       "      <td>0.0</td>\n",
       "    </tr>\n",
       "    <tr>\n",
       "      <th>GO / SC Num</th>\n",
       "      <td>0.00</td>\n",
       "      <td>0</td>\n",
       "      <td>0.0</td>\n",
       "    </tr>\n",
       "    <tr>\n",
       "      <th>Terry Stop ID</th>\n",
       "      <td>0.00</td>\n",
       "      <td>0</td>\n",
       "      <td>0.0</td>\n",
       "    </tr>\n",
       "    <tr>\n",
       "      <th>Stop Resolution</th>\n",
       "      <td>0.00</td>\n",
       "      <td>0</td>\n",
       "      <td>0.0</td>\n",
       "    </tr>\n",
       "    <tr>\n",
       "      <th>Weapon Type</th>\n",
       "      <td>0.00</td>\n",
       "      <td>0</td>\n",
       "      <td>0.0</td>\n",
       "    </tr>\n",
       "    <tr>\n",
       "      <th>Officer ID</th>\n",
       "      <td>0.00</td>\n",
       "      <td>0</td>\n",
       "      <td>0.0</td>\n",
       "    </tr>\n",
       "    <tr>\n",
       "      <th>Officer YOB</th>\n",
       "      <td>0.00</td>\n",
       "      <td>0</td>\n",
       "      <td>0.0</td>\n",
       "    </tr>\n",
       "    <tr>\n",
       "      <th>Officer Gender</th>\n",
       "      <td>0.00</td>\n",
       "      <td>0</td>\n",
       "      <td>0.0</td>\n",
       "    </tr>\n",
       "    <tr>\n",
       "      <th>Officer Race</th>\n",
       "      <td>0.00</td>\n",
       "      <td>0</td>\n",
       "      <td>0.0</td>\n",
       "    </tr>\n",
       "    <tr>\n",
       "      <th>Subject Perceived Race</th>\n",
       "      <td>0.00</td>\n",
       "      <td>0</td>\n",
       "      <td>0.0</td>\n",
       "    </tr>\n",
       "    <tr>\n",
       "      <th>Subject Perceived Gender</th>\n",
       "      <td>0.00</td>\n",
       "      <td>0</td>\n",
       "      <td>0.0</td>\n",
       "    </tr>\n",
       "    <tr>\n",
       "      <th>Reported Date</th>\n",
       "      <td>0.00</td>\n",
       "      <td>0</td>\n",
       "      <td>0.0</td>\n",
       "    </tr>\n",
       "    <tr>\n",
       "      <th>Reported Time</th>\n",
       "      <td>0.00</td>\n",
       "      <td>0</td>\n",
       "      <td>0.0</td>\n",
       "    </tr>\n",
       "    <tr>\n",
       "      <th>Initial Call Type</th>\n",
       "      <td>0.00</td>\n",
       "      <td>0</td>\n",
       "      <td>0.0</td>\n",
       "    </tr>\n",
       "    <tr>\n",
       "      <th>Final Call Type</th>\n",
       "      <td>0.00</td>\n",
       "      <td>0</td>\n",
       "      <td>0.0</td>\n",
       "    </tr>\n",
       "    <tr>\n",
       "      <th>Call Type</th>\n",
       "      <td>0.00</td>\n",
       "      <td>0</td>\n",
       "      <td>0.0</td>\n",
       "    </tr>\n",
       "    <tr>\n",
       "      <th>Officer Squad</th>\n",
       "      <td>37.78</td>\n",
       "      <td>20729</td>\n",
       "      <td>0.0</td>\n",
       "    </tr>\n",
       "    <tr>\n",
       "      <th>Arrest Flag</th>\n",
       "      <td>0.00</td>\n",
       "      <td>0</td>\n",
       "      <td>0.0</td>\n",
       "    </tr>\n",
       "    <tr>\n",
       "      <th>Frisk Flag</th>\n",
       "      <td>0.00</td>\n",
       "      <td>0</td>\n",
       "      <td>0.0</td>\n",
       "    </tr>\n",
       "    <tr>\n",
       "      <th>Precinct</th>\n",
       "      <td>0.00</td>\n",
       "      <td>0</td>\n",
       "      <td>0.0</td>\n",
       "    </tr>\n",
       "    <tr>\n",
       "      <th>Sector</th>\n",
       "      <td>0.00</td>\n",
       "      <td>0</td>\n",
       "      <td>0.0</td>\n",
       "    </tr>\n",
       "    <tr>\n",
       "      <th>Beat</th>\n",
       "      <td>0.00</td>\n",
       "      <td>0</td>\n",
       "      <td>0.0</td>\n",
       "    </tr>\n",
       "  </tbody>\n",
       "</table>\n",
       "</div>"
      ],
      "text/plain": [
       "                          Missing Values %  Missing Values Count  \\\n",
       "Subject Age Group                     0.00                     0   \n",
       "Subject ID                            0.00                     0   \n",
       "GO / SC Num                           0.00                     0   \n",
       "Terry Stop ID                         0.00                     0   \n",
       "Stop Resolution                       0.00                     0   \n",
       "Weapon Type                           0.00                     0   \n",
       "Officer ID                            0.00                     0   \n",
       "Officer YOB                           0.00                     0   \n",
       "Officer Gender                        0.00                     0   \n",
       "Officer Race                          0.00                     0   \n",
       "Subject Perceived Race                0.00                     0   \n",
       "Subject Perceived Gender              0.00                     0   \n",
       "Reported Date                         0.00                     0   \n",
       "Reported Time                         0.00                     0   \n",
       "Initial Call Type                     0.00                     0   \n",
       "Final Call Type                       0.00                     0   \n",
       "Call Type                             0.00                     0   \n",
       "Officer Squad                        37.78                 20729   \n",
       "Arrest Flag                           0.00                     0   \n",
       "Frisk Flag                            0.00                     0   \n",
       "Precinct                              0.00                     0   \n",
       "Sector                                0.00                     0   \n",
       "Beat                                  0.00                     0   \n",
       "\n",
       "                          Duplicate Values %  \n",
       "Subject Age Group                        0.0  \n",
       "Subject ID                               0.0  \n",
       "GO / SC Num                              0.0  \n",
       "Terry Stop ID                            0.0  \n",
       "Stop Resolution                          0.0  \n",
       "Weapon Type                              0.0  \n",
       "Officer ID                               0.0  \n",
       "Officer YOB                              0.0  \n",
       "Officer Gender                           0.0  \n",
       "Officer Race                             0.0  \n",
       "Subject Perceived Race                   0.0  \n",
       "Subject Perceived Gender                 0.0  \n",
       "Reported Date                            0.0  \n",
       "Reported Time                            0.0  \n",
       "Initial Call Type                        0.0  \n",
       "Final Call Type                          0.0  \n",
       "Call Type                                0.0  \n",
       "Officer Squad                            0.0  \n",
       "Arrest Flag                              0.0  \n",
       "Frisk Flag                               0.0  \n",
       "Precinct                                 0.0  \n",
       "Sector                                   0.0  \n",
       "Beat                                     0.0  "
      ]
     },
     "execution_count": 58,
     "metadata": {},
     "output_type": "execute_result"
    }
   ],
   "source": [
    "def check_duplicates_missing(dataframe):\n",
    "    # calculate percentage of missing values\n",
    "    percent_missing = dataframe.isnull().mean().round(4) * 100\n",
    "    count_missing = dataframe.isnull().sum()\n",
    "    # calculate percentage of duplicate rows\n",
    "    percent_duplicates = dataframe.duplicated().mean() * 100\n",
    "    # create result dataframe\n",
    "    result = pd.DataFrame({'Missing Values %': percent_missing, \n",
    "                           'Missing Values Count': count_missing, \n",
    "                           'Duplicate Values %': percent_duplicates})\n",
    "    # find column with most missing values\n",
    "    if percent_missing.max() !=0:\n",
    "        column_most_missing = percent_missing.idxmax()\n",
    "        print(f\"{(column_most_missing).capitalize()} is the column with null count of\")\n",
    "        print()\n",
    "    else:\n",
    "        print(\"No column with missing values\")\n",
    "    if percent_duplicates.max() !=0:\n",
    "        column_most_duplicates = percent_duplicates.idxmax()\n",
    "        print(\"Column with most duplicates:\",column_most_duplicates)\n",
    "    else:\n",
    "        print(\"No duplicates\")\n",
    "    return result\n",
    "\n",
    "check_duplicates_missing(Tery_stops_df)\n"
   ]
  },
  {
   "cell_type": "markdown",
   "metadata": {},
   "source": [
    "#### 4.4.1.1. Investigate the null values"
   ]
  },
  {
   "cell_type": "code",
   "execution_count": 59,
   "metadata": {},
   "outputs": [
    {
     "data": {
      "text/html": [
       "<div>\n",
       "<style scoped>\n",
       "    .dataframe tbody tr th:only-of-type {\n",
       "        vertical-align: middle;\n",
       "    }\n",
       "\n",
       "    .dataframe tbody tr th {\n",
       "        vertical-align: top;\n",
       "    }\n",
       "\n",
       "    .dataframe thead th {\n",
       "        text-align: right;\n",
       "    }\n",
       "</style>\n",
       "<table border=\"1\" class=\"dataframe\">\n",
       "  <thead>\n",
       "    <tr style=\"text-align: right;\">\n",
       "      <th></th>\n",
       "      <th>unique_values</th>\n",
       "      <th>counts</th>\n",
       "    </tr>\n",
       "  </thead>\n",
       "  <tbody>\n",
       "    <tr>\n",
       "      <th>146</th>\n",
       "      <td>ROBBERY SQUAD B</td>\n",
       "      <td>1</td>\n",
       "    </tr>\n",
       "    <tr>\n",
       "      <th>147</th>\n",
       "      <td>ZOLD CRIME ANALYSIS UNIT - ANALYSTS</td>\n",
       "      <td>1</td>\n",
       "    </tr>\n",
       "    <tr>\n",
       "      <th>148</th>\n",
       "      <td>HUMAN TRAFFICKING - SQUAD A</td>\n",
       "      <td>1</td>\n",
       "    </tr>\n",
       "    <tr>\n",
       "      <th>149</th>\n",
       "      <td>COMMUNITY OUTREACH - SPECIAL PROJECTS DETAIL</td>\n",
       "      <td>1</td>\n",
       "    </tr>\n",
       "    <tr>\n",
       "      <th>150</th>\n",
       "      <td>ROBBERY SQUAD A</td>\n",
       "      <td>1</td>\n",
       "    </tr>\n",
       "    <tr>\n",
       "      <th>151</th>\n",
       "      <td>DV SQUAD C - ELDER ABUSE</td>\n",
       "      <td>1</td>\n",
       "    </tr>\n",
       "    <tr>\n",
       "      <th>152</th>\n",
       "      <td>COMMUNITY OUTREACH - YOUTH VIOLENCE -SCHOOLS D...</td>\n",
       "      <td>1</td>\n",
       "    </tr>\n",
       "  </tbody>\n",
       "</table>\n",
       "</div>"
      ],
      "text/plain": [
       "                                         unique_values  counts\n",
       "146                                    ROBBERY SQUAD B       1\n",
       "147                ZOLD CRIME ANALYSIS UNIT - ANALYSTS       1\n",
       "148                        HUMAN TRAFFICKING - SQUAD A       1\n",
       "149       COMMUNITY OUTREACH - SPECIAL PROJECTS DETAIL       1\n",
       "150                                    ROBBERY SQUAD A       1\n",
       "151                           DV SQUAD C - ELDER ABUSE       1\n",
       "152  COMMUNITY OUTREACH - YOUTH VIOLENCE -SCHOOLS D...       1"
      ]
     },
     "execution_count": 59,
     "metadata": {},
     "output_type": "execute_result"
    }
   ],
   "source": [
    "# check the missing column\n",
    "squad_df = Tery_stops_df[\"Officer Squad\"].value_counts().rename_axis('unique_values').reset_index(name='counts')\n",
    "squad_df.tail(7)"
   ]
  },
  {
   "cell_type": "code",
   "execution_count": 60,
   "metadata": {},
   "outputs": [
    {
     "name": "stdout",
     "output_type": "stream",
     "text": [
      "Missing informaion vs the squad of the officer:\n"
     ]
    },
    {
     "data": {
      "text/html": [
       "<div>\n",
       "<style scoped>\n",
       "    .dataframe tbody tr th:only-of-type {\n",
       "        vertical-align: middle;\n",
       "    }\n",
       "\n",
       "    .dataframe tbody tr th {\n",
       "        vertical-align: top;\n",
       "    }\n",
       "\n",
       "    .dataframe thead th {\n",
       "        text-align: right;\n",
       "    }\n",
       "</style>\n",
       "<table border=\"1\" class=\"dataframe\">\n",
       "  <thead>\n",
       "    <tr style=\"text-align: right;\">\n",
       "      <th>Stop Resolution</th>\n",
       "      <th>Arrest</th>\n",
       "      <th>Citation / Infraction</th>\n",
       "      <th>Field Contact</th>\n",
       "      <th>Offense Report</th>\n",
       "      <th>Referred for Prosecution</th>\n",
       "    </tr>\n",
       "    <tr>\n",
       "      <th>Officer Squad</th>\n",
       "      <th></th>\n",
       "      <th></th>\n",
       "      <th></th>\n",
       "      <th></th>\n",
       "      <th></th>\n",
       "    </tr>\n",
       "  </thead>\n",
       "  <tbody>\n",
       "    <tr>\n",
       "      <th>ALTERNATIVE RESPONSE TEAM (ART) - SQUAD A</th>\n",
       "      <td>NaN</td>\n",
       "      <td>NaN</td>\n",
       "      <td>NaN</td>\n",
       "      <td>1.0</td>\n",
       "      <td>NaN</td>\n",
       "    </tr>\n",
       "    <tr>\n",
       "      <th>ALTERNATIVE RESPONSE TEAM (ART) - SQUAD B</th>\n",
       "      <td>NaN</td>\n",
       "      <td>NaN</td>\n",
       "      <td>NaN</td>\n",
       "      <td>1.0</td>\n",
       "      <td>NaN</td>\n",
       "    </tr>\n",
       "    <tr>\n",
       "      <th>AUTO THEFT</th>\n",
       "      <td>2.0</td>\n",
       "      <td>NaN</td>\n",
       "      <td>1.0</td>\n",
       "      <td>1.0</td>\n",
       "      <td>NaN</td>\n",
       "    </tr>\n",
       "    <tr>\n",
       "      <th>BURG/THEFT/JUV - EAST</th>\n",
       "      <td>NaN</td>\n",
       "      <td>NaN</td>\n",
       "      <td>1.0</td>\n",
       "      <td>4.0</td>\n",
       "      <td>NaN</td>\n",
       "    </tr>\n",
       "    <tr>\n",
       "      <th>BURG/THEFT/JUV - NORTH</th>\n",
       "      <td>NaN</td>\n",
       "      <td>NaN</td>\n",
       "      <td>2.0</td>\n",
       "      <td>1.0</td>\n",
       "      <td>NaN</td>\n",
       "    </tr>\n",
       "    <tr>\n",
       "      <th>...</th>\n",
       "      <td>...</td>\n",
       "      <td>...</td>\n",
       "      <td>...</td>\n",
       "      <td>...</td>\n",
       "      <td>...</td>\n",
       "    </tr>\n",
       "    <tr>\n",
       "      <th>WEST PCT OPS - BURG/THEFT</th>\n",
       "      <td>NaN</td>\n",
       "      <td>NaN</td>\n",
       "      <td>NaN</td>\n",
       "      <td>3.0</td>\n",
       "      <td>NaN</td>\n",
       "    </tr>\n",
       "    <tr>\n",
       "      <th>WEST PCT OPS - CPT</th>\n",
       "      <td>6.0</td>\n",
       "      <td>NaN</td>\n",
       "      <td>13.0</td>\n",
       "      <td>33.0</td>\n",
       "      <td>NaN</td>\n",
       "    </tr>\n",
       "    <tr>\n",
       "      <th>WEST PCT OPS - MOUNTED PATROL</th>\n",
       "      <td>2.0</td>\n",
       "      <td>NaN</td>\n",
       "      <td>4.0</td>\n",
       "      <td>2.0</td>\n",
       "      <td>1.0</td>\n",
       "    </tr>\n",
       "    <tr>\n",
       "      <th>WEST PCT OPS - SEA CTR</th>\n",
       "      <td>NaN</td>\n",
       "      <td>NaN</td>\n",
       "      <td>7.0</td>\n",
       "      <td>3.0</td>\n",
       "      <td>NaN</td>\n",
       "    </tr>\n",
       "    <tr>\n",
       "      <th>ZOLD CRIME ANALYSIS UNIT - ANALYSTS</th>\n",
       "      <td>NaN</td>\n",
       "      <td>NaN</td>\n",
       "      <td>1.0</td>\n",
       "      <td>NaN</td>\n",
       "      <td>NaN</td>\n",
       "    </tr>\n",
       "  </tbody>\n",
       "</table>\n",
       "<p>153 rows × 5 columns</p>\n",
       "</div>"
      ],
      "text/plain": [
       "Stop Resolution                            Arrest  Citation / Infraction  \\\n",
       "Officer Squad                                                              \n",
       "ALTERNATIVE RESPONSE TEAM (ART) - SQUAD A     NaN                    NaN   \n",
       "ALTERNATIVE RESPONSE TEAM (ART) - SQUAD B     NaN                    NaN   \n",
       "AUTO THEFT                                    2.0                    NaN   \n",
       "BURG/THEFT/JUV - EAST                         NaN                    NaN   \n",
       "BURG/THEFT/JUV - NORTH                        NaN                    NaN   \n",
       "...                                           ...                    ...   \n",
       "WEST PCT OPS - BURG/THEFT                     NaN                    NaN   \n",
       "WEST PCT OPS - CPT                            6.0                    NaN   \n",
       "WEST PCT OPS - MOUNTED PATROL                 2.0                    NaN   \n",
       "WEST PCT OPS - SEA CTR                        NaN                    NaN   \n",
       "ZOLD CRIME ANALYSIS UNIT - ANALYSTS           NaN                    NaN   \n",
       "\n",
       "Stop Resolution                            Field Contact  Offense Report  \\\n",
       "Officer Squad                                                              \n",
       "ALTERNATIVE RESPONSE TEAM (ART) - SQUAD A            NaN             1.0   \n",
       "ALTERNATIVE RESPONSE TEAM (ART) - SQUAD B            NaN             1.0   \n",
       "AUTO THEFT                                           1.0             1.0   \n",
       "BURG/THEFT/JUV - EAST                                1.0             4.0   \n",
       "BURG/THEFT/JUV - NORTH                               2.0             1.0   \n",
       "...                                                  ...             ...   \n",
       "WEST PCT OPS - BURG/THEFT                            NaN             3.0   \n",
       "WEST PCT OPS - CPT                                  13.0            33.0   \n",
       "WEST PCT OPS - MOUNTED PATROL                        4.0             2.0   \n",
       "WEST PCT OPS - SEA CTR                               7.0             3.0   \n",
       "ZOLD CRIME ANALYSIS UNIT - ANALYSTS                  1.0             NaN   \n",
       "\n",
       "Stop Resolution                            Referred for Prosecution  \n",
       "Officer Squad                                                        \n",
       "ALTERNATIVE RESPONSE TEAM (ART) - SQUAD A                       NaN  \n",
       "ALTERNATIVE RESPONSE TEAM (ART) - SQUAD B                       NaN  \n",
       "AUTO THEFT                                                      NaN  \n",
       "BURG/THEFT/JUV - EAST                                           NaN  \n",
       "BURG/THEFT/JUV - NORTH                                          NaN  \n",
       "...                                                             ...  \n",
       "WEST PCT OPS - BURG/THEFT                                       NaN  \n",
       "WEST PCT OPS - CPT                                              NaN  \n",
       "WEST PCT OPS - MOUNTED PATROL                                   1.0  \n",
       "WEST PCT OPS - SEA CTR                                          NaN  \n",
       "ZOLD CRIME ANALYSIS UNIT - ANALYSTS                             NaN  \n",
       "\n",
       "[153 rows x 5 columns]"
      ]
     },
     "execution_count": 60,
     "metadata": {},
     "output_type": "execute_result"
    }
   ],
   "source": [
    "# count the number of stop resolutions by squad\n",
    "print(\"Missing informaion vs the squad of the officer:\")\n",
    "squad_counts = Tery_stops_df.groupby(\"Officer Squad\")[\"Stop Resolution\"].value_counts().unstack()\n",
    "squad_counts"
   ]
  },
  {
   "cell_type": "markdown",
   "metadata": {},
   "source": [
    "##### compare officer ID vs the missing information"
   ]
  },
  {
   "cell_type": "code",
   "execution_count": 61,
   "metadata": {},
   "outputs": [],
   "source": [
    "#get the null dataframe\n",
    "null_data = Tery_stops_df[Tery_stops_df.isnull().any(axis=1)]\n"
   ]
  },
  {
   "cell_type": "code",
   "execution_count": 62,
   "metadata": {
    "scrolled": true
   },
   "outputs": [
    {
     "data": {
      "text/html": [
       "<div>\n",
       "<style scoped>\n",
       "    .dataframe tbody tr th:only-of-type {\n",
       "        vertical-align: middle;\n",
       "    }\n",
       "\n",
       "    .dataframe tbody tr th {\n",
       "        vertical-align: top;\n",
       "    }\n",
       "\n",
       "    .dataframe thead th {\n",
       "        text-align: right;\n",
       "    }\n",
       "</style>\n",
       "<table border=\"1\" class=\"dataframe\">\n",
       "  <thead>\n",
       "    <tr style=\"text-align: right;\">\n",
       "      <th></th>\n",
       "      <th>Officer ID</th>\n",
       "      <th>Missing Count</th>\n",
       "    </tr>\n",
       "  </thead>\n",
       "  <tbody>\n",
       "    <tr>\n",
       "      <th>713</th>\n",
       "      <td>8646</td>\n",
       "      <td>314</td>\n",
       "    </tr>\n",
       "    <tr>\n",
       "      <th>238</th>\n",
       "      <td>7456</td>\n",
       "      <td>197</td>\n",
       "    </tr>\n",
       "    <tr>\n",
       "      <th>714</th>\n",
       "      <td>8647</td>\n",
       "      <td>188</td>\n",
       "    </tr>\n",
       "    <tr>\n",
       "      <th>754</th>\n",
       "      <td>8689</td>\n",
       "      <td>184</td>\n",
       "    </tr>\n",
       "    <tr>\n",
       "      <th>758</th>\n",
       "      <td>8696</td>\n",
       "      <td>182</td>\n",
       "    </tr>\n",
       "    <tr>\n",
       "      <th>745</th>\n",
       "      <td>8680</td>\n",
       "      <td>173</td>\n",
       "    </tr>\n",
       "    <tr>\n",
       "      <th>749</th>\n",
       "      <td>8684</td>\n",
       "      <td>142</td>\n",
       "    </tr>\n",
       "  </tbody>\n",
       "</table>\n",
       "</div>"
      ],
      "text/plain": [
       "    Officer ID  Missing Count\n",
       "713       8646            314\n",
       "238       7456            197\n",
       "714       8647            188\n",
       "754       8689            184\n",
       "758       8696            182\n",
       "745       8680            173\n",
       "749       8684            142"
      ]
     },
     "execution_count": 62,
     "metadata": {},
     "output_type": "execute_result"
    }
   ],
   "source": [
    "# group the data by Officer ID\n",
    "grouped = null_data.groupby('Officer ID')\n",
    "\n",
    "# count the number of missing values in each group\n",
    "missing_counts = grouped.apply(lambda x: x.isnull().sum())\n",
    "\n",
    "# get the columns with missing values\n",
    "missing_columns = missing_counts.columns[missing_counts.sum() > 0]\n",
    "\n",
    "# create a new dataframe with the missing counts for each Officer ID\n",
    "missing_df = missing_counts[missing_columns].reset_index()\n",
    "\n",
    "# rename the columns for clarity\n",
    "missing_df.columns = ['Officer ID', 'Missing Count']\n",
    "\n",
    "# compare the number of missing values for each Officer ID\n",
    "missing_df.sort_values(by='Missing Count', ascending=False).head(7)\n"
   ]
  },
  {
   "cell_type": "code",
   "execution_count": 63,
   "metadata": {},
   "outputs": [],
   "source": [
    "# # call count plot functions\n",
    "# count_plot(missing_df, \"Officer ID\", \"Missing Count\")"
   ]
  },
  {
   "cell_type": "markdown",
   "metadata": {},
   "source": [
    "#### What was the outcome of the stops with missing information?."
   ]
  },
  {
   "cell_type": "code",
   "execution_count": 64,
   "metadata": {},
   "outputs": [
    {
     "data": {
      "text/html": [
       "<div>\n",
       "<style scoped>\n",
       "    .dataframe tbody tr th:only-of-type {\n",
       "        vertical-align: middle;\n",
       "    }\n",
       "\n",
       "    .dataframe tbody tr th {\n",
       "        vertical-align: top;\n",
       "    }\n",
       "\n",
       "    .dataframe thead th {\n",
       "        text-align: right;\n",
       "    }\n",
       "</style>\n",
       "<table border=\"1\" class=\"dataframe\">\n",
       "  <thead>\n",
       "    <tr style=\"text-align: right;\">\n",
       "      <th></th>\n",
       "      <th>Officer ID</th>\n",
       "      <th>Stop Resolution</th>\n",
       "      <th>Count</th>\n",
       "    </tr>\n",
       "  </thead>\n",
       "  <tbody>\n",
       "    <tr>\n",
       "      <th>0</th>\n",
       "      <td>-</td>\n",
       "      <td>Arrest</td>\n",
       "      <td>3</td>\n",
       "    </tr>\n",
       "    <tr>\n",
       "      <th>1</th>\n",
       "      <td>-</td>\n",
       "      <td>Field Contact</td>\n",
       "      <td>19</td>\n",
       "    </tr>\n",
       "    <tr>\n",
       "      <th>2</th>\n",
       "      <td>-</td>\n",
       "      <td>Offense Report</td>\n",
       "      <td>2</td>\n",
       "    </tr>\n",
       "    <tr>\n",
       "      <th>3</th>\n",
       "      <td>-9</td>\n",
       "      <td>Arrest</td>\n",
       "      <td>1</td>\n",
       "    </tr>\n",
       "    <tr>\n",
       "      <th>4</th>\n",
       "      <td>-9</td>\n",
       "      <td>Field Contact</td>\n",
       "      <td>4</td>\n",
       "    </tr>\n",
       "  </tbody>\n",
       "</table>\n",
       "</div>"
      ],
      "text/plain": [
       "  Officer ID Stop Resolution  Count\n",
       "0          -          Arrest      3\n",
       "1          -   Field Contact     19\n",
       "2          -  Offense Report      2\n",
       "3         -9          Arrest      1\n",
       "4         -9   Field Contact      4"
      ]
     },
     "execution_count": 64,
     "metadata": {},
     "output_type": "execute_result"
    }
   ],
   "source": [
    "# group the data by Officer ID and Stop Resolution\n",
    "grouped = null_data.groupby([\"Officer ID\", \"Stop Resolution\"]).size().reset_index(name=\"Count\")\n",
    "\n",
    "# preview\n",
    "grouped.head(5)"
   ]
  },
  {
   "cell_type": "markdown",
   "metadata": {},
   "source": [
    "#### 4.4.1.2. Handling Null\n",
    ">I will drop the Officer Squad column because the null values equals to **37.78%**  and the information it contains I will not use for my analysis."
   ]
  },
  {
   "cell_type": "code",
   "execution_count": 65,
   "metadata": {},
   "outputs": [
    {
     "name": "stdout",
     "output_type": "stream",
     "text": [
      "No column with missing values\n",
      "No duplicates\n"
     ]
    },
    {
     "data": {
      "text/html": [
       "<div>\n",
       "<style scoped>\n",
       "    .dataframe tbody tr th:only-of-type {\n",
       "        vertical-align: middle;\n",
       "    }\n",
       "\n",
       "    .dataframe tbody tr th {\n",
       "        vertical-align: top;\n",
       "    }\n",
       "\n",
       "    .dataframe thead th {\n",
       "        text-align: right;\n",
       "    }\n",
       "</style>\n",
       "<table border=\"1\" class=\"dataframe\">\n",
       "  <thead>\n",
       "    <tr style=\"text-align: right;\">\n",
       "      <th></th>\n",
       "      <th>Missing Values %</th>\n",
       "      <th>Missing Values Count</th>\n",
       "      <th>Duplicate Values %</th>\n",
       "    </tr>\n",
       "  </thead>\n",
       "  <tbody>\n",
       "    <tr>\n",
       "      <th>Subject Age Group</th>\n",
       "      <td>0.0</td>\n",
       "      <td>0</td>\n",
       "      <td>0.0</td>\n",
       "    </tr>\n",
       "    <tr>\n",
       "      <th>Subject ID</th>\n",
       "      <td>0.0</td>\n",
       "      <td>0</td>\n",
       "      <td>0.0</td>\n",
       "    </tr>\n",
       "    <tr>\n",
       "      <th>GO / SC Num</th>\n",
       "      <td>0.0</td>\n",
       "      <td>0</td>\n",
       "      <td>0.0</td>\n",
       "    </tr>\n",
       "    <tr>\n",
       "      <th>Terry Stop ID</th>\n",
       "      <td>0.0</td>\n",
       "      <td>0</td>\n",
       "      <td>0.0</td>\n",
       "    </tr>\n",
       "    <tr>\n",
       "      <th>Stop Resolution</th>\n",
       "      <td>0.0</td>\n",
       "      <td>0</td>\n",
       "      <td>0.0</td>\n",
       "    </tr>\n",
       "    <tr>\n",
       "      <th>Weapon Type</th>\n",
       "      <td>0.0</td>\n",
       "      <td>0</td>\n",
       "      <td>0.0</td>\n",
       "    </tr>\n",
       "    <tr>\n",
       "      <th>Officer ID</th>\n",
       "      <td>0.0</td>\n",
       "      <td>0</td>\n",
       "      <td>0.0</td>\n",
       "    </tr>\n",
       "    <tr>\n",
       "      <th>Officer YOB</th>\n",
       "      <td>0.0</td>\n",
       "      <td>0</td>\n",
       "      <td>0.0</td>\n",
       "    </tr>\n",
       "    <tr>\n",
       "      <th>Officer Gender</th>\n",
       "      <td>0.0</td>\n",
       "      <td>0</td>\n",
       "      <td>0.0</td>\n",
       "    </tr>\n",
       "    <tr>\n",
       "      <th>Officer Race</th>\n",
       "      <td>0.0</td>\n",
       "      <td>0</td>\n",
       "      <td>0.0</td>\n",
       "    </tr>\n",
       "    <tr>\n",
       "      <th>Subject Perceived Race</th>\n",
       "      <td>0.0</td>\n",
       "      <td>0</td>\n",
       "      <td>0.0</td>\n",
       "    </tr>\n",
       "    <tr>\n",
       "      <th>Subject Perceived Gender</th>\n",
       "      <td>0.0</td>\n",
       "      <td>0</td>\n",
       "      <td>0.0</td>\n",
       "    </tr>\n",
       "    <tr>\n",
       "      <th>Reported Date</th>\n",
       "      <td>0.0</td>\n",
       "      <td>0</td>\n",
       "      <td>0.0</td>\n",
       "    </tr>\n",
       "    <tr>\n",
       "      <th>Reported Time</th>\n",
       "      <td>0.0</td>\n",
       "      <td>0</td>\n",
       "      <td>0.0</td>\n",
       "    </tr>\n",
       "    <tr>\n",
       "      <th>Initial Call Type</th>\n",
       "      <td>0.0</td>\n",
       "      <td>0</td>\n",
       "      <td>0.0</td>\n",
       "    </tr>\n",
       "    <tr>\n",
       "      <th>Final Call Type</th>\n",
       "      <td>0.0</td>\n",
       "      <td>0</td>\n",
       "      <td>0.0</td>\n",
       "    </tr>\n",
       "    <tr>\n",
       "      <th>Call Type</th>\n",
       "      <td>0.0</td>\n",
       "      <td>0</td>\n",
       "      <td>0.0</td>\n",
       "    </tr>\n",
       "    <tr>\n",
       "      <th>Arrest Flag</th>\n",
       "      <td>0.0</td>\n",
       "      <td>0</td>\n",
       "      <td>0.0</td>\n",
       "    </tr>\n",
       "    <tr>\n",
       "      <th>Frisk Flag</th>\n",
       "      <td>0.0</td>\n",
       "      <td>0</td>\n",
       "      <td>0.0</td>\n",
       "    </tr>\n",
       "    <tr>\n",
       "      <th>Precinct</th>\n",
       "      <td>0.0</td>\n",
       "      <td>0</td>\n",
       "      <td>0.0</td>\n",
       "    </tr>\n",
       "    <tr>\n",
       "      <th>Sector</th>\n",
       "      <td>0.0</td>\n",
       "      <td>0</td>\n",
       "      <td>0.0</td>\n",
       "    </tr>\n",
       "    <tr>\n",
       "      <th>Beat</th>\n",
       "      <td>0.0</td>\n",
       "      <td>0</td>\n",
       "      <td>0.0</td>\n",
       "    </tr>\n",
       "  </tbody>\n",
       "</table>\n",
       "</div>"
      ],
      "text/plain": [
       "                          Missing Values %  Missing Values Count  \\\n",
       "Subject Age Group                      0.0                     0   \n",
       "Subject ID                             0.0                     0   \n",
       "GO / SC Num                            0.0                     0   \n",
       "Terry Stop ID                          0.0                     0   \n",
       "Stop Resolution                        0.0                     0   \n",
       "Weapon Type                            0.0                     0   \n",
       "Officer ID                             0.0                     0   \n",
       "Officer YOB                            0.0                     0   \n",
       "Officer Gender                         0.0                     0   \n",
       "Officer Race                           0.0                     0   \n",
       "Subject Perceived Race                 0.0                     0   \n",
       "Subject Perceived Gender               0.0                     0   \n",
       "Reported Date                          0.0                     0   \n",
       "Reported Time                          0.0                     0   \n",
       "Initial Call Type                      0.0                     0   \n",
       "Final Call Type                        0.0                     0   \n",
       "Call Type                              0.0                     0   \n",
       "Arrest Flag                            0.0                     0   \n",
       "Frisk Flag                             0.0                     0   \n",
       "Precinct                               0.0                     0   \n",
       "Sector                                 0.0                     0   \n",
       "Beat                                   0.0                     0   \n",
       "\n",
       "                          Duplicate Values %  \n",
       "Subject Age Group                        0.0  \n",
       "Subject ID                               0.0  \n",
       "GO / SC Num                              0.0  \n",
       "Terry Stop ID                            0.0  \n",
       "Stop Resolution                          0.0  \n",
       "Weapon Type                              0.0  \n",
       "Officer ID                               0.0  \n",
       "Officer YOB                              0.0  \n",
       "Officer Gender                           0.0  \n",
       "Officer Race                             0.0  \n",
       "Subject Perceived Race                   0.0  \n",
       "Subject Perceived Gender                 0.0  \n",
       "Reported Date                            0.0  \n",
       "Reported Time                            0.0  \n",
       "Initial Call Type                        0.0  \n",
       "Final Call Type                          0.0  \n",
       "Call Type                                0.0  \n",
       "Arrest Flag                              0.0  \n",
       "Frisk Flag                               0.0  \n",
       "Precinct                                 0.0  \n",
       "Sector                                   0.0  \n",
       "Beat                                     0.0  "
      ]
     },
     "execution_count": 65,
     "metadata": {},
     "output_type": "execute_result"
    }
   ],
   "source": [
    "# drop the Officer Squad column\n",
    "No_null_df = Tery_stops_df.drop([\"Officer Squad\"], axis=1)\n",
    "\n",
    "# check to confirm id data still has missing values \n",
    "check_duplicates_missing(No_null_df)"
   ]
  },
  {
   "cell_type": "markdown",
   "metadata": {},
   "source": [
    ">Data all good the null values handled"
   ]
  },
  {
   "cell_type": "markdown",
   "metadata": {},
   "source": [
    "#### 4.4.2. Correcting Data Format\n",
    "This are the steps taken in correcting data format:\n",
    "* Update the Stop Resolution column to either be arrested (1) or not arrested (0)\n",
    "* Change the date column to datetime\n",
    "* Group weapons into firearms vs. non-firearms vs. no weapon:\n",
    "* Change Officer year of bith to give the officer age\n",
    "* To categorize this time as either \"daytime\" or \"nighttime\"\n",
    "* Drop columns that we are not going to need\n",
    "* Converting categorical data to numeric format through label encoder"
   ]
  },
  {
   "cell_type": "markdown",
   "metadata": {},
   "source": [
    "##### * Fix structural error"
   ]
  },
  {
   "cell_type": "code",
   "execution_count": 66,
   "metadata": {},
   "outputs": [
    {
     "data": {
      "text/html": [
       "<div>\n",
       "<style scoped>\n",
       "    .dataframe tbody tr th:only-of-type {\n",
       "        vertical-align: middle;\n",
       "    }\n",
       "\n",
       "    .dataframe tbody tr th {\n",
       "        vertical-align: top;\n",
       "    }\n",
       "\n",
       "    .dataframe thead th {\n",
       "        text-align: right;\n",
       "    }\n",
       "</style>\n",
       "<table border=\"1\" class=\"dataframe\">\n",
       "  <thead>\n",
       "    <tr style=\"text-align: right;\">\n",
       "      <th></th>\n",
       "      <th>Subject Age Group</th>\n",
       "      <th>Subject ID</th>\n",
       "      <th>GO / SC Num</th>\n",
       "      <th>Terry Stop ID</th>\n",
       "      <th>Stop Resolution</th>\n",
       "      <th>Weapon Type</th>\n",
       "      <th>Officer ID</th>\n",
       "      <th>Officer YOB</th>\n",
       "      <th>Officer Gender</th>\n",
       "      <th>Officer Race</th>\n",
       "      <th>...</th>\n",
       "      <th>Reported Date</th>\n",
       "      <th>Reported Time</th>\n",
       "      <th>Initial Call Type</th>\n",
       "      <th>Final Call Type</th>\n",
       "      <th>Call Type</th>\n",
       "      <th>Arrest Flag</th>\n",
       "      <th>Frisk Flag</th>\n",
       "      <th>Precinct</th>\n",
       "      <th>Sector</th>\n",
       "      <th>Beat</th>\n",
       "    </tr>\n",
       "  </thead>\n",
       "  <tbody>\n",
       "    <tr>\n",
       "      <th>0</th>\n",
       "      <td>26 - 35</td>\n",
       "      <td>-1</td>\n",
       "      <td>20160000004638</td>\n",
       "      <td>207171</td>\n",
       "      <td>Field Contact</td>\n",
       "      <td>None</td>\n",
       "      <td>6970</td>\n",
       "      <td>1968</td>\n",
       "      <td>M</td>\n",
       "      <td>White</td>\n",
       "      <td>...</td>\n",
       "      <td>2016-10-31T00:00:00Z</td>\n",
       "      <td>01:23:00.0000000</td>\n",
       "      <td>No Information</td>\n",
       "      <td>No Information</td>\n",
       "      <td>No Information</td>\n",
       "      <td>N</td>\n",
       "      <td>N</td>\n",
       "      <td>No Information</td>\n",
       "      <td>No Information</td>\n",
       "      <td>No Information</td>\n",
       "    </tr>\n",
       "    <tr>\n",
       "      <th>1</th>\n",
       "      <td>18 - 25</td>\n",
       "      <td>-1</td>\n",
       "      <td>20180000352673</td>\n",
       "      <td>484084</td>\n",
       "      <td>Offense Report</td>\n",
       "      <td>None</td>\n",
       "      <td>7794</td>\n",
       "      <td>1991</td>\n",
       "      <td>M</td>\n",
       "      <td>White</td>\n",
       "      <td>...</td>\n",
       "      <td>2018-09-22T00:00:00Z</td>\n",
       "      <td>06:45:00.0000000</td>\n",
       "      <td>TRESPASS</td>\n",
       "      <td>TRESPASS</td>\n",
       "      <td>TELEPHONE OTHER, NOT 911</td>\n",
       "      <td>N</td>\n",
       "      <td>N</td>\n",
       "      <td>North</td>\n",
       "      <td>L</td>\n",
       "      <td>L2</td>\n",
       "    </tr>\n",
       "    <tr>\n",
       "      <th>2</th>\n",
       "      <td>26 - 35</td>\n",
       "      <td>-1</td>\n",
       "      <td>20170000399165</td>\n",
       "      <td>325847</td>\n",
       "      <td>Offense Report</td>\n",
       "      <td>None</td>\n",
       "      <td>7795</td>\n",
       "      <td>1992</td>\n",
       "      <td>M</td>\n",
       "      <td>Hispanic or Latino</td>\n",
       "      <td>...</td>\n",
       "      <td>2017-10-27T00:00:00Z</td>\n",
       "      <td>17:28:00.0000000</td>\n",
       "      <td>BURG - RES (INCL UNOCC STRUCTURES ON PROP)</td>\n",
       "      <td>--BURGLARY - RESIDENTIAL, UNOCCUPIED</td>\n",
       "      <td>911</td>\n",
       "      <td>N</td>\n",
       "      <td>N</td>\n",
       "      <td>East</td>\n",
       "      <td>C</td>\n",
       "      <td>C1</td>\n",
       "    </tr>\n",
       "  </tbody>\n",
       "</table>\n",
       "<p>3 rows × 22 columns</p>\n",
       "</div>"
      ],
      "text/plain": [
       "  Subject Age Group  Subject ID     GO / SC Num  Terry Stop ID  \\\n",
       "0           26 - 35          -1  20160000004638         207171   \n",
       "1           18 - 25          -1  20180000352673         484084   \n",
       "2           26 - 35          -1  20170000399165         325847   \n",
       "\n",
       "  Stop Resolution Weapon Type Officer ID  Officer YOB Officer Gender  \\\n",
       "0   Field Contact        None       6970         1968              M   \n",
       "1  Offense Report        None       7794         1991              M   \n",
       "2  Offense Report        None       7795         1992              M   \n",
       "\n",
       "         Officer Race  ...         Reported Date     Reported Time  \\\n",
       "0               White  ...  2016-10-31T00:00:00Z  01:23:00.0000000   \n",
       "1               White  ...  2018-09-22T00:00:00Z  06:45:00.0000000   \n",
       "2  Hispanic or Latino  ...  2017-10-27T00:00:00Z  17:28:00.0000000   \n",
       "\n",
       "                            Initial Call Type  \\\n",
       "0                              No Information   \n",
       "1                                    TRESPASS   \n",
       "2  BURG - RES (INCL UNOCC STRUCTURES ON PROP)   \n",
       "\n",
       "                        Final Call Type                 Call Type Arrest Flag  \\\n",
       "0                        No Information            No Information           N   \n",
       "1                              TRESPASS  TELEPHONE OTHER, NOT 911           N   \n",
       "2  --BURGLARY - RESIDENTIAL, UNOCCUPIED                       911           N   \n",
       "\n",
       "  Frisk Flag        Precinct          Sector            Beat  \n",
       "0          N  No Information  No Information  No Information  \n",
       "1          N           North               L              L2  \n",
       "2          N            East               C              C1  \n",
       "\n",
       "[3 rows x 22 columns]"
      ]
     },
     "execution_count": 66,
     "metadata": {},
     "output_type": "execute_result"
    }
   ],
   "source": [
    "# replace with new stings\n",
    "No_null_df = No_null_df.replace([\"-\"], \"No Information\")\n",
    "No_null_df.head(3)"
   ]
  },
  {
   "cell_type": "markdown",
   "metadata": {},
   "source": [
    "##### * Update the Stop Resolution column to binary"
   ]
  },
  {
   "cell_type": "code",
   "execution_count": 67,
   "metadata": {},
   "outputs": [
    {
     "name": "stdout",
     "output_type": "stream",
     "text": [
      "before:\n",
      "{'Arrest', 'Referred for Prosecution', 'Field Contact', 'Offense Report', 'Citation / Infraction'}\n",
      "\n",
      "after:\n",
      "{0, 1}\n"
     ]
    }
   ],
   "source": [
    "# get unique values in stop resolution\n",
    "stop_resolution_unique = set(No_null_df[\"Stop Resolution\"])\n",
    "print(f\"before:\\n{stop_resolution_unique}\")\n",
    "\n",
    "# update to binary the colum values\n",
    "values = ['Arrest', 'Citation / Infraction', 'Field Contact', 'Offense Report', 'Referred for Prosecution']\n",
    "conversion_dict = {val: 1 if val == 'Arrest' else 0 for val in values}\n",
    "\n",
    "# update column in data frame\n",
    "No_null_df[\"Stop Resolution\"] = No_null_df[\"Stop Resolution\"].map(conversion_dict)\n",
    "print()\n",
    "# check data type after update\n",
    "new_stop_resolution_unique = set(No_null_df[\"Stop Resolution\"])\n",
    "print(f\"after:\\n{new_stop_resolution_unique}\")"
   ]
  },
  {
   "cell_type": "markdown",
   "metadata": {},
   "source": [
    "##### * Change the Reported Date column from object to datetime .\n",
    "\n",
    "The data description, Reported Date, is the date the report was filed in the Records Management System (RMS). Not necessarily the date of the stop, but generally within one day.\n",
    "Convert to date time so that I checked how different days and years affected the targert column"
   ]
  },
  {
   "cell_type": "code",
   "execution_count": 68,
   "metadata": {},
   "outputs": [],
   "source": [
    "# convert to datetime type\n",
    "No_null_df['Reported Date'] = pd.to_datetime(No_null_df['Reported Date'])\n",
    "\n",
    "# extract day\n",
    "No_null_df['Day'] = No_null_df['Reported Date'].dt.day\n",
    "# extract year\n",
    "No_null_df['Year'] = No_null_df['Reported Date'].dt.year\n",
    "\n",
    "#\n",
    "No_null_df['Month'] = No_null_df['Reported Date'].dt.month.map({1:'January',2:'February',3:'March',4:'April',5:'May',6:'June',7:'July'\n",
    "                                               ,8:'August',9:'September',10:'October',11:'November',12:'December'})\n"
   ]
  },
  {
   "cell_type": "markdown",
   "metadata": {},
   "source": [
    ">There are columns for the day, month and year for each of the Terry-stops in te datammset"
   ]
  },
  {
   "cell_type": "markdown",
   "metadata": {},
   "source": [
    "##### * Group weapons"
   ]
  },
  {
   "cell_type": "markdown",
   "metadata": {},
   "source": [
    "##### What is a firearm?"
   ]
  },
  {
   "cell_type": "markdown",
   "metadata": {},
   "source": [
    ">The general classification of firearms can be based on the following criteria: Level of harm they produce. Lethal - designed with the intent to eventually kill the target. Non-lethal - designed with the intent to scare or incapacitate the target, without killing or producing major, irreversible injuries."
   ]
  },
  {
   "cell_type": "markdown",
   "metadata": {},
   "source": [
    "This column shwed a list of the type weapons if any, identified during a search or frisk of the subject. Indicates \"None\" if no weapons was found."
   ]
  },
  {
   "cell_type": "code",
   "execution_count": 69,
   "metadata": {},
   "outputs": [
    {
     "name": "stdout",
     "output_type": "stream",
     "text": [
      "These are the weapon classes :\n"
     ]
    },
    {
     "data": {
      "text/plain": [
       "['None',\n",
       " 'No Information',\n",
       " 'Lethal Cutting Instrument',\n",
       " 'Knife/Cutting/Stabbing Instrument',\n",
       " 'Handgun',\n",
       " 'Blunt Object/Striking Implement',\n",
       " 'Firearm Other',\n",
       " 'Firearm',\n",
       " 'Club, Blackjack, Brass Knuckles',\n",
       " 'Other Firearm',\n",
       " 'Mace/Pepper Spray',\n",
       " 'Firearm (unk type)',\n",
       " 'Taser/Stun Gun',\n",
       " 'None/Not Applicable',\n",
       " 'Fire/Incendiary Device',\n",
       " 'Club',\n",
       " 'Rifle',\n",
       " 'Shotgun',\n",
       " 'Automatic Handgun',\n",
       " 'Personal Weapons (hands, feet, etc.)',\n",
       " 'Brass Knuckles',\n",
       " 'Blackjack']"
      ]
     },
     "execution_count": 69,
     "metadata": {},
     "output_type": "execute_result"
    }
   ],
   "source": [
    "# gets weapons category\n",
    "weapons = list(dict(No_null_df['Weapon Type'].value_counts()).keys())\n",
    "print(\"These are the weapon classes :\")\n",
    "weapons"
   ]
  },
  {
   "cell_type": "markdown",
   "metadata": {},
   "source": [
    "I will convert the firearm category to binary, it will be Firearm is designed with the intent to eventually kill the target and Non Firearm if designed with the intent to scare or incapacitate the target, without killing or producing major, irreversible injuries. "
   ]
  },
  {
   "cell_type": "code",
   "execution_count": 70,
   "metadata": {},
   "outputs": [],
   "source": [
    "# map the new values to the weapon found column\n",
    "No_null_df['Weapon Type'] = No_null_df['Weapon Type'].map(\n",
    "{\n",
    " 'None': 'Non Firearm',\n",
    " '-': 'Non Firearm',\n",
    " 'Lethal Cutting Instrument': 'Non Firearm',\n",
    " 'Knife/Cutting/Stabbing Instrument': 'Non Firearm',\n",
    " 'Handgun': 'Firearm',\n",
    " 'Blunt Object/Striking Implement': 'Non Firearm',\n",
    " 'Firearm Other': 'Firearm',\n",
    " 'Firearm': 'Firearm',\n",
    " 'Club, Blackjack, Brass Knuckles': 'Non Firearm',\n",
    " 'Other Firearm': 'Firearm',\n",
    " 'Mace/Pepper Spray': 'Non Firearm',\n",
    " 'Firearm (unk type)': 'Firearm',\n",
    " 'Taser/Stun Gun': 'Non Firearm',\n",
    " 'None/Not Applicable': 'Non Firearm',\n",
    " 'Fire/Incendiary Device': 'Non Firearm',\n",
    " 'Club': 'Non Firearm',\n",
    " 'Rifle': 'Firearm',\n",
    " 'Shotgun': 'Firearm',\n",
    " 'Automatic Handgun': 'Firearm',\n",
    " 'Personal Weapons (hands, feet, etc.)': 'Non Firearm',\n",
    " 'Brass Knuckles': 'Non Firearm',\n",
    " 'Blackjack': 'Non Firearm'\n",
    " })"
   ]
  },
  {
   "cell_type": "markdown",
   "metadata": {},
   "source": [
    "Most of the weapons were classified as Non Firearm"
   ]
  },
  {
   "cell_type": "markdown",
   "metadata": {},
   "source": [
    "##### * Get  officer age using YOB"
   ]
  },
  {
   "cell_type": "code",
   "execution_count": 71,
   "metadata": {},
   "outputs": [
    {
     "data": {
      "text/html": [
       "<div>\n",
       "<style scoped>\n",
       "    .dataframe tbody tr th:only-of-type {\n",
       "        vertical-align: middle;\n",
       "    }\n",
       "\n",
       "    .dataframe tbody tr th {\n",
       "        vertical-align: top;\n",
       "    }\n",
       "\n",
       "    .dataframe thead th {\n",
       "        text-align: right;\n",
       "    }\n",
       "</style>\n",
       "<table border=\"1\" class=\"dataframe\">\n",
       "  <thead>\n",
       "    <tr style=\"text-align: right;\">\n",
       "      <th></th>\n",
       "      <th>Stop Resolution</th>\n",
       "      <th>Officer Age</th>\n",
       "    </tr>\n",
       "  </thead>\n",
       "  <tbody>\n",
       "    <tr>\n",
       "      <th>54866</th>\n",
       "      <td>0</td>\n",
       "      <td>44</td>\n",
       "    </tr>\n",
       "    <tr>\n",
       "      <th>54867</th>\n",
       "      <td>0</td>\n",
       "      <td>60</td>\n",
       "    </tr>\n",
       "    <tr>\n",
       "      <th>54868</th>\n",
       "      <td>0</td>\n",
       "      <td>36</td>\n",
       "    </tr>\n",
       "    <tr>\n",
       "      <th>54869</th>\n",
       "      <td>0</td>\n",
       "      <td>37</td>\n",
       "    </tr>\n",
       "    <tr>\n",
       "      <th>54870</th>\n",
       "      <td>1</td>\n",
       "      <td>40</td>\n",
       "    </tr>\n",
       "    <tr>\n",
       "      <th>54871</th>\n",
       "      <td>0</td>\n",
       "      <td>59</td>\n",
       "    </tr>\n",
       "    <tr>\n",
       "      <th>54872</th>\n",
       "      <td>0</td>\n",
       "      <td>54</td>\n",
       "    </tr>\n",
       "  </tbody>\n",
       "</table>\n",
       "</div>"
      ],
      "text/plain": [
       "       Stop Resolution  Officer Age\n",
       "54866                0           44\n",
       "54867                0           60\n",
       "54868                0           36\n",
       "54869                0           37\n",
       "54870                1           40\n",
       "54871                0           59\n",
       "54872                0           54"
      ]
     },
     "execution_count": 71,
     "metadata": {},
     "output_type": "execute_result"
    }
   ],
   "source": [
    "# get age by subtracting from current year \n",
    "No_null_df['Officer Age'] = 2023 - No_null_df[\"Officer YOB\"]\n",
    "\n",
    "# preview\n",
    "No_null_df[[\"Stop Resolution\", \"Officer Age\"]].tail(7)"
   ]
  },
  {
   "cell_type": "markdown",
   "metadata": {},
   "source": [
    "##### * Convert time to binary"
   ]
  },
  {
   "cell_type": "code",
   "execution_count": 72,
   "metadata": {},
   "outputs": [],
   "source": [
    "# function to split time column and extract hour and group as night or dat\n",
    "def categorize_time(column):\n",
    "    def categorize_time_helper(time):\n",
    "        hour = int(time.split(\":\")[0])\n",
    "        if hour >= 6 and hour < 18:\n",
    "            return \"Day\"\n",
    "        else:\n",
    "            return \"Night\"\n",
    "\n",
    "    return column.apply(categorize_time_helper)\n",
    "\n",
    "No_null_df[\"Time Category\"] = categorize_time(No_null_df[\"Reported Time\"])    "
   ]
  },
  {
   "cell_type": "code",
   "execution_count": 73,
   "metadata": {},
   "outputs": [],
   "source": [
    "# ages considered as categorical, convert oficcer age  column to object\n",
    "No_null_df[\"Officer Age\"] = No_null_df[\"Officer Age\"].astype(\"object\")\n"
   ]
  },
  {
   "cell_type": "markdown",
   "metadata": {},
   "source": [
    "##### Drop irrelevant columns"
   ]
  },
  {
   "cell_type": "code",
   "execution_count": 74,
   "metadata": {},
   "outputs": [
    {
     "name": "stdout",
     "output_type": "stream",
     "text": [
      "<class 'pandas.core.frame.DataFrame'>\n",
      "RangeIndex: 54873 entries, 0 to 54872\n",
      "Data columns (total 12 columns):\n",
      " #   Column             Non-Null Count  Dtype \n",
      "---  ------             --------------  ----- \n",
      " 0   Subject Age Group  54873 non-null  object\n",
      " 1   Stop Resolution    54873 non-null  int64 \n",
      " 2   Weapon Type        35956 non-null  object\n",
      " 3   Arrest Flag        54873 non-null  object\n",
      " 4   Frisk Flag         54873 non-null  object\n",
      " 5   Precinct           54873 non-null  object\n",
      " 6   Sector             54873 non-null  object\n",
      " 7   Beat               54873 non-null  object\n",
      " 8   Year               54873 non-null  int64 \n",
      " 9   Month              54873 non-null  object\n",
      " 10  Officer Age        54873 non-null  object\n",
      " 11  Time Category      54873 non-null  object\n",
      "dtypes: int64(2), object(10)\n",
      "memory usage: 5.0+ MB\n"
     ]
    }
   ],
   "source": [
    "# columns to be dropped\n",
    "irrelevant_columns = [\n",
    "    'Subject ID',\n",
    "    'GO / SC Num',\n",
    "    'Terry Stop ID',\n",
    "    'Officer YOB',\n",
    "    'Reported Date',\n",
    "    'Officer ID',\n",
    "    'Officer Gender',\n",
    "    'Officer Race',\n",
    "    'Subject Perceived Race',\n",
    "    'Subject Perceived Gender',\n",
    "    'Reported Time',\n",
    "    'Final Call Type',\n",
    "    'Call Type',\n",
    "    'Initial Call Type',\n",
    "    'Officer YOB',\n",
    "    'Day'\n",
    "    \n",
    "]\n",
    "\n",
    "df = No_null_df.drop(irrelevant_columns, axis=1)\n",
    "df.info()"
   ]
  },
  {
   "cell_type": "markdown",
   "metadata": {},
   "source": [
    "## 4.5. Exploratory Data Analysis"
   ]
  },
  {
   "cell_type": "markdown",
   "metadata": {},
   "source": [
    "The dataset has an additional columns, during data processing I feature engineered columns to help in better understanding of any underlying patterns that would help make better predictions.\n",
    "\n",
    "There are some columns that I will not use in my analysis and I drop the at this point, part of  final preparation before modelling.I'd like to point out that I'll be removing the subject's race and gender because these are only perceived by the officer and thus their accuracy cannot be trusted."
   ]
  },
  {
   "cell_type": "code",
   "execution_count": 75,
   "metadata": {},
   "outputs": [],
   "source": [
    "import pandas as pd\n",
    "import matplotlib.pyplot as plt\n",
    "\n",
    "def univariate_analysis(dataframe):\n",
    "    for column in dataframe.columns:\n",
    "        if dataframe[column].dtype == 'int64' or dataframe[column].dtype == 'float64':\n",
    "            plt.hist(dataframe[column], bins=10, edgecolor='black')\n",
    "            plt.title(f'Histogram of {column}')\n",
    "            plt.xlabel(column)\n",
    "            plt.ylabel('Frequency')\n",
    "            plt.grid(True, linestyle='--')\n",
    "            plt.show()\n",
    "        elif dataframe[column].dtype == 'object':\n",
    "            value_counts = dataframe[column].value_counts()\n",
    "            plt.bar(value_counts.index, value_counts.values)\n",
    "            plt.title(f'Bar chart of {column}')\n",
    "            plt.xlabel(column)\n",
    "            plt.ylabel('Frequency')\n",
    "            plt.xticks(rotation=90)\n",
    "            plt.grid(True, linestyle='--')\n",
    "            plt.show()\n",
    "\n"
   ]
  },
  {
   "cell_type": "markdown",
   "metadata": {},
   "source": [
    "##### Distribution of the data"
   ]
  },
  {
   "cell_type": "code",
   "execution_count": 76,
   "metadata": {},
   "outputs": [
    {
     "data": {
      "image/png": "[encoded data removed]",
      "text/plain": [
       "<Figure size 432x288 with 1 Axes>"
      ]
     },
     "metadata": {
      "needs_background": "light"
     },
     "output_type": "display_data"
    },
    {
     "data": {
      "image/png": "[encoded data removed]",
      "text/plain": [
       "<Figure size 432x288 with 1 Axes>"
      ]
     },
     "metadata": {
      "needs_background": "light"
     },
     "output_type": "display_data"
    },
    {
     "data": {
      "image/png": "[encoded data removed]",
      "text/plain": [
       "<Figure size 432x288 with 1 Axes>"
      ]
     },
     "metadata": {
      "needs_background": "light"
     },
     "output_type": "display_data"
    },
    {
     "data": {
      "image/png": "[encoded data removed]",
      "text/plain": [
       "<Figure size 432x288 with 1 Axes>"
      ]
     },
     "metadata": {
      "needs_background": "light"
     },
     "output_type": "display_data"
    },
    {
     "data": {
      "image/png": "[encoded data removed]",
      "text/plain": [
       "<Figure size 432x288 with 1 Axes>"
      ]
     },
     "metadata": {
      "needs_background": "light"
     },
     "output_type": "display_data"
    },
    {
     "data": {
      "image/png": "[encoded data removed]",
      "text/plain": [
       "<Figure size 432x288 with 1 Axes>"
      ]
     },
     "metadata": {
      "needs_background": "light"
     },
     "output_type": "display_data"
    },
    {
     "data": {
      "image/png": "[encoded data removed]",
      "text/plain": [
       "<Figure size 432x288 with 1 Axes>"
      ]
     },
     "metadata": {
      "needs_background": "light"
     },
     "output_type": "display_data"
    },
    {
     "data": {
      "image/png": "[encoded data removed]",
      "text/plain": [
       "<Figure size 432x288 with 1 Axes>"
      ]
     },
     "metadata": {
      "needs_background": "light"
     },
     "output_type": "display_data"
    },
    {
     "data": {
      "image/png": "[encoded data removed]",
      "text/plain": [
       "<Figure size 432x288 with 1 Axes>"
      ]
     },
     "metadata": {
      "needs_background": "light"
     },
     "output_type": "display_data"
    },
    {
     "data": {
      "image/png": "[encoded data removed]",
      "text/plain": [
       "<Figure size 432x288 with 1 Axes>"
      ]
     },
     "metadata": {
      "needs_background": "light"
     },
     "output_type": "display_data"
    },
    {
     "data": {
      "image/png": "[encoded data removed]",
      "text/plain": [
       "<Figure size 432x288 with 1 Axes>"
      ]
     },
     "metadata": {
      "needs_background": "light"
     },
     "output_type": "display_data"
    },
    {
     "data": {
      "image/png": "[encoded data removed]",
      "text/plain": [
       "<Figure size 432x288 with 1 Axes>"
      ]
     },
     "metadata": {
      "needs_background": "light"
     },
     "output_type": "display_data"
    }
   ],
   "source": [
    "# calling our function\n",
    "univariate_analysis(df)\n"
   ]
  },
  {
   "cell_type": "markdown",
   "metadata": {},
   "source": [
    "##### Categorical columns"
   ]
  },
  {
   "cell_type": "markdown",
   "metadata": {},
   "source": [
    ">Most subjects had weapon type not firearm.....m"
   ]
  },
  {
   "cell_type": "markdown",
   "metadata": {},
   "source": [
    ">Most fire arms were during the night"
   ]
  },
  {
   "cell_type": "code",
   "execution_count": 78,
   "metadata": {},
   "outputs": [
    {
     "data": {
      "image/png": "[encoded data removed]",
      "text/plain": [
       "<Figure size 864x576 with 1 Axes>"
      ]
     },
     "metadata": {
      "needs_background": "light"
     },
     "output_type": "display_data"
    }
   ],
   "source": [
    "# calling the function\n",
    "count_plot(df, \"Stop Resolution\", \"Time Category\")"
   ]
  },
  {
   "cell_type": "markdown",
   "metadata": {},
   "source": [
    ">Most arrest were made at nigh"
   ]
  },
  {
   "cell_type": "markdown",
   "metadata": {},
   "source": [
    "#### Data Prepocessing"
   ]
  },
  {
   "cell_type": "code",
   "execution_count": 83,
   "metadata": {},
   "outputs": [],
   "source": [
    "# get categorical columns\n",
    "cat_cols = df.select_dtypes(include='object')\n",
    "\n",
    "# get numerical columns\n",
    "num_cols = df.select_dtypes(include=['float64', 'int64'])\n"
   ]
  },
  {
   "cell_type": "code",
   "execution_count": 84,
   "metadata": {},
   "outputs": [
    {
     "data": {
      "text/html": [
       "<div>\n",
       "<style scoped>\n",
       "    .dataframe tbody tr th:only-of-type {\n",
       "        vertical-align: middle;\n",
       "    }\n",
       "\n",
       "    .dataframe tbody tr th {\n",
       "        vertical-align: top;\n",
       "    }\n",
       "\n",
       "    .dataframe thead th {\n",
       "        text-align: right;\n",
       "    }\n",
       "</style>\n",
       "<table border=\"1\" class=\"dataframe\">\n",
       "  <thead>\n",
       "    <tr style=\"text-align: right;\">\n",
       "      <th></th>\n",
       "      <th>Subject Age Group</th>\n",
       "      <th>Weapon Type</th>\n",
       "      <th>Arrest Flag</th>\n",
       "      <th>Frisk Flag</th>\n",
       "      <th>Precinct</th>\n",
       "      <th>Sector</th>\n",
       "      <th>Beat</th>\n",
       "      <th>Month</th>\n",
       "      <th>Officer Age</th>\n",
       "      <th>Time Category</th>\n",
       "    </tr>\n",
       "  </thead>\n",
       "  <tbody>\n",
       "    <tr>\n",
       "      <th>0</th>\n",
       "      <td>26 - 35</td>\n",
       "      <td>Non Firearm</td>\n",
       "      <td>N</td>\n",
       "      <td>N</td>\n",
       "      <td>No Information</td>\n",
       "      <td>No Information</td>\n",
       "      <td>No Information</td>\n",
       "      <td>October</td>\n",
       "      <td>55</td>\n",
       "      <td>Night</td>\n",
       "    </tr>\n",
       "    <tr>\n",
       "      <th>1</th>\n",
       "      <td>18 - 25</td>\n",
       "      <td>Non Firearm</td>\n",
       "      <td>N</td>\n",
       "      <td>N</td>\n",
       "      <td>North</td>\n",
       "      <td>L</td>\n",
       "      <td>L2</td>\n",
       "      <td>September</td>\n",
       "      <td>32</td>\n",
       "      <td>Day</td>\n",
       "    </tr>\n",
       "    <tr>\n",
       "      <th>2</th>\n",
       "      <td>26 - 35</td>\n",
       "      <td>Non Firearm</td>\n",
       "      <td>N</td>\n",
       "      <td>N</td>\n",
       "      <td>East</td>\n",
       "      <td>C</td>\n",
       "      <td>C1</td>\n",
       "      <td>October</td>\n",
       "      <td>31</td>\n",
       "      <td>Day</td>\n",
       "    </tr>\n",
       "    <tr>\n",
       "      <th>3</th>\n",
       "      <td>1 - 17</td>\n",
       "      <td>NaN</td>\n",
       "      <td>Y</td>\n",
       "      <td>N</td>\n",
       "      <td>West</td>\n",
       "      <td>Q</td>\n",
       "      <td>Q3</td>\n",
       "      <td>March</td>\n",
       "      <td>36</td>\n",
       "      <td>Night</td>\n",
       "    </tr>\n",
       "    <tr>\n",
       "      <th>4</th>\n",
       "      <td>56 and Above</td>\n",
       "      <td>Non Firearm</td>\n",
       "      <td>N</td>\n",
       "      <td>N</td>\n",
       "      <td>No Information</td>\n",
       "      <td>No Information</td>\n",
       "      <td>No Information</td>\n",
       "      <td>January</td>\n",
       "      <td>48</td>\n",
       "      <td>Day</td>\n",
       "    </tr>\n",
       "    <tr>\n",
       "      <th>...</th>\n",
       "      <td>...</td>\n",
       "      <td>...</td>\n",
       "      <td>...</td>\n",
       "      <td>...</td>\n",
       "      <td>...</td>\n",
       "      <td>...</td>\n",
       "      <td>...</td>\n",
       "      <td>...</td>\n",
       "      <td>...</td>\n",
       "      <td>...</td>\n",
       "    </tr>\n",
       "    <tr>\n",
       "      <th>54868</th>\n",
       "      <td>26 - 35</td>\n",
       "      <td>Non Firearm</td>\n",
       "      <td>N</td>\n",
       "      <td>N</td>\n",
       "      <td>West</td>\n",
       "      <td>M</td>\n",
       "      <td>M1</td>\n",
       "      <td>June</td>\n",
       "      <td>36</td>\n",
       "      <td>Night</td>\n",
       "    </tr>\n",
       "    <tr>\n",
       "      <th>54869</th>\n",
       "      <td>26 - 35</td>\n",
       "      <td>Non Firearm</td>\n",
       "      <td>N</td>\n",
       "      <td>N</td>\n",
       "      <td>South</td>\n",
       "      <td>R</td>\n",
       "      <td>R1</td>\n",
       "      <td>May</td>\n",
       "      <td>37</td>\n",
       "      <td>Day</td>\n",
       "    </tr>\n",
       "    <tr>\n",
       "      <th>54870</th>\n",
       "      <td>18 - 25</td>\n",
       "      <td>Non Firearm</td>\n",
       "      <td>Y</td>\n",
       "      <td>Y</td>\n",
       "      <td>East</td>\n",
       "      <td>E</td>\n",
       "      <td>E2</td>\n",
       "      <td>September</td>\n",
       "      <td>40</td>\n",
       "      <td>Night</td>\n",
       "    </tr>\n",
       "    <tr>\n",
       "      <th>54871</th>\n",
       "      <td>26 - 35</td>\n",
       "      <td>Non Firearm</td>\n",
       "      <td>N</td>\n",
       "      <td>Y</td>\n",
       "      <td>North</td>\n",
       "      <td>U</td>\n",
       "      <td>U1</td>\n",
       "      <td>August</td>\n",
       "      <td>59</td>\n",
       "      <td>Night</td>\n",
       "    </tr>\n",
       "    <tr>\n",
       "      <th>54872</th>\n",
       "      <td>18 - 25</td>\n",
       "      <td>Non Firearm</td>\n",
       "      <td>N</td>\n",
       "      <td>N</td>\n",
       "      <td>North</td>\n",
       "      <td>L</td>\n",
       "      <td>L3</td>\n",
       "      <td>October</td>\n",
       "      <td>54</td>\n",
       "      <td>Day</td>\n",
       "    </tr>\n",
       "  </tbody>\n",
       "</table>\n",
       "<p>54873 rows × 10 columns</p>\n",
       "</div>"
      ],
      "text/plain": [
       "      Subject Age Group  Weapon Type Arrest Flag Frisk Flag        Precinct  \\\n",
       "0               26 - 35  Non Firearm           N          N  No Information   \n",
       "1               18 - 25  Non Firearm           N          N           North   \n",
       "2               26 - 35  Non Firearm           N          N            East   \n",
       "3                1 - 17          NaN           Y          N            West   \n",
       "4          56 and Above  Non Firearm           N          N  No Information   \n",
       "...                 ...          ...         ...        ...             ...   \n",
       "54868           26 - 35  Non Firearm           N          N            West   \n",
       "54869           26 - 35  Non Firearm           N          N           South   \n",
       "54870           18 - 25  Non Firearm           Y          Y            East   \n",
       "54871           26 - 35  Non Firearm           N          Y           North   \n",
       "54872           18 - 25  Non Firearm           N          N           North   \n",
       "\n",
       "               Sector            Beat      Month Officer Age Time Category  \n",
       "0      No Information  No Information    October          55         Night  \n",
       "1                   L              L2  September          32           Day  \n",
       "2                   C              C1    October          31           Day  \n",
       "3                   Q              Q3      March          36         Night  \n",
       "4      No Information  No Information    January          48           Day  \n",
       "...               ...             ...        ...         ...           ...  \n",
       "54868               M              M1       June          36         Night  \n",
       "54869               R              R1        May          37           Day  \n",
       "54870               E              E2  September          40         Night  \n",
       "54871               U              U1     August          59         Night  \n",
       "54872               L              L3    October          54           Day  \n",
       "\n",
       "[54873 rows x 10 columns]"
      ]
     },
     "execution_count": 84,
     "metadata": {},
     "output_type": "execute_result"
    }
   ],
   "source": [
    "cat_cols"
   ]
  },
  {
   "cell_type": "markdown",
   "metadata": {},
   "source": [
    "###### Convert categorical columns using OneHotEncoding"
   ]
  },
  {
   "cell_type": "code",
   "execution_count": 85,
   "metadata": {},
   "outputs": [
    {
     "data": {
      "text/html": [
       "<div>\n",
       "<style scoped>\n",
       "    .dataframe tbody tr th:only-of-type {\n",
       "        vertical-align: middle;\n",
       "    }\n",
       "\n",
       "    .dataframe tbody tr th {\n",
       "        vertical-align: top;\n",
       "    }\n",
       "\n",
       "    .dataframe thead th {\n",
       "        text-align: right;\n",
       "    }\n",
       "</style>\n",
       "<table border=\"1\" class=\"dataframe\">\n",
       "  <thead>\n",
       "    <tr style=\"text-align: right;\">\n",
       "      <th></th>\n",
       "      <th>Subject Age Group_1 - 17</th>\n",
       "      <th>Subject Age Group_18 - 25</th>\n",
       "      <th>Subject Age Group_26 - 35</th>\n",
       "      <th>Subject Age Group_36 - 45</th>\n",
       "      <th>Subject Age Group_46 - 55</th>\n",
       "      <th>Subject Age Group_56 and Above</th>\n",
       "      <th>Subject Age Group_No Information</th>\n",
       "      <th>Weapon Type_Firearm</th>\n",
       "      <th>Weapon Type_Non Firearm</th>\n",
       "      <th>Weapon Type_nan</th>\n",
       "      <th>...</th>\n",
       "      <th>Officer Age_71</th>\n",
       "      <th>Officer Age_72</th>\n",
       "      <th>Officer Age_74</th>\n",
       "      <th>Officer Age_75</th>\n",
       "      <th>Officer Age_77</th>\n",
       "      <th>Officer Age_123</th>\n",
       "      <th>Time Category_Day</th>\n",
       "      <th>Time Category_Night</th>\n",
       "      <th>Stop Resolution</th>\n",
       "      <th>Year</th>\n",
       "    </tr>\n",
       "  </thead>\n",
       "  <tbody>\n",
       "    <tr>\n",
       "      <th>54870</th>\n",
       "      <td>0.0</td>\n",
       "      <td>1.0</td>\n",
       "      <td>0.0</td>\n",
       "      <td>0.0</td>\n",
       "      <td>0.0</td>\n",
       "      <td>0.0</td>\n",
       "      <td>0.0</td>\n",
       "      <td>0.0</td>\n",
       "      <td>1.0</td>\n",
       "      <td>0.0</td>\n",
       "      <td>...</td>\n",
       "      <td>0.0</td>\n",
       "      <td>0.0</td>\n",
       "      <td>0.0</td>\n",
       "      <td>0.0</td>\n",
       "      <td>0.0</td>\n",
       "      <td>0.0</td>\n",
       "      <td>0.0</td>\n",
       "      <td>1.0</td>\n",
       "      <td>1</td>\n",
       "      <td>2021</td>\n",
       "    </tr>\n",
       "    <tr>\n",
       "      <th>54871</th>\n",
       "      <td>0.0</td>\n",
       "      <td>0.0</td>\n",
       "      <td>1.0</td>\n",
       "      <td>0.0</td>\n",
       "      <td>0.0</td>\n",
       "      <td>0.0</td>\n",
       "      <td>0.0</td>\n",
       "      <td>0.0</td>\n",
       "      <td>1.0</td>\n",
       "      <td>0.0</td>\n",
       "      <td>...</td>\n",
       "      <td>0.0</td>\n",
       "      <td>0.0</td>\n",
       "      <td>0.0</td>\n",
       "      <td>0.0</td>\n",
       "      <td>0.0</td>\n",
       "      <td>0.0</td>\n",
       "      <td>0.0</td>\n",
       "      <td>1.0</td>\n",
       "      <td>0</td>\n",
       "      <td>2019</td>\n",
       "    </tr>\n",
       "    <tr>\n",
       "      <th>54872</th>\n",
       "      <td>0.0</td>\n",
       "      <td>1.0</td>\n",
       "      <td>0.0</td>\n",
       "      <td>0.0</td>\n",
       "      <td>0.0</td>\n",
       "      <td>0.0</td>\n",
       "      <td>0.0</td>\n",
       "      <td>0.0</td>\n",
       "      <td>1.0</td>\n",
       "      <td>0.0</td>\n",
       "      <td>...</td>\n",
       "      <td>0.0</td>\n",
       "      <td>0.0</td>\n",
       "      <td>0.0</td>\n",
       "      <td>0.0</td>\n",
       "      <td>0.0</td>\n",
       "      <td>0.0</td>\n",
       "      <td>1.0</td>\n",
       "      <td>0.0</td>\n",
       "      <td>0</td>\n",
       "      <td>2018</td>\n",
       "    </tr>\n",
       "  </tbody>\n",
       "</table>\n",
       "<p>3 rows × 168 columns</p>\n",
       "</div>"
      ],
      "text/plain": [
       "       Subject Age Group_1 - 17  Subject Age Group_18 - 25  \\\n",
       "54870                       0.0                        1.0   \n",
       "54871                       0.0                        0.0   \n",
       "54872                       0.0                        1.0   \n",
       "\n",
       "       Subject Age Group_26 - 35  Subject Age Group_36 - 45  \\\n",
       "54870                        0.0                        0.0   \n",
       "54871                        1.0                        0.0   \n",
       "54872                        0.0                        0.0   \n",
       "\n",
       "       Subject Age Group_46 - 55  Subject Age Group_56 and Above  \\\n",
       "54870                        0.0                             0.0   \n",
       "54871                        0.0                             0.0   \n",
       "54872                        0.0                             0.0   \n",
       "\n",
       "       Subject Age Group_No Information  Weapon Type_Firearm  \\\n",
       "54870                               0.0                  0.0   \n",
       "54871                               0.0                  0.0   \n",
       "54872                               0.0                  0.0   \n",
       "\n",
       "       Weapon Type_Non Firearm  Weapon Type_nan  ...  Officer Age_71  \\\n",
       "54870                      1.0              0.0  ...             0.0   \n",
       "54871                      1.0              0.0  ...             0.0   \n",
       "54872                      1.0              0.0  ...             0.0   \n",
       "\n",
       "       Officer Age_72  Officer Age_74  Officer Age_75  Officer Age_77  \\\n",
       "54870             0.0             0.0             0.0             0.0   \n",
       "54871             0.0             0.0             0.0             0.0   \n",
       "54872             0.0             0.0             0.0             0.0   \n",
       "\n",
       "       Officer Age_123  Time Category_Day  Time Category_Night  \\\n",
       "54870              0.0                0.0                  1.0   \n",
       "54871              0.0                0.0                  1.0   \n",
       "54872              0.0                1.0                  0.0   \n",
       "\n",
       "       Stop Resolution  Year  \n",
       "54870                1  2021  \n",
       "54871                0  2019  \n",
       "54872                0  2018  \n",
       "\n",
       "[3 rows x 168 columns]"
      ]
     },
     "execution_count": 85,
     "metadata": {},
     "output_type": "execute_result"
    }
   ],
   "source": [
    "# import relevant libraries\n",
    "from sklearn.preprocessing import OneHotEncoder\n",
    "\n",
    "# one-hot encode the training data\n",
    "ohe = OneHotEncoder()\n",
    "\n",
    "# get dummies\n",
    "ohe.fit(cat_cols)\n",
    "dums = ohe.transform(cat_cols).toarray()\n",
    "\n",
    "# create a dataframe with both training and testing data to be used later:\n",
    "cat_dums = pd.DataFrame(dums, columns=ohe.get_feature_names_out(cat_cols.columns))\n",
    "num_cols\n",
    "\n",
    "\n",
    "final_df= pd.concat([cat_dums, num_cols], axis=1)\n",
    "\n",
    "# preview final data set for modelling\n",
    "final_df.tail(3)"
   ]
  },
  {
   "cell_type": "code",
   "execution_count": 86,
   "metadata": {},
   "outputs": [],
   "source": [
    "# set predictors\n",
    "X  = final_df.drop([\"Stop Resolution\"], axis=1)\n",
    "\n",
    "# set target\n",
    "y = final_df[[\"Stop Resolution\"]]"
   ]
  },
  {
   "cell_type": "code",
   "execution_count": 88,
   "metadata": {},
   "outputs": [
    {
     "data": {
      "text/html": [
       "<div>\n",
       "<style scoped>\n",
       "    .dataframe tbody tr th:only-of-type {\n",
       "        vertical-align: middle;\n",
       "    }\n",
       "\n",
       "    .dataframe tbody tr th {\n",
       "        vertical-align: top;\n",
       "    }\n",
       "\n",
       "    .dataframe thead th {\n",
       "        text-align: right;\n",
       "    }\n",
       "</style>\n",
       "<table border=\"1\" class=\"dataframe\">\n",
       "  <thead>\n",
       "    <tr style=\"text-align: right;\">\n",
       "      <th></th>\n",
       "      <th>Subject Age Group_1 - 17</th>\n",
       "      <th>Subject Age Group_18 - 25</th>\n",
       "      <th>Subject Age Group_26 - 35</th>\n",
       "      <th>Subject Age Group_36 - 45</th>\n",
       "      <th>Subject Age Group_46 - 55</th>\n",
       "      <th>Subject Age Group_56 and Above</th>\n",
       "      <th>Subject Age Group_No Information</th>\n",
       "      <th>Weapon Type_Firearm</th>\n",
       "      <th>Weapon Type_Non Firearm</th>\n",
       "      <th>Weapon Type_nan</th>\n",
       "      <th>...</th>\n",
       "      <th>Officer Age_70</th>\n",
       "      <th>Officer Age_71</th>\n",
       "      <th>Officer Age_72</th>\n",
       "      <th>Officer Age_74</th>\n",
       "      <th>Officer Age_75</th>\n",
       "      <th>Officer Age_77</th>\n",
       "      <th>Officer Age_123</th>\n",
       "      <th>Time Category_Day</th>\n",
       "      <th>Time Category_Night</th>\n",
       "      <th>Year</th>\n",
       "    </tr>\n",
       "  </thead>\n",
       "  <tbody>\n",
       "    <tr>\n",
       "      <th>54869</th>\n",
       "      <td>0.0</td>\n",
       "      <td>0.0</td>\n",
       "      <td>1.0</td>\n",
       "      <td>0.0</td>\n",
       "      <td>0.0</td>\n",
       "      <td>0.0</td>\n",
       "      <td>0.0</td>\n",
       "      <td>0.0</td>\n",
       "      <td>1.0</td>\n",
       "      <td>0.0</td>\n",
       "      <td>...</td>\n",
       "      <td>0.0</td>\n",
       "      <td>0.0</td>\n",
       "      <td>0.0</td>\n",
       "      <td>0.0</td>\n",
       "      <td>0.0</td>\n",
       "      <td>0.0</td>\n",
       "      <td>0.0</td>\n",
       "      <td>1.0</td>\n",
       "      <td>0.0</td>\n",
       "      <td>2017</td>\n",
       "    </tr>\n",
       "    <tr>\n",
       "      <th>54870</th>\n",
       "      <td>0.0</td>\n",
       "      <td>1.0</td>\n",
       "      <td>0.0</td>\n",
       "      <td>0.0</td>\n",
       "      <td>0.0</td>\n",
       "      <td>0.0</td>\n",
       "      <td>0.0</td>\n",
       "      <td>0.0</td>\n",
       "      <td>1.0</td>\n",
       "      <td>0.0</td>\n",
       "      <td>...</td>\n",
       "      <td>0.0</td>\n",
       "      <td>0.0</td>\n",
       "      <td>0.0</td>\n",
       "      <td>0.0</td>\n",
       "      <td>0.0</td>\n",
       "      <td>0.0</td>\n",
       "      <td>0.0</td>\n",
       "      <td>0.0</td>\n",
       "      <td>1.0</td>\n",
       "      <td>2021</td>\n",
       "    </tr>\n",
       "    <tr>\n",
       "      <th>54871</th>\n",
       "      <td>0.0</td>\n",
       "      <td>0.0</td>\n",
       "      <td>1.0</td>\n",
       "      <td>0.0</td>\n",
       "      <td>0.0</td>\n",
       "      <td>0.0</td>\n",
       "      <td>0.0</td>\n",
       "      <td>0.0</td>\n",
       "      <td>1.0</td>\n",
       "      <td>0.0</td>\n",
       "      <td>...</td>\n",
       "      <td>0.0</td>\n",
       "      <td>0.0</td>\n",
       "      <td>0.0</td>\n",
       "      <td>0.0</td>\n",
       "      <td>0.0</td>\n",
       "      <td>0.0</td>\n",
       "      <td>0.0</td>\n",
       "      <td>0.0</td>\n",
       "      <td>1.0</td>\n",
       "      <td>2019</td>\n",
       "    </tr>\n",
       "    <tr>\n",
       "      <th>54872</th>\n",
       "      <td>0.0</td>\n",
       "      <td>1.0</td>\n",
       "      <td>0.0</td>\n",
       "      <td>0.0</td>\n",
       "      <td>0.0</td>\n",
       "      <td>0.0</td>\n",
       "      <td>0.0</td>\n",
       "      <td>0.0</td>\n",
       "      <td>1.0</td>\n",
       "      <td>0.0</td>\n",
       "      <td>...</td>\n",
       "      <td>0.0</td>\n",
       "      <td>0.0</td>\n",
       "      <td>0.0</td>\n",
       "      <td>0.0</td>\n",
       "      <td>0.0</td>\n",
       "      <td>0.0</td>\n",
       "      <td>0.0</td>\n",
       "      <td>1.0</td>\n",
       "      <td>0.0</td>\n",
       "      <td>2018</td>\n",
       "    </tr>\n",
       "  </tbody>\n",
       "</table>\n",
       "<p>4 rows × 167 columns</p>\n",
       "</div>"
      ],
      "text/plain": [
       "       Subject Age Group_1 - 17  Subject Age Group_18 - 25  \\\n",
       "54869                       0.0                        0.0   \n",
       "54870                       0.0                        1.0   \n",
       "54871                       0.0                        0.0   \n",
       "54872                       0.0                        1.0   \n",
       "\n",
       "       Subject Age Group_26 - 35  Subject Age Group_36 - 45  \\\n",
       "54869                        1.0                        0.0   \n",
       "54870                        0.0                        0.0   \n",
       "54871                        1.0                        0.0   \n",
       "54872                        0.0                        0.0   \n",
       "\n",
       "       Subject Age Group_46 - 55  Subject Age Group_56 and Above  \\\n",
       "54869                        0.0                             0.0   \n",
       "54870                        0.0                             0.0   \n",
       "54871                        0.0                             0.0   \n",
       "54872                        0.0                             0.0   \n",
       "\n",
       "       Subject Age Group_No Information  Weapon Type_Firearm  \\\n",
       "54869                               0.0                  0.0   \n",
       "54870                               0.0                  0.0   \n",
       "54871                               0.0                  0.0   \n",
       "54872                               0.0                  0.0   \n",
       "\n",
       "       Weapon Type_Non Firearm  Weapon Type_nan  ...  Officer Age_70  \\\n",
       "54869                      1.0              0.0  ...             0.0   \n",
       "54870                      1.0              0.0  ...             0.0   \n",
       "54871                      1.0              0.0  ...             0.0   \n",
       "54872                      1.0              0.0  ...             0.0   \n",
       "\n",
       "       Officer Age_71  Officer Age_72  Officer Age_74  Officer Age_75  \\\n",
       "54869             0.0             0.0             0.0             0.0   \n",
       "54870             0.0             0.0             0.0             0.0   \n",
       "54871             0.0             0.0             0.0             0.0   \n",
       "54872             0.0             0.0             0.0             0.0   \n",
       "\n",
       "       Officer Age_77  Officer Age_123  Time Category_Day  \\\n",
       "54869             0.0              0.0                1.0   \n",
       "54870             0.0              0.0                0.0   \n",
       "54871             0.0              0.0                0.0   \n",
       "54872             0.0              0.0                1.0   \n",
       "\n",
       "       Time Category_Night  Year  \n",
       "54869                  0.0  2017  \n",
       "54870                  1.0  2021  \n",
       "54871                  1.0  2019  \n",
       "54872                  0.0  2018  \n",
       "\n",
       "[4 rows x 167 columns]"
      ]
     },
     "execution_count": 88,
     "metadata": {},
     "output_type": "execute_result"
    }
   ],
   "source": [
    "# preview predictors\n",
    "X.tail(4)"
   ]
  },
  {
   "cell_type": "code",
   "execution_count": 89,
   "metadata": {},
   "outputs": [
    {
     "data": {
      "text/html": [
       "<div>\n",
       "<style scoped>\n",
       "    .dataframe tbody tr th:only-of-type {\n",
       "        vertical-align: middle;\n",
       "    }\n",
       "\n",
       "    .dataframe tbody tr th {\n",
       "        vertical-align: top;\n",
       "    }\n",
       "\n",
       "    .dataframe thead th {\n",
       "        text-align: right;\n",
       "    }\n",
       "</style>\n",
       "<table border=\"1\" class=\"dataframe\">\n",
       "  <thead>\n",
       "    <tr style=\"text-align: right;\">\n",
       "      <th></th>\n",
       "      <th>Stop Resolution</th>\n",
       "    </tr>\n",
       "  </thead>\n",
       "  <tbody>\n",
       "    <tr>\n",
       "      <th>54869</th>\n",
       "      <td>0</td>\n",
       "    </tr>\n",
       "    <tr>\n",
       "      <th>54870</th>\n",
       "      <td>1</td>\n",
       "    </tr>\n",
       "    <tr>\n",
       "      <th>54871</th>\n",
       "      <td>0</td>\n",
       "    </tr>\n",
       "    <tr>\n",
       "      <th>54872</th>\n",
       "      <td>0</td>\n",
       "    </tr>\n",
       "  </tbody>\n",
       "</table>\n",
       "</div>"
      ],
      "text/plain": [
       "       Stop Resolution\n",
       "54869                0\n",
       "54870                1\n",
       "54871                0\n",
       "54872                0"
      ]
     },
     "execution_count": 89,
     "metadata": {},
     "output_type": "execute_result"
    }
   ],
   "source": [
    "# preiview target\n",
    "y.tail(4)"
   ]
  },
  {
   "cell_type": "markdown",
   "metadata": {},
   "source": [
    "##### Split datasets"
   ]
  },
  {
   "cell_type": "code",
   "execution_count": 90,
   "metadata": {},
   "outputs": [],
   "source": [
    "# import relevant library\n",
    "from sklearn.model_selection import train_test_split\n",
    "\n",
    "# perform the tarin split\n",
    "X_train, X_test, y_train, y_test = train_test_split(X, y, test_size = 0.33, random_state = 0)"
   ]
  },
  {
   "cell_type": "markdown",
   "metadata": {},
   "source": [
    ">Data was split on the 80% training while test at 20%"
   ]
  },
  {
   "cell_type": "markdown",
   "metadata": {},
   "source": [
    "##### Correlation with the Target colum"
   ]
  },
  {
   "cell_type": "markdown",
   "metadata": {},
   "source": [
    "# 5.0. Modelling\n",
    "\n",
    ">Is this a classification task? \n",
    "What models will we try?\n",
    "How do we deal with overfitting?\n",
    "Do we need to use regularization or not?\n",
    "What sort of validation strategy will we be using to check that our model works well on unseen data?\n",
    "What loss functions will we use?\n",
    "What threshold of performance do we consider as successful?"
   ]
  },
  {
   "cell_type": "markdown",
   "metadata": {},
   "source": [
    "Binary classification is a type of machine learning problem where the goal is to predict one of two possible outcomes (classes) for each input sample. The two classes are here are  represented by labels, \"1\" and \"0\".\n",
    "I will build four models and pick the best based on the accuracy metrics.\n",
    "1. Baseline model --> Logistic Regression\n",
    "2. Second Model --> k-Nearest Neighbors (k-NN)\n",
    "3. Third Model --> Decision Trees\n",
    "4. Fourh --> XGbost/Random Forest\n",
    "\n",
    "\n",
    "The the accuracy of the model's predictions is  to compare its predictions to the true class labels for a set of test data. Evaluation metrics include accuracy, precision, recall, and F1-score."
   ]
  },
  {
   "cell_type": "markdown",
   "metadata": {},
   "source": [
    "### Baseline Model\n",
    "    Logistic REgression Model"
   ]
  },
  {
   "cell_type": "code",
   "execution_count": 91,
   "metadata": {},
   "outputs": [],
   "source": [
    "# import relevant libraries\n",
    "from sklearn.linear_model import LogisticRegression\n",
    "\n",
    "# baseline classifier\n",
    "Baseline = LogisticRegression(max_iter=300)\n",
    "\n",
    "# fit the model\n",
    "Baseline.fit(X_train, y_train.values.ravel())\n",
    "\n",
    "# get predictions\n",
    "y_pred = Baseline.predict(X_test)"
   ]
  },
  {
   "cell_type": "markdown",
   "metadata": {},
   "source": [
    "### Evaluate Baseline model on test data"
   ]
  },
  {
   "cell_type": "code",
   "execution_count": 93,
   "metadata": {},
   "outputs": [
    {
     "name": "stdout",
     "output_type": "stream",
     "text": [
      "0.8492547056903492\n"
     ]
    }
   ],
   "source": [
    "# baseline model score\n",
    "print(Baseline.score(X_train, y_train))\n"
   ]
  },
  {
   "cell_type": "code",
   "execution_count": 96,
   "metadata": {},
   "outputs": [
    {
     "name": "stderr",
     "output_type": "stream",
     "text": [
      "/home/munyao/snap/jupyter/common/lib/python3.7/site-packages/sklearn/utils/deprecation.py:87: FutureWarning: Function plot_confusion_matrix is deprecated; Function `plot_confusion_matrix` is deprecated in 1.0 and will be removed in 1.2. Use one of the class methods: ConfusionMatrixDisplay.from_predictions or ConfusionMatrixDisplay.from_estimator.\n",
      "  warnings.warn(msg, category=FutureWarning)\n"
     ]
    },
    {
     "data": {
      "image/png": "[encoded data removed]",
      "text/plain": [
       "<Figure size 432x288 with 2 Axes>"
      ]
     },
     "metadata": {
      "needs_background": "light"
     },
     "output_type": "display_data"
    }
   ],
   "source": [
    "# import relevant libraries\n",
    "from sklearn import metrics\n",
    "\n",
    "# confusion matrix\n",
    "confusion_base = metrics.plot_confusion_matrix(Baseline, X_test, y_test, cmap= \"GnBu\")"
   ]
  },
  {
   "cell_type": "markdown",
   "metadata": {},
   "source": [
    "### Evaluate Baseline on unseen data"
   ]
  },
  {
   "cell_type": "code",
   "execution_count": 94,
   "metadata": {},
   "outputs": [
    {
     "name": "stdout",
     "output_type": "stream",
     "text": [
      "Baseline:  84.99641062455133 %\n",
      "              precision    recall  f1-score   support\n",
      "\n",
      "           0       0.84      0.99      0.91     13694\n",
      "           1       0.93      0.41      0.57      4415\n",
      "\n",
      "    accuracy                           0.85     18109\n",
      "   macro avg       0.89      0.70      0.74     18109\n",
      "weighted avg       0.86      0.85      0.83     18109\n",
      "\n"
     ]
    }
   ],
   "source": [
    "from sklearn.metrics import classification_report\n",
    "from sklearn.metrics import accuracy_score\n",
    "\n",
    "# get predictons\n",
    "prob = Baseline.predict_proba(X_test)\n",
    "\n",
    "predicted= Baseline.predict(X_test)\n",
    "\n",
    "# baseline model accuracy:\n",
    "print(\"Baseline: \", accuracy_score(y_test, predicted)*100,'%')\n",
    "\n",
    "# classification report:\n",
    "print(classification_report(y_test, predicted))"
   ]
  },
  {
   "cell_type": "markdown",
   "metadata": {},
   "source": [
    "#### function to evaluate model perfomance"
   ]
  },
  {
   "cell_type": "markdown",
   "metadata": {},
   "source": [
    "### Second Model \n",
    "    k-Nearest Neighbors (k-NN)"
   ]
  },
  {
   "cell_type": "code",
   "execution_count": 99,
   "metadata": {},
   "outputs": [
    {
     "name": "stderr",
     "output_type": "stream",
     "text": [
      "/home/munyao/snap/jupyter/common/lib/python3.7/site-packages/sklearn/neighbors/_classification.py:198: DataConversionWarning: A column-vector y was passed when a 1d array was expected. Please change the shape of y to (n_samples,), for example using ravel().\n",
      "  return self._fit(X, y)\n"
     ]
    },
    {
     "name": "stdout",
     "output_type": "stream",
     "text": [
      "              precision    recall  f1-score   support\n",
      "\n",
      "           0       0.87      0.92      0.89     13694\n",
      "           1       0.69      0.58      0.63      4415\n",
      "\n",
      "    accuracy                           0.83     18109\n",
      "   macro avg       0.78      0.75      0.76     18109\n",
      "weighted avg       0.83      0.83      0.83     18109\n",
      "\n"
     ]
    }
   ],
   "source": [
    "# import relevant libraries\n",
    "from sklearn.neighbors import KNeighborsClassifier\n",
    "\n",
    "# model\n",
    "knn_model2 = KNeighborsClassifier(n_neighbors=3)\n",
    "\n",
    "# fit the model\n",
    "knn_model2.fit(X_train, y_train)\n",
    "\n",
    "# make predictions\n",
    "pred_y = knn_model2.predict(X_test)\n",
    "\n",
    "# classification report:\n",
    "print(classification_report(y_test, pred_y))"
   ]
  },
  {
   "cell_type": "code",
   "execution_count": 100,
   "metadata": {},
   "outputs": [
    {
     "name": "stderr",
     "output_type": "stream",
     "text": [
      "/home/munyao/snap/jupyter/common/lib/python3.7/site-packages/sklearn/utils/deprecation.py:87: FutureWarning: Function plot_confusion_matrix is deprecated; Function `plot_confusion_matrix` is deprecated in 1.0 and will be removed in 1.2. Use one of the class methods: ConfusionMatrixDisplay.from_predictions or ConfusionMatrixDisplay.from_estimator.\n",
      "  warnings.warn(msg, category=FutureWarning)\n"
     ]
    },
    {
     "data": {
      "image/png": "[encoded data removed]",
      "text/plain": [
       "<Figure size 432x288 with 2 Axes>"
      ]
     },
     "metadata": {
      "needs_background": "light"
     },
     "output_type": "display_data"
    }
   ],
   "source": [
    "# confusion matrix\n",
    "confusion_base = metrics.plot_confusion_matrix(knn_model2, X_test, y_test, cmap= \"GnBu\")"
   ]
  },
  {
   "cell_type": "markdown",
   "metadata": {},
   "source": [
    "### Third Model \n",
    "    Decision Trees"
   ]
  },
  {
   "cell_type": "code",
   "execution_count": 103,
   "metadata": {},
   "outputs": [
    {
     "name": "stdout",
     "output_type": "stream",
     "text": [
      "              precision    recall  f1-score   support\n",
      "\n",
      "           0       0.89      0.89      0.89     13694\n",
      "           1       0.67      0.66      0.66      4415\n",
      "\n",
      "    accuracy                           0.84     18109\n",
      "   macro avg       0.78      0.78      0.78     18109\n",
      "weighted avg       0.84      0.84      0.84     18109\n",
      "\n"
     ]
    }
   ],
   "source": [
    "# import relevant libraries\n",
    "from sklearn.tree import DecisionTreeClassifier\n",
    "\n",
    "# model\n",
    "dtc_model3 = DecisionTreeClassifier()\n",
    "\n",
    "#fit the model with training data\n",
    "dtc_model3.fit(X_train, y_train)\n",
    "\n",
    "# get predictions from model\n",
    "dtc_pred = dtc_model3.predict(X_test)\n",
    "\n",
    "# classification report:\n",
    "print(classification_report(y_test, dtc_pred))"
   ]
  },
  {
   "cell_type": "markdown",
   "metadata": {},
   "source": [
    "#### Random forest Model"
   ]
  },
  {
   "cell_type": "code",
   "execution_count": 105,
   "metadata": {},
   "outputs": [
    {
     "name": "stderr",
     "output_type": "stream",
     "text": [
      "/snap/jupyter/6/lib/python3.7/site-packages/ipykernel_launcher.py:8: DataConversionWarning: A column-vector y was passed when a 1d array was expected. Please change the shape of y to (n_samples,), for example using ravel().\n",
      "  \n"
     ]
    },
    {
     "name": "stdout",
     "output_type": "stream",
     "text": [
      "              precision    recall  f1-score   support\n",
      "\n",
      "           0       0.87      0.96      0.91     13694\n",
      "           1       0.81      0.57      0.67      4415\n",
      "\n",
      "    accuracy                           0.86     18109\n",
      "   macro avg       0.84      0.76      0.79     18109\n",
      "weighted avg       0.86      0.86      0.85     18109\n",
      "\n"
     ]
    }
   ],
   "source": [
    "# import relevant libraries\n",
    "from sklearn.ensemble import RandomForestClassifier\n",
    "\n",
    "# class model\n",
    "rfc_model4 = RandomForestClassifier()\n",
    "\n",
    "# fit the model with training set\n",
    "rfc_model4.fit(X_train, y_train)\n",
    "\n",
    "# test model with unseen data\n",
    "rfc_preds = rfc_model4.predict(X_test)\n",
    "\n",
    "\n",
    "# classification report:\n",
    "print(classification_report(y_test, rfc_preds))"
   ]
  },
  {
   "cell_type": "code",
   "execution_count": 107,
   "metadata": {},
   "outputs": [
    {
     "name": "stderr",
     "output_type": "stream",
     "text": [
      "/home/munyao/snap/jupyter/common/lib/python3.7/site-packages/sklearn/utils/deprecation.py:87: FutureWarning: Function plot_confusion_matrix is deprecated; Function `plot_confusion_matrix` is deprecated in 1.0 and will be removed in 1.2. Use one of the class methods: ConfusionMatrixDisplay.from_predictions or ConfusionMatrixDisplay.from_estimator.\n",
      "  warnings.warn(msg, category=FutureWarning)\n"
     ]
    },
    {
     "data": {
      "image/png": "[encoded data removed]",
      "text/plain": [
       "<Figure size 432x288 with 2 Axes>"
      ]
     },
     "metadata": {
      "needs_background": "light"
     },
     "output_type": "display_data"
    }
   ],
   "source": [
    "# confusion matrix\n",
    "confusion_base = metrics.plot_confusion_matrix(rfc_model4, X_test, y_test, cmap= \"GnBu\")"
   ]
  },
  {
   "cell_type": "markdown",
   "metadata": {},
   "source": [
    "### Naive Bayes"
   ]
  },
  {
   "cell_type": "code",
   "execution_count": 110,
   "metadata": {},
   "outputs": [
    {
     "name": "stderr",
     "output_type": "stream",
     "text": [
      "/home/munyao/snap/jupyter/common/lib/python3.7/site-packages/sklearn/utils/validation.py:993: DataConversionWarning: A column-vector y was passed when a 1d array was expected. Please change the shape of y to (n_samples, ), for example using ravel().\n",
      "  y = column_or_1d(y, warn=True)\n"
     ]
    },
    {
     "name": "stdout",
     "output_type": "stream",
     "text": [
      "              precision    recall  f1-score   support\n",
      "\n",
      "           0       0.97      0.29      0.45     13694\n",
      "           1       0.31      0.98      0.47      4415\n",
      "\n",
      "    accuracy                           0.46     18109\n",
      "   macro avg       0.64      0.63      0.46     18109\n",
      "weighted avg       0.81      0.46      0.45     18109\n",
      "\n"
     ]
    },
    {
     "name": "stderr",
     "output_type": "stream",
     "text": [
      "/home/munyao/snap/jupyter/common/lib/python3.7/site-packages/sklearn/utils/deprecation.py:87: FutureWarning: Function plot_confusion_matrix is deprecated; Function `plot_confusion_matrix` is deprecated in 1.0 and will be removed in 1.2. Use one of the class methods: ConfusionMatrixDisplay.from_predictions or ConfusionMatrixDisplay.from_estimator.\n",
      "  warnings.warn(msg, category=FutureWarning)\n"
     ]
    },
    {
     "data": {
      "image/png": "[encoded data removed]",
      "text/plain": [
       "<Figure size 432x288 with 2 Axes>"
      ]
     },
     "metadata": {
      "needs_background": "light"
     },
     "output_type": "display_data"
    }
   ],
   "source": [
    "# import rwlwvant libraries\n",
    "from sklearn.naive_bayes import GaussianNB\n",
    "\n",
    "# model class\n",
    "gnb_model5 = GaussianNB()\n",
    "\n",
    "# fit model with train set\n",
    "gnb_model5.fit(X_train,y_train)\n",
    "\n",
    "# make predictions\n",
    "gnb_preds = gnb_model5.predict(X_test)\n",
    "\n",
    "# classification report:\n",
    "print(classification_report(y_test, gnb_preds))\n",
    "\n",
    "# confusion matrix\n",
    "confusion_base = metrics.plot_confusion_matrix(gnb_model5, X_test, y_test, cmap= \"GnBu\")"
   ]
  },
  {
   "cell_type": "code",
   "execution_count": null,
   "metadata": {},
   "outputs": [],
   "source": [
    "categorical_df.corr().T"
   ]
  },
  {
   "cell_type": "code",
   "execution_count": null,
   "metadata": {},
   "outputs": [],
   "source": [
    "columns_dtypes(Tery_stops_df)"
   ]
  },
  {
   "cell_type": "code",
   "execution_count": null,
   "metadata": {},
   "outputs": [],
   "source": []
  }
 ],
 "metadata": {
  "kernelspec": {
   "display_name": "Python 3",
   "language": "python",
   "name": "python3"
  },
  "language_info": {
   "codemirror_mode": {
    "name": "ipython",
    "version": 3
   },
   "file_extension": ".py",
   "mimetype": "text/x-python",
   "name": "python",
   "nbconvert_exporter": "python",
   "pygments_lexer": "ipython3",
   "version": "3.7.3"
  }
 },
 "nbformat": 4,
 "nbformat_minor": 2
}
