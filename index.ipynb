{
 "cells": [
  {
   "cell_type": "markdown",
   "metadata": {},
   "source": [
    "#  Overview\n",
    "\n",
    "The Terry Stops problem aims to predict the outcome of police stops based on reasonable suspicion using a classification model. The model considers various factors such as presence of weapons, time of day, and possibly gender and race of both the officer and the subject. However, the use of race and gender data raises ethical concerns and the importance of avoiding bias and discrimination must be taken into consideration. The goal of this model is to improve the efficiency and fairness of law enforcement actions, but the agencies must also monitor and address any potential biases."
   ]
  },
  {
   "cell_type": "markdown",
   "metadata": {},
   "source": [
    "# 1. Business Understanding\n"
   ]
  },
  {
   "cell_type": "markdown",
   "metadata": {},
   "source": [
    "## 1.1. Problem\n",
    "The Terry Stops presents a business opportunity to improve the efficiency and fairness of law enforcement actions. By developing a predictive model that can assist officers in determining the likelihood of an arrest being made during a Terry Stop, the law enforcement agencies can make informed decisions and potentially reduce the number of false arrests and incidents of police misconduct. However, it is important to approach this problem with caution and transparency, considering the ethical concerns raised by the use of gender and race data. The goal is to provide a tool that can help improve policing, while avoiding biases and discrimination."
   ]
  },
  {
   "cell_type": "markdown",
   "metadata": {},
   "source": [
    "## 1.2 Aim"
   ]
  },
  {
   "cell_type": "markdown",
   "metadata": {},
   "source": [
    "The aim of this project is to build a classifier that can predict the outcome of a Terry Stop (whether an arrest was made or not) based on reasonable suspicion. This will be done by considering various factors such as the presence of weapons, time of day of the call, and other relevant information. The model will be designed to address the binary classification problem, with the goal of improving the efficiency and fairness of law enforcement actions."
   ]
  },
  {
   "cell_type": "markdown",
   "metadata": {},
   "source": [
    "## 1.3. 0bjectives\n",
    "* To create a predictive model for Terry Stops that accurately predicts the outcome of the stop (arrest made or not)\n",
    "* To take into consideration key factors such as the presence of weapons and the time of the call in the model\n",
    "* To ensure that the model is ethically sound and avoids any biases or discrimination related to gender and race."
   ]
  },
  {
   "cell_type": "markdown",
   "metadata": {},
   "source": [
    "# 2. Data Understanding"
   ]
  },
  {
   "cell_type": "markdown",
   "metadata": {},
   "source": [
    "## 2.1 Data Understanding\n",
    "This dataset was provided by the City of Seattle and is managed by the Seattle Police Department. It was created on April 13, 2017 and last updated on February 6, 2023. The dataset contains **54873**, rows and **23** columns, each row representing a unique Terry Stop record as reported by the officer conducting the stop. The columns in the dataset include information about the subject of the stop, such as the perceived age group, perceived race, and perceived gender. \n",
    "\n",
    "The dataset also includes information about the officer, such as the officer's gender, race, and year of birth. Additionally, the dataset includes information about the resolution of the stop, any weapons found, the date and time the stop was reported, and information about the underlying Computer Aided Dispatch (CAD) event. The data is updated daily and is licensed under the public domain."
   ]
  },
  {
   "cell_type": "markdown",
   "metadata": {},
   "source": [
    "# 3. Requirements\n",
    "\n",
    "* Data Preparation -> Loading Libraries -> Loading data -> Descriptive Exploration -> Data Cleaning -> Exploratory Descriptive Analysis (EDA) -> Pre-processing Data\n",
    "\n",
    "* Modelling -> Train test split -> Logistic Regression -> K-Nearest -> Decision Tree -> Logistic Regression -> Random Forest\n",
    "    \n",
    "* Evaluation -> Classification Metrics -> Best Perfoming Model\n",
    "\n",
    "* Conclusion -> Best Model\n",
    "    \n",
    "* Recommendation -> Most imporatnt features"
   ]
  },
  {
   "cell_type": "markdown",
   "metadata": {},
   "source": [
    "# 4. Data Preparation\n",
    "\n",
    "* Loading Libraries \n",
    "* Loading data \n",
    "* Descriptive Exploration\n",
    "* Data Cleaning \n",
    "* Exploratory Descriptive Analysis (EDA) \n",
    "* Pre-processing Data\n",
    "    * >Update the Stop Resolution column to either be arrested (1) or not arrested (0):\n",
    "    * >Change the date column to datetime so we can work with it. Add in the month as a new column:\n",
    "    * >Group weapons into firearms vs. non-firearms vs. no weapon:\n",
    "    * >Change Officer year of bith to give the officer age:\n",
    "    * >Drop columns that we are not going to need:\n",
    "    * >Converting categorical data to numeric format through label encoder"
   ]
  },
  {
   "cell_type": "markdown",
   "metadata": {},
   "source": [
    "### 4.1. Loading Libraries"
   ]
  },
  {
   "cell_type": "code",
   "execution_count": 2,
   "metadata": {},
   "outputs": [],
   "source": [
    "# import relevant libraries\n",
    "import pandas as pd\n",
    "import numpy as np\n",
    "import matplotlib.pyplot as plt\n",
    "import seaborn as sns"
   ]
  },
  {
   "cell_type": "markdown",
   "metadata": {},
   "source": [
    "### 4.2. Loading Data"
   ]
  },
  {
   "cell_type": "code",
   "execution_count": 3,
   "metadata": {},
   "outputs": [
    {
     "data": {
      "text/html": [
       "<div>\n",
       "<style scoped>\n",
       "    .dataframe tbody tr th:only-of-type {\n",
       "        vertical-align: middle;\n",
       "    }\n",
       "\n",
       "    .dataframe tbody tr th {\n",
       "        vertical-align: top;\n",
       "    }\n",
       "\n",
       "    .dataframe thead th {\n",
       "        text-align: right;\n",
       "    }\n",
       "</style>\n",
       "<table border=\"1\" class=\"dataframe\">\n",
       "  <thead>\n",
       "    <tr style=\"text-align: right;\">\n",
       "      <th></th>\n",
       "      <th>Subject Age Group</th>\n",
       "      <th>Subject ID</th>\n",
       "      <th>GO / SC Num</th>\n",
       "      <th>Terry Stop ID</th>\n",
       "      <th>Stop Resolution</th>\n",
       "      <th>Weapon Type</th>\n",
       "      <th>Officer ID</th>\n",
       "      <th>Officer YOB</th>\n",
       "      <th>Officer Gender</th>\n",
       "      <th>Officer Race</th>\n",
       "      <th>...</th>\n",
       "      <th>Reported Time</th>\n",
       "      <th>Initial Call Type</th>\n",
       "      <th>Final Call Type</th>\n",
       "      <th>Call Type</th>\n",
       "      <th>Officer Squad</th>\n",
       "      <th>Arrest Flag</th>\n",
       "      <th>Frisk Flag</th>\n",
       "      <th>Precinct</th>\n",
       "      <th>Sector</th>\n",
       "      <th>Beat</th>\n",
       "    </tr>\n",
       "  </thead>\n",
       "  <tbody>\n",
       "    <tr>\n",
       "      <th>0</th>\n",
       "      <td>26 - 35</td>\n",
       "      <td>-1</td>\n",
       "      <td>20160000004638</td>\n",
       "      <td>207171</td>\n",
       "      <td>Field Contact</td>\n",
       "      <td>None</td>\n",
       "      <td>6970</td>\n",
       "      <td>1968</td>\n",
       "      <td>M</td>\n",
       "      <td>White</td>\n",
       "      <td>...</td>\n",
       "      <td>01:23:00.0000000</td>\n",
       "      <td>-</td>\n",
       "      <td>-</td>\n",
       "      <td>-</td>\n",
       "      <td>SOUTH PCT 3RD W - ROBERT</td>\n",
       "      <td>N</td>\n",
       "      <td>N</td>\n",
       "      <td>-</td>\n",
       "      <td>-</td>\n",
       "      <td>-</td>\n",
       "    </tr>\n",
       "    <tr>\n",
       "      <th>1</th>\n",
       "      <td>18 - 25</td>\n",
       "      <td>-1</td>\n",
       "      <td>20180000352673</td>\n",
       "      <td>484084</td>\n",
       "      <td>Offense Report</td>\n",
       "      <td>None</td>\n",
       "      <td>7794</td>\n",
       "      <td>1991</td>\n",
       "      <td>M</td>\n",
       "      <td>White</td>\n",
       "      <td>...</td>\n",
       "      <td>06:45:00.0000000</td>\n",
       "      <td>TRESPASS</td>\n",
       "      <td>TRESPASS</td>\n",
       "      <td>TELEPHONE OTHER, NOT 911</td>\n",
       "      <td>NORTH PCT 1ST W - LINCOLN</td>\n",
       "      <td>N</td>\n",
       "      <td>N</td>\n",
       "      <td>North</td>\n",
       "      <td>L</td>\n",
       "      <td>L2</td>\n",
       "    </tr>\n",
       "    <tr>\n",
       "      <th>2</th>\n",
       "      <td>26 - 35</td>\n",
       "      <td>-1</td>\n",
       "      <td>20170000399165</td>\n",
       "      <td>325847</td>\n",
       "      <td>Offense Report</td>\n",
       "      <td>None</td>\n",
       "      <td>7795</td>\n",
       "      <td>1992</td>\n",
       "      <td>M</td>\n",
       "      <td>Hispanic or Latino</td>\n",
       "      <td>...</td>\n",
       "      <td>17:28:00.0000000</td>\n",
       "      <td>BURG - RES (INCL UNOCC STRUCTURES ON PROP)</td>\n",
       "      <td>--BURGLARY - RESIDENTIAL, UNOCCUPIED</td>\n",
       "      <td>911</td>\n",
       "      <td>EAST PCT 2ND W - CHARLIE RELIEF</td>\n",
       "      <td>N</td>\n",
       "      <td>N</td>\n",
       "      <td>East</td>\n",
       "      <td>C</td>\n",
       "      <td>C1</td>\n",
       "    </tr>\n",
       "  </tbody>\n",
       "</table>\n",
       "<p>3 rows × 23 columns</p>\n",
       "</div>"
      ],
      "text/plain": [
       "  Subject Age Group  Subject ID     GO / SC Num  Terry Stop ID  \\\n",
       "0           26 - 35          -1  20160000004638         207171   \n",
       "1           18 - 25          -1  20180000352673         484084   \n",
       "2           26 - 35          -1  20170000399165         325847   \n",
       "\n",
       "  Stop Resolution Weapon Type Officer ID  Officer YOB Officer Gender  \\\n",
       "0   Field Contact        None       6970         1968              M   \n",
       "1  Offense Report        None       7794         1991              M   \n",
       "2  Offense Report        None       7795         1992              M   \n",
       "\n",
       "         Officer Race  ...     Reported Time  \\\n",
       "0               White  ...  01:23:00.0000000   \n",
       "1               White  ...  06:45:00.0000000   \n",
       "2  Hispanic or Latino  ...  17:28:00.0000000   \n",
       "\n",
       "                            Initial Call Type  \\\n",
       "0                                           -   \n",
       "1                                    TRESPASS   \n",
       "2  BURG - RES (INCL UNOCC STRUCTURES ON PROP)   \n",
       "\n",
       "                        Final Call Type                 Call Type  \\\n",
       "0                                     -                         -   \n",
       "1                              TRESPASS  TELEPHONE OTHER, NOT 911   \n",
       "2  --BURGLARY - RESIDENTIAL, UNOCCUPIED                       911   \n",
       "\n",
       "                     Officer Squad Arrest Flag Frisk Flag Precinct Sector Beat  \n",
       "0         SOUTH PCT 3RD W - ROBERT           N          N        -      -    -  \n",
       "1        NORTH PCT 1ST W - LINCOLN           N          N    North      L   L2  \n",
       "2  EAST PCT 2ND W - CHARLIE RELIEF           N          N     East      C   C1  \n",
       "\n",
       "[3 rows x 23 columns]"
      ]
     },
     "execution_count": 3,
     "metadata": {},
     "output_type": "execute_result"
    }
   ],
   "source": [
    "# read the csv file to pandas data frame\n",
    "Tery_df = pd.read_csv(\"data/Terry_Stops.csv\")\n",
    "\n",
    "# make copy\n",
    "Tery_stops_df = Tery_df.copy(deep=True) \n",
    "\n",
    "# preview the first 3 rows\n",
    "Tery_stops_df.head(3)"
   ]
  },
  {
   "cell_type": "markdown",
   "metadata": {},
   "source": [
    "### 4.2.1 Dataset Columns\n",
    "##### These are the  23 columns, with a concise explanation of the information contained in each column :\n",
    "\n"
   ]
  },
  {
   "cell_type": "markdown",
   "metadata": {},
   "source": [
    "**Subject Age Group:** Subject Age Group (10 year increments) as reported by the officer.\n",
    "\n",
    "**Subject ID:** Key, generated daily, identifying unique subjects in the dataset using a character to character match of first name and last name. \"Null\" values indicate an \"anonymous\" or \"unidentified\" subject. Subjects of a Terry Stop are not required to present identification.\n",
    "\n",
    "**GO/SC Num:** General Offense or Street Check number, relating the Terry Stop to the parent report. This field may have a one to many relationship in the data.\n",
    "\n",
    "**Terry Stop ID:** Key identifying unique Terry Stop reports.\n",
    "\n",
    "**Stop Resolution:** Resolution of the stop as reported by the officer.\n",
    "\n",
    "**Weapon Type:** Type of weapon, if any, identified during a search or frisk of the subject. Indicates \"None\" if no weapons was found.\n",
    "\n",
    "**Officer ID:** Key identifying unique officers in the dataset.\n",
    "\n",
    "**Officer YOB:** Year of birth, as reported by the officer.\n",
    "\n",
    "**Officer Gender:** Gender of the officer, as reported by the officer.\n",
    "\n",
    "**Officer Race:** Race of the officer, as reported by the officer.\n",
    "\n",
    "**Subject Perceived Race:** Perceived race of the subject, as reported by the officer.\n",
    "\n",
    "**Subject Perceived Gender:** Perceived gender of the subject, as reported by the officer.\n",
    "\n",
    "**Reported Date:** Date the report was filed in the Records Management System (RMS). Not necessarily the date the stop occurred but generally within 1 day.\n",
    "\n",
    "**Reported Time:** Time the stop was reported in the Records Management System (RMS). Not the time the stop occurred but generally within 10 hours.\n",
    "\n",
    "**Initial Call Type:** Initial classification of the call as assigned by 911.\n",
    "\n",
    "**Final Call Type:** Final classification of the call as assigned by the primary officer closing the event.\n",
    "\n",
    "**Call Type:** How the call was received by the communication center.\n",
    "\n",
    "**Officer Squad:** Functional squad assignment (not budget) of the officer as reported by the Data Analytics Platform (DAP).\n",
    "\n",
    "**Arrest Flag:** Indicator of whether a \"physical arrest\" was made, of the subject, during the Terry Stop. Does not necessarily reflect a report of an arrest in the Records Management System (RMS).\n",
    "\n",
    "**Frisk Flag:** Indicator of whether a \"frisk\" was conducted, by the officer, of the subject, during the Terry Stop.\n",
    "\n",
    "**Precinct:** Precinct of the address associated with the underlying Computer Aided Dispatch (CAD) event. Not necessarily where the Terry Stop occurred.\n",
    "\n",
    "**Sector:** Sector of the address associated with the underlying Computer Aided Dispatch (CAD) event. Not necessarily where the Terry Stop occurred.\n",
    "\n",
    "**Beat:** Beat of the address associated with the underlying Computer Aided Dispatch (CAD) event. Not necessarily where the Terry Stop occurred.\n",
    "\n",
    "\n"
   ]
  },
  {
   "cell_type": "markdown",
   "metadata": {},
   "source": [
    "### 4.3.  Descriptive Exploration\n",
    "Describing the data set in terms of shape and the data types for all the columns present. Most of the columns are categorical and have the 'object' datatype."
   ]
  },
  {
   "cell_type": "code",
   "execution_count": 4,
   "metadata": {},
   "outputs": [],
   "source": [
    "# a function to summarise the data set\n",
    "# check number of categorical and numerical columns\n",
    "def columns_dtypes(df):\n",
    "    print(f\"This dataset has {df.shape[0]} rows and {df.shape[1]} columns\")\n",
    "    print()\n",
    "    num = len(df.select_dtypes(include=np.number).columns)\n",
    "    cat = len(df.select_dtypes(include='object').columns)\n",
    "    print(f\"Numerical columns: {num}\")\n",
    "    print(f\"Categorical columns: {cat}\")\n",
    "    print()\n",
    "    print(\"These are the datatypes of column :\")\n",
    "    return df.dtypes"
   ]
  },
  {
   "cell_type": "code",
   "execution_count": 5,
   "metadata": {},
   "outputs": [
    {
     "name": "stdout",
     "output_type": "stream",
     "text": [
      "This dataset has 54873 rows and 23 columns\n",
      "\n",
      "Numerical columns: 4\n",
      "Categorical columns: 19\n",
      "\n",
      "These are the datatypes of column :\n"
     ]
    },
    {
     "data": {
      "text/plain": [
       "Subject Age Group           object\n",
       "Subject ID                   int64\n",
       "GO / SC Num                  int64\n",
       "Terry Stop ID                int64\n",
       "Stop Resolution             object\n",
       "Weapon Type                 object\n",
       "Officer ID                  object\n",
       "Officer YOB                  int64\n",
       "Officer Gender              object\n",
       "Officer Race                object\n",
       "Subject Perceived Race      object\n",
       "Subject Perceived Gender    object\n",
       "Reported Date               object\n",
       "Reported Time               object\n",
       "Initial Call Type           object\n",
       "Final Call Type             object\n",
       "Call Type                   object\n",
       "Officer Squad               object\n",
       "Arrest Flag                 object\n",
       "Frisk Flag                  object\n",
       "Precinct                    object\n",
       "Sector                      object\n",
       "Beat                        object\n",
       "dtype: object"
      ]
     },
     "execution_count": 5,
     "metadata": {},
     "output_type": "execute_result"
    }
   ],
   "source": [
    "# call the function  \n",
    "columns_dtypes(Tery_stops_df)"
   ]
  },
  {
   "cell_type": "markdown",
   "metadata": {},
   "source": [
    "### 4.4 Data Cleaning\n",
    "\n",
    "Identifying and correcting inaccuracies, inconsistencies, and irrelevant data from a dataset. These were the steps\n",
    "* handling missing values\n",
    "* removing duplicates\n",
    "* correcting data format\n",
    "* transforming variables to make the data ready for modelling and predictions."
   ]
  },
  {
   "cell_type": "markdown",
   "metadata": {},
   "source": [
    "#### 4.4.1. Missing and Duplicate Values\n",
    "A function to check duplicates and null"
   ]
  },
  {
   "cell_type": "code",
   "execution_count": 6,
   "metadata": {},
   "outputs": [],
   "source": [
    "def check_duplicates_missing(dataframe):\n",
    "    # calculate percentage of missing values\n",
    "    percent_missing = dataframe.isnull().mean().round(4) * 100\n",
    "    count_missing = dataframe.isnull().sum()\n",
    "    # calculate percentage of duplicate rows\n",
    "    percent_duplicates = dataframe.duplicated().mean() * 100\n",
    "    # create result dataframe\n",
    "    result = pd.DataFrame({'Missing Values %': percent_missing, \n",
    "                           'Missing Values Count': count_missing, \n",
    "                           'Duplicate Values %': percent_duplicates})\n",
    "    # find column with most missing values\n",
    "    if percent_missing.max() !=0:\n",
    "        column_most_missing = percent_missing.idxmax()\n",
    "        print(f\"{(column_most_missing).capitalize()} is the column with most null count.\")\n",
    "        print()\n",
    "    else:\n",
    "        print(\"No column with missing values\")\n",
    "    if percent_duplicates.max() !=0:\n",
    "        column_most_duplicates = percent_duplicates.idxmax()\n",
    "        print(\"Column with most duplicates:\",column_most_duplicates)\n",
    "    else:\n",
    "        print(\"No duplicates\")\n",
    "    return result"
   ]
  },
  {
   "cell_type": "code",
   "execution_count": 7,
   "metadata": {},
   "outputs": [
    {
     "name": "stdout",
     "output_type": "stream",
     "text": [
      "Officer squad is the column with most null count.\n",
      "\n",
      "No duplicates\n"
     ]
    },
    {
     "data": {
      "text/html": [
       "<div>\n",
       "<style scoped>\n",
       "    .dataframe tbody tr th:only-of-type {\n",
       "        vertical-align: middle;\n",
       "    }\n",
       "\n",
       "    .dataframe tbody tr th {\n",
       "        vertical-align: top;\n",
       "    }\n",
       "\n",
       "    .dataframe thead th {\n",
       "        text-align: right;\n",
       "    }\n",
       "</style>\n",
       "<table border=\"1\" class=\"dataframe\">\n",
       "  <thead>\n",
       "    <tr style=\"text-align: right;\">\n",
       "      <th></th>\n",
       "      <th>Missing Values %</th>\n",
       "      <th>Missing Values Count</th>\n",
       "      <th>Duplicate Values %</th>\n",
       "    </tr>\n",
       "  </thead>\n",
       "  <tbody>\n",
       "    <tr>\n",
       "      <th>Subject Age Group</th>\n",
       "      <td>0.00</td>\n",
       "      <td>0</td>\n",
       "      <td>0.0</td>\n",
       "    </tr>\n",
       "    <tr>\n",
       "      <th>Subject ID</th>\n",
       "      <td>0.00</td>\n",
       "      <td>0</td>\n",
       "      <td>0.0</td>\n",
       "    </tr>\n",
       "    <tr>\n",
       "      <th>GO / SC Num</th>\n",
       "      <td>0.00</td>\n",
       "      <td>0</td>\n",
       "      <td>0.0</td>\n",
       "    </tr>\n",
       "    <tr>\n",
       "      <th>Terry Stop ID</th>\n",
       "      <td>0.00</td>\n",
       "      <td>0</td>\n",
       "      <td>0.0</td>\n",
       "    </tr>\n",
       "    <tr>\n",
       "      <th>Stop Resolution</th>\n",
       "      <td>0.00</td>\n",
       "      <td>0</td>\n",
       "      <td>0.0</td>\n",
       "    </tr>\n",
       "    <tr>\n",
       "      <th>Weapon Type</th>\n",
       "      <td>0.00</td>\n",
       "      <td>0</td>\n",
       "      <td>0.0</td>\n",
       "    </tr>\n",
       "    <tr>\n",
       "      <th>Officer ID</th>\n",
       "      <td>0.00</td>\n",
       "      <td>0</td>\n",
       "      <td>0.0</td>\n",
       "    </tr>\n",
       "    <tr>\n",
       "      <th>Officer YOB</th>\n",
       "      <td>0.00</td>\n",
       "      <td>0</td>\n",
       "      <td>0.0</td>\n",
       "    </tr>\n",
       "    <tr>\n",
       "      <th>Officer Gender</th>\n",
       "      <td>0.00</td>\n",
       "      <td>0</td>\n",
       "      <td>0.0</td>\n",
       "    </tr>\n",
       "    <tr>\n",
       "      <th>Officer Race</th>\n",
       "      <td>0.00</td>\n",
       "      <td>0</td>\n",
       "      <td>0.0</td>\n",
       "    </tr>\n",
       "    <tr>\n",
       "      <th>Subject Perceived Race</th>\n",
       "      <td>0.00</td>\n",
       "      <td>0</td>\n",
       "      <td>0.0</td>\n",
       "    </tr>\n",
       "    <tr>\n",
       "      <th>Subject Perceived Gender</th>\n",
       "      <td>0.00</td>\n",
       "      <td>0</td>\n",
       "      <td>0.0</td>\n",
       "    </tr>\n",
       "    <tr>\n",
       "      <th>Reported Date</th>\n",
       "      <td>0.00</td>\n",
       "      <td>0</td>\n",
       "      <td>0.0</td>\n",
       "    </tr>\n",
       "    <tr>\n",
       "      <th>Reported Time</th>\n",
       "      <td>0.00</td>\n",
       "      <td>0</td>\n",
       "      <td>0.0</td>\n",
       "    </tr>\n",
       "    <tr>\n",
       "      <th>Initial Call Type</th>\n",
       "      <td>0.00</td>\n",
       "      <td>0</td>\n",
       "      <td>0.0</td>\n",
       "    </tr>\n",
       "    <tr>\n",
       "      <th>Final Call Type</th>\n",
       "      <td>0.00</td>\n",
       "      <td>0</td>\n",
       "      <td>0.0</td>\n",
       "    </tr>\n",
       "    <tr>\n",
       "      <th>Call Type</th>\n",
       "      <td>0.00</td>\n",
       "      <td>0</td>\n",
       "      <td>0.0</td>\n",
       "    </tr>\n",
       "    <tr>\n",
       "      <th>Officer Squad</th>\n",
       "      <td>37.78</td>\n",
       "      <td>20729</td>\n",
       "      <td>0.0</td>\n",
       "    </tr>\n",
       "    <tr>\n",
       "      <th>Arrest Flag</th>\n",
       "      <td>0.00</td>\n",
       "      <td>0</td>\n",
       "      <td>0.0</td>\n",
       "    </tr>\n",
       "    <tr>\n",
       "      <th>Frisk Flag</th>\n",
       "      <td>0.00</td>\n",
       "      <td>0</td>\n",
       "      <td>0.0</td>\n",
       "    </tr>\n",
       "    <tr>\n",
       "      <th>Precinct</th>\n",
       "      <td>0.00</td>\n",
       "      <td>0</td>\n",
       "      <td>0.0</td>\n",
       "    </tr>\n",
       "    <tr>\n",
       "      <th>Sector</th>\n",
       "      <td>0.00</td>\n",
       "      <td>0</td>\n",
       "      <td>0.0</td>\n",
       "    </tr>\n",
       "    <tr>\n",
       "      <th>Beat</th>\n",
       "      <td>0.00</td>\n",
       "      <td>0</td>\n",
       "      <td>0.0</td>\n",
       "    </tr>\n",
       "  </tbody>\n",
       "</table>\n",
       "</div>"
      ],
      "text/plain": [
       "                          Missing Values %  Missing Values Count  \\\n",
       "Subject Age Group                     0.00                     0   \n",
       "Subject ID                            0.00                     0   \n",
       "GO / SC Num                           0.00                     0   \n",
       "Terry Stop ID                         0.00                     0   \n",
       "Stop Resolution                       0.00                     0   \n",
       "Weapon Type                           0.00                     0   \n",
       "Officer ID                            0.00                     0   \n",
       "Officer YOB                           0.00                     0   \n",
       "Officer Gender                        0.00                     0   \n",
       "Officer Race                          0.00                     0   \n",
       "Subject Perceived Race                0.00                     0   \n",
       "Subject Perceived Gender              0.00                     0   \n",
       "Reported Date                         0.00                     0   \n",
       "Reported Time                         0.00                     0   \n",
       "Initial Call Type                     0.00                     0   \n",
       "Final Call Type                       0.00                     0   \n",
       "Call Type                             0.00                     0   \n",
       "Officer Squad                        37.78                 20729   \n",
       "Arrest Flag                           0.00                     0   \n",
       "Frisk Flag                            0.00                     0   \n",
       "Precinct                              0.00                     0   \n",
       "Sector                                0.00                     0   \n",
       "Beat                                  0.00                     0   \n",
       "\n",
       "                          Duplicate Values %  \n",
       "Subject Age Group                        0.0  \n",
       "Subject ID                               0.0  \n",
       "GO / SC Num                              0.0  \n",
       "Terry Stop ID                            0.0  \n",
       "Stop Resolution                          0.0  \n",
       "Weapon Type                              0.0  \n",
       "Officer ID                               0.0  \n",
       "Officer YOB                              0.0  \n",
       "Officer Gender                           0.0  \n",
       "Officer Race                             0.0  \n",
       "Subject Perceived Race                   0.0  \n",
       "Subject Perceived Gender                 0.0  \n",
       "Reported Date                            0.0  \n",
       "Reported Time                            0.0  \n",
       "Initial Call Type                        0.0  \n",
       "Final Call Type                          0.0  \n",
       "Call Type                                0.0  \n",
       "Officer Squad                            0.0  \n",
       "Arrest Flag                              0.0  \n",
       "Frisk Flag                               0.0  \n",
       "Precinct                                 0.0  \n",
       "Sector                                   0.0  \n",
       "Beat                                     0.0  "
      ]
     },
     "execution_count": 7,
     "metadata": {},
     "output_type": "execute_result"
    }
   ],
   "source": [
    "# call function on the dataset\n",
    "check_duplicates_missing(Tery_stops_df)"
   ]
  },
  {
   "cell_type": "markdown",
   "metadata": {},
   "source": [
    ">I will drop the Officer Squad column because the null values equals to **37.78%**  and the information it contains I will not use for my analysis."
   ]
  },
  {
   "cell_type": "markdown",
   "metadata": {},
   "source": [
    "#### 4.4.2. Feature Engineering.\n",
    "This are the steps taken in correcting data format:\n",
    "* Update the Stop Resolution column to binary\n",
    "* Change the date column to datetime\n",
    "* Group weapons into firearms vs. non-firearms vs. no weapon\n",
    "* Change Officer year of bith to give the officer age\n",
    "* To categorize this time as either \"daytime\" or \"nighttime\"\n",
    "* Drop columns that we are not going to need\n",
    "* Converting categorical data to numeric format through one hot encoding"
   ]
  },
  {
   "cell_type": "markdown",
   "metadata": {},
   "source": [
    "##### * Fix structural error"
   ]
  },
  {
   "cell_type": "code",
   "execution_count": 8,
   "metadata": {},
   "outputs": [
    {
     "data": {
      "text/html": [
       "<div>\n",
       "<style scoped>\n",
       "    .dataframe tbody tr th:only-of-type {\n",
       "        vertical-align: middle;\n",
       "    }\n",
       "\n",
       "    .dataframe tbody tr th {\n",
       "        vertical-align: top;\n",
       "    }\n",
       "\n",
       "    .dataframe thead th {\n",
       "        text-align: right;\n",
       "    }\n",
       "</style>\n",
       "<table border=\"1\" class=\"dataframe\">\n",
       "  <thead>\n",
       "    <tr style=\"text-align: right;\">\n",
       "      <th></th>\n",
       "      <th>Subject Age Group</th>\n",
       "      <th>Subject ID</th>\n",
       "      <th>GO / SC Num</th>\n",
       "      <th>Terry Stop ID</th>\n",
       "      <th>Stop Resolution</th>\n",
       "      <th>Weapon Type</th>\n",
       "      <th>Officer ID</th>\n",
       "      <th>Officer YOB</th>\n",
       "      <th>Officer Gender</th>\n",
       "      <th>Officer Race</th>\n",
       "      <th>...</th>\n",
       "      <th>Reported Time</th>\n",
       "      <th>Initial Call Type</th>\n",
       "      <th>Final Call Type</th>\n",
       "      <th>Call Type</th>\n",
       "      <th>Officer Squad</th>\n",
       "      <th>Arrest Flag</th>\n",
       "      <th>Frisk Flag</th>\n",
       "      <th>Precinct</th>\n",
       "      <th>Sector</th>\n",
       "      <th>Beat</th>\n",
       "    </tr>\n",
       "  </thead>\n",
       "  <tbody>\n",
       "    <tr>\n",
       "      <th>0</th>\n",
       "      <td>26 - 35</td>\n",
       "      <td>-1</td>\n",
       "      <td>20160000004638</td>\n",
       "      <td>207171</td>\n",
       "      <td>Field Contact</td>\n",
       "      <td>None</td>\n",
       "      <td>6970</td>\n",
       "      <td>1968</td>\n",
       "      <td>M</td>\n",
       "      <td>White</td>\n",
       "      <td>...</td>\n",
       "      <td>01:23:00.0000000</td>\n",
       "      <td>No Information</td>\n",
       "      <td>No Information</td>\n",
       "      <td>No Information</td>\n",
       "      <td>SOUTH PCT 3RD W - ROBERT</td>\n",
       "      <td>N</td>\n",
       "      <td>N</td>\n",
       "      <td>No Information</td>\n",
       "      <td>No Information</td>\n",
       "      <td>No Information</td>\n",
       "    </tr>\n",
       "    <tr>\n",
       "      <th>1</th>\n",
       "      <td>18 - 25</td>\n",
       "      <td>-1</td>\n",
       "      <td>20180000352673</td>\n",
       "      <td>484084</td>\n",
       "      <td>Offense Report</td>\n",
       "      <td>None</td>\n",
       "      <td>7794</td>\n",
       "      <td>1991</td>\n",
       "      <td>M</td>\n",
       "      <td>White</td>\n",
       "      <td>...</td>\n",
       "      <td>06:45:00.0000000</td>\n",
       "      <td>TRESPASS</td>\n",
       "      <td>TRESPASS</td>\n",
       "      <td>TELEPHONE OTHER, NOT 911</td>\n",
       "      <td>NORTH PCT 1ST W - LINCOLN</td>\n",
       "      <td>N</td>\n",
       "      <td>N</td>\n",
       "      <td>North</td>\n",
       "      <td>L</td>\n",
       "      <td>L2</td>\n",
       "    </tr>\n",
       "    <tr>\n",
       "      <th>2</th>\n",
       "      <td>26 - 35</td>\n",
       "      <td>-1</td>\n",
       "      <td>20170000399165</td>\n",
       "      <td>325847</td>\n",
       "      <td>Offense Report</td>\n",
       "      <td>None</td>\n",
       "      <td>7795</td>\n",
       "      <td>1992</td>\n",
       "      <td>M</td>\n",
       "      <td>Hispanic or Latino</td>\n",
       "      <td>...</td>\n",
       "      <td>17:28:00.0000000</td>\n",
       "      <td>BURG - RES (INCL UNOCC STRUCTURES ON PROP)</td>\n",
       "      <td>--BURGLARY - RESIDENTIAL, UNOCCUPIED</td>\n",
       "      <td>911</td>\n",
       "      <td>EAST PCT 2ND W - CHARLIE RELIEF</td>\n",
       "      <td>N</td>\n",
       "      <td>N</td>\n",
       "      <td>East</td>\n",
       "      <td>C</td>\n",
       "      <td>C1</td>\n",
       "    </tr>\n",
       "  </tbody>\n",
       "</table>\n",
       "<p>3 rows × 23 columns</p>\n",
       "</div>"
      ],
      "text/plain": [
       "  Subject Age Group  Subject ID     GO / SC Num  Terry Stop ID  \\\n",
       "0           26 - 35          -1  20160000004638         207171   \n",
       "1           18 - 25          -1  20180000352673         484084   \n",
       "2           26 - 35          -1  20170000399165         325847   \n",
       "\n",
       "  Stop Resolution Weapon Type Officer ID  Officer YOB Officer Gender  \\\n",
       "0   Field Contact        None       6970         1968              M   \n",
       "1  Offense Report        None       7794         1991              M   \n",
       "2  Offense Report        None       7795         1992              M   \n",
       "\n",
       "         Officer Race  ...     Reported Time  \\\n",
       "0               White  ...  01:23:00.0000000   \n",
       "1               White  ...  06:45:00.0000000   \n",
       "2  Hispanic or Latino  ...  17:28:00.0000000   \n",
       "\n",
       "                            Initial Call Type  \\\n",
       "0                              No Information   \n",
       "1                                    TRESPASS   \n",
       "2  BURG - RES (INCL UNOCC STRUCTURES ON PROP)   \n",
       "\n",
       "                        Final Call Type                 Call Type  \\\n",
       "0                        No Information            No Information   \n",
       "1                              TRESPASS  TELEPHONE OTHER, NOT 911   \n",
       "2  --BURGLARY - RESIDENTIAL, UNOCCUPIED                       911   \n",
       "\n",
       "                     Officer Squad Arrest Flag Frisk Flag        Precinct  \\\n",
       "0         SOUTH PCT 3RD W - ROBERT           N          N  No Information   \n",
       "1        NORTH PCT 1ST W - LINCOLN           N          N           North   \n",
       "2  EAST PCT 2ND W - CHARLIE RELIEF           N          N            East   \n",
       "\n",
       "           Sector            Beat  \n",
       "0  No Information  No Information  \n",
       "1               L              L2  \n",
       "2               C              C1  \n",
       "\n",
       "[3 rows x 23 columns]"
      ]
     },
     "execution_count": 8,
     "metadata": {},
     "output_type": "execute_result"
    }
   ],
   "source": [
    "# replace with new stings\n",
    "Tery_stops_df = Tery_stops_df.replace([\"-\"], \"No Information\")\n",
    "Tery_stops_df.head(3)"
   ]
  },
  {
   "cell_type": "markdown",
   "metadata": {},
   "source": [
    "##### * Update the Stop Resolution column to binary"
   ]
  },
  {
   "cell_type": "code",
   "execution_count": 9,
   "metadata": {},
   "outputs": [
    {
     "name": "stdout",
     "output_type": "stream",
     "text": [
      "before:\n",
      "{'Offense Report', 'Arrest', 'Referred for Prosecution', 'Field Contact', 'Citation / Infraction'}\n",
      "\n",
      "after:\n",
      "{0, 1}\n"
     ]
    }
   ],
   "source": [
    "# get unique values in stop resolution\n",
    "stop_resolution_unique = set(Tery_stops_df[\"Stop Resolution\"])\n",
    "print(f\"before:\\n{stop_resolution_unique}\")\n",
    "\n",
    "# update to binary the colum values\n",
    "values = ['Arrest', 'Citation / Infraction', 'Field Contact', 'Offense Report', 'Referred for Prosecution']\n",
    "conversion_dict = {val: 1 if val == 'Arrest' else 0 for val in values}\n",
    "\n",
    "# update column in data frame\n",
    "Tery_stops_df[\"Stop Resolution\"] = Tery_stops_df[\"Stop Resolution\"].map(conversion_dict)\n",
    "print()\n",
    "# check data type after update\n",
    "new_stop_resolution_unique = set(Tery_stops_df[\"Stop Resolution\"])\n",
    "print(f\"after:\\n{new_stop_resolution_unique}\")"
   ]
  },
  {
   "cell_type": "markdown",
   "metadata": {},
   "source": [
    "##### * Change the Reported Date column from object to datetime .\n",
    "\n",
    "The data description, Reported Date, is the date the report was filed in the Records Management System (RMS). Not necessarily the date of the stop, but generally within one day.\n",
    "Convert to date time so that I checked how different days and years affected the targert column"
   ]
  },
  {
   "cell_type": "code",
   "execution_count": 10,
   "metadata": {},
   "outputs": [],
   "source": [
    "# convert to datetime type\n",
    "Tery_stops_df['Reported Date'] = pd.to_datetime(Tery_stops_df['Reported Date'])\n",
    "\n",
    "# extract day\n",
    "Tery_stops_df['Day'] = Tery_stops_df['Reported Date'].dt.day\n",
    "\n",
    "# extract year\n",
    "Tery_stops_df['Year'] = Tery_stops_df['Reported Date'].dt.year\n",
    "\n",
    "# xtract month\n",
    "Tery_stops_df['Month'] = Tery_stops_df['Reported Date'].dt.month.map({1:'January',2:'February',3:'March',4:'April',5:'May',6:'June',7:'July'\n",
    "                                               ,8:'August',9:'September',10:'October',11:'November',12:'December'})"
   ]
  },
  {
   "cell_type": "markdown",
   "metadata": {},
   "source": [
    ">There are columns for the day, month and year for each of the Terry-stops in te datammset"
   ]
  },
  {
   "cell_type": "markdown",
   "metadata": {},
   "source": [
    "##### * Group weapons"
   ]
  },
  {
   "cell_type": "markdown",
   "metadata": {},
   "source": [
    "##### What is a firearm?"
   ]
  },
  {
   "cell_type": "markdown",
   "metadata": {},
   "source": [
    "The general classification of firearms can be based on the following criteria: Level of harm they produce. Lethal - designed with the intent to eventually kill the target. Non-lethal - designed with the intent to scare or incapacitate the target, without killing or producing major, irreversible injuries."
   ]
  },
  {
   "cell_type": "markdown",
   "metadata": {},
   "source": [
    "This column shwed a list of the type weapons if any, identified during a search or frisk of the subject. Indicates \"None\" if no weapons was found."
   ]
  },
  {
   "cell_type": "code",
   "execution_count": 11,
   "metadata": {},
   "outputs": [
    {
     "name": "stdout",
     "output_type": "stream",
     "text": [
      "These are the weapon classes :\n"
     ]
    },
    {
     "data": {
      "text/plain": [
       "['None',\n",
       " 'No Information',\n",
       " 'Lethal Cutting Instrument',\n",
       " 'Knife/Cutting/Stabbing Instrument',\n",
       " 'Handgun',\n",
       " 'Blunt Object/Striking Implement',\n",
       " 'Firearm Other',\n",
       " 'Firearm',\n",
       " 'Club, Blackjack, Brass Knuckles',\n",
       " 'Other Firearm',\n",
       " 'Mace/Pepper Spray',\n",
       " 'Firearm (unk type)',\n",
       " 'Taser/Stun Gun',\n",
       " 'None/Not Applicable',\n",
       " 'Fire/Incendiary Device',\n",
       " 'Club',\n",
       " 'Rifle',\n",
       " 'Shotgun',\n",
       " 'Automatic Handgun',\n",
       " 'Personal Weapons (hands, feet, etc.)',\n",
       " 'Brass Knuckles',\n",
       " 'Blackjack']"
      ]
     },
     "execution_count": 11,
     "metadata": {},
     "output_type": "execute_result"
    }
   ],
   "source": [
    "# gets weapons category\n",
    "weapons = list(dict(Tery_stops_df['Weapon Type'].value_counts()).keys())\n",
    "print(\"These are the weapon classes :\")\n",
    "weapons"
   ]
  },
  {
   "cell_type": "markdown",
   "metadata": {},
   "source": [
    "I will convert the firearm category to binary, it will be **Firearm** is designed with the intent to eventually kill the target and **Non Firearm** if designed with the intent to scare or incapacitate the target, without killing or producing major, irreversible injuries. "
   ]
  },
  {
   "cell_type": "code",
   "execution_count": 12,
   "metadata": {},
   "outputs": [],
   "source": [
    "# map the new values to the weapon found column\n",
    "Tery_stops_df['Weapon Type'] = Tery_stops_df['Weapon Type'].map(\n",
    "{\n",
    " 'None': 'Non Firearm',\n",
    " '-': 'Non Firearm',\n",
    " 'Lethal Cutting Instrument': 'Non Firearm',\n",
    " 'Knife/Cutting/Stabbing Instrument': 'Non Firearm',\n",
    " 'Handgun': 'Firearm',\n",
    " 'Blunt Object/Striking Implement': 'Non Firearm',\n",
    " 'Firearm Other': 'Firearm',\n",
    " 'Firearm': 'Firearm',\n",
    " 'Club, Blackjack, Brass Knuckles': 'Non Firearm',\n",
    " 'Other Firearm': 'Firearm',\n",
    " 'Mace/Pepper Spray': 'Non Firearm',\n",
    " 'Firearm (unk type)': 'Firearm',\n",
    " 'Taser/Stun Gun': 'Non Firearm',\n",
    " 'None/Not Applicable': 'Non Firearm',\n",
    " 'Fire/Incendiary Device': 'Non Firearm',\n",
    " 'Club': 'Non Firearm',\n",
    " 'Rifle': 'Firearm',\n",
    " 'Shotgun': 'Firearm',\n",
    " 'Automatic Handgun': 'Firearm',\n",
    " 'Personal Weapons (hands, feet, etc.)': 'Non Firearm',\n",
    " 'Brass Knuckles': 'Non Firearm',\n",
    " 'Blackjack': 'Non Firearm'\n",
    " })"
   ]
  },
  {
   "cell_type": "markdown",
   "metadata": {},
   "source": [
    "Most of the weapons were classified as Non Firearm"
   ]
  },
  {
   "cell_type": "markdown",
   "metadata": {},
   "source": [
    "##### * Get  officer age using YOB\n",
    "Using year of birth to get age of officer and see age relates to arrest. I use the current year to get age."
   ]
  },
  {
   "cell_type": "code",
   "execution_count": 13,
   "metadata": {},
   "outputs": [],
   "source": [
    "# get age by subtracting from current year \n",
    "Tery_stops_df['Officer Age'] = 2023 - Tery_stops_df[\"Officer YOB\"]"
   ]
  },
  {
   "cell_type": "markdown",
   "metadata": {},
   "source": [
    "##### * Convert time to binary\n",
    "Reported Time: Time the stop was reported in the Records Management System (RMS). Not the time the stop occurred but generally within 10 hours\n",
    "based on this column information, I used the reported time to group as either daytime or night time to try and see how it related to arrest being made."
   ]
  },
  {
   "cell_type": "code",
   "execution_count": 14,
   "metadata": {},
   "outputs": [],
   "source": [
    "# function to split time column and extract hour and group as night or day\n",
    "def categorize_time(column):\n",
    "    def categorize_time_helper(time):\n",
    "        hour = int(time.split(\":\")[0])\n",
    "        if hour >= 6 and hour < 18:\n",
    "            return \"Day\"\n",
    "        else:\n",
    "            return \"Night\"\n",
    "\n",
    "    return column.apply(categorize_time_helper)"
   ]
  },
  {
   "cell_type": "code",
   "execution_count": 15,
   "metadata": {},
   "outputs": [],
   "source": [
    "# calling the function to get new column\n",
    "Tery_stops_df[\"Time Category\"] = categorize_time(Tery_stops_df[\"Reported Time\"])    "
   ]
  },
  {
   "cell_type": "markdown",
   "metadata": {},
   "source": [
    "#### * Frisk Flag and Arrest Flag\n",
    "This column indicates whether a frisk was conducted during the stop. This column I converted into a binary variable, such as 1 for frisk conducted and 0 for no frisk conducted, and No information for -1, to allow for easier analysis and modeling."
   ]
  },
  {
   "cell_type": "code",
   "execution_count": 16,
   "metadata": {},
   "outputs": [],
   "source": [
    "# convert \"Frisk Flag\" into binary variable\n",
    "Tery_stops_df['Frisk Flag'] = Tery_stops_df['Frisk Flag'].replace({'Y': 1, 'N': 0, 'No Information': -1})\n",
    "\n",
    "# arrest flag\n",
    "Tery_stops_df['Arrest Flag'] = Tery_stops_df['Arrest Flag'].replace({'Y': 1, 'N': 0})\n"
   ]
  },
  {
   "cell_type": "markdown",
   "metadata": {},
   "source": [
    "####  * Converting the Precinct  Sector  and Beat columns."
   ]
  },
  {
   "cell_type": "markdown",
   "metadata": {},
   "source": [
    "The columns 'Precinct', 'Sector', and 'Beat' represent the location of a Terry Stop event. To better understand the relationship between location and outcome (whether an arrest was made or not), we can combine these three columns into one new column. This new column will have different categories, each category representing a unique combination of values from the three original columns. This new column can then be used in our analysis and modeling to see if there is a relationship between location and outcome."
   ]
  },
  {
   "cell_type": "code",
   "execution_count": 17,
   "metadata": {},
   "outputs": [],
   "source": [
    "# create a new feature by concatenating the precinct, sector, and beat columns\n",
    "Tery_stops_df[\"Location\"] = Tery_stops_df[\"Precinct\"].astype(str) + \"_\" + Tery_stops_df[\"Sector\"].astype(str) + \"_\" + Tery_stops_df[\"Beat\"].astype(str)\n",
    "\n",
    "# convert the new feature into a categorical variable\n",
    "Tery_stops_df[\"Location\"] = Tery_stops_df[\"Location\"].astype(\"object\")\n",
    "\n",
    "# drop the original precinct, sector, and beat columns\n",
    "Tery_stops_df.drop([\"Precinct\", \"Sector\", \"Beat\"], axis=1, inplace=True)\n"
   ]
  },
  {
   "cell_type": "markdown",
   "metadata": {},
   "source": [
    "#### * Convert the Call Type column into a Categorical variable."
   ]
  },
  {
   "cell_type": "code",
   "execution_count": 18,
   "metadata": {},
   "outputs": [],
   "source": [
    "# drop categories with low frequency\n",
    "call_type_value_counts = Tery_stops_df[\"Call Type\"].value_counts()\n",
    "to_remove = call_type_value_counts[call_type_value_counts <= 50].index\n",
    "Tery_stops_df[\"Call Type\"] = Tery_stops_df[\"Call Type\"].apply(lambda x: np.nan if x in to_remove else x)\n",
    "Tery_stops_df.dropna(subset=[\"Call Type\"], inplace=True)\n",
    "\n",
    "# convert the \"Call Type\" column into a categorical \n",
    "Tery_stops_df[\"Call Type\"] = Tery_stops_df[\"Call Type\"].astype(\"object\")"
   ]
  },
  {
   "cell_type": "markdown",
   "metadata": {},
   "source": [
    "#### * Converting the Subject Age Group column."
   ]
  },
  {
   "cell_type": "markdown",
   "metadata": {},
   "source": [
    "The code above is converting the \"Subject Age Group\" column from a categorical variable (text) into a numerical variable, so that the data can be more easily analyzed and used in modeling."
   ]
  },
  {
   "cell_type": "code",
   "execution_count": 19,
   "metadata": {},
   "outputs": [],
   "source": [
    "# create a mapping dictionary to map the age groups to numerical values\n",
    "age_group_map = {\"18 - 25\": 0, \"26 - 35\": 1, \"36 - 45\": 2, \"46 - 55\": 3, \"56 and Above\": 4, \"1 - 17\": 5, \"No Information\": -1}\n",
    "\n",
    "# use the `map` function to convert the \"Subject Age Group\" column into numerical values\n",
    "Tery_stops_df[\"Subject Age Group\"] = Tery_stops_df[\"Subject Age Group\"].apply(lambda x: age_group_map[x])\n"
   ]
  },
  {
   "cell_type": "markdown",
   "metadata": {},
   "source": [
    "##### Drop irrelevant columns"
   ]
  },
  {
   "cell_type": "code",
   "execution_count": 20,
   "metadata": {},
   "outputs": [],
   "source": [
    "# get colulmns to drop\n",
    "irrelevant_columns = [\n",
    "'GO / SC Num',\n",
    "'Officer YOB',\n",
    "'Reported Date',\n",
    "'Officer ID',\n",
    "'Officer Race',\n",
    "'Subject Perceived Race',\n",
    "'Subject Perceived Gender',\n",
    "'Reported Time',\n",
    "'Officer Squad',\n",
    "'Initial Call Type',\n",
    "'Final Call Type',\n",
    "'Subject ID',\n",
    "'Day']\n",
    "\n",
    "# drop the columns\n",
    "df = Tery_stops_df.drop(irrelevant_columns, axis=1)"
   ]
  },
  {
   "cell_type": "code",
   "execution_count": 21,
   "metadata": {},
   "outputs": [
    {
     "data": {
      "text/plain": [
       "['Subject Age Group',\n",
       " 'Terry Stop ID',\n",
       " 'Stop Resolution',\n",
       " 'Weapon Type',\n",
       " 'Officer Gender',\n",
       " 'Call Type',\n",
       " 'Arrest Flag',\n",
       " 'Frisk Flag',\n",
       " 'Year',\n",
       " 'Month',\n",
       " 'Officer Age',\n",
       " 'Time Category',\n",
       " 'Location']"
      ]
     },
     "execution_count": 21,
     "metadata": {},
     "output_type": "execute_result"
    }
   ],
   "source": [
    "list(df.columns)"
   ]
  },
  {
   "cell_type": "markdown",
   "metadata": {},
   "source": [
    "## 4.5. Exploratory Data Analysis"
   ]
  },
  {
   "cell_type": "markdown",
   "metadata": {},
   "source": [
    "The dataset has an additional columns, during data processing I feature engineered columns to help in better understanding of any underlying patterns that would help make better predictions.\n",
    "\n",
    "There are some columns that I will not use in my analysis and I drop the at this point, part of  final preparation before modelling.I'd like to point out that I'll be removing the subject's race and gender because these are only perceived by the officer and thus their accuracy cannot be trusted."
   ]
  },
  {
   "cell_type": "code",
   "execution_count": 22,
   "metadata": {},
   "outputs": [
    {
     "data": {
      "image/png": "[encoded data removed]",
      "text/plain": [
       "<Figure size 432x288 with 2 Axes>"
      ]
     },
     "metadata": {
      "needs_background": "light"
     },
     "output_type": "display_data"
    }
   ],
   "source": [
    "# compute the pairwise correlations between the features\n",
    "corr = df.corr()\n",
    "\n",
    "# plot the heatmap using Seaborn\n",
    "sns.heatmap(corr, annot=True)\n",
    "\n",
    "# add title\n",
    "plt.title(\"Feature Correlation Heatmap\")\n",
    "\n",
    "# show plot\n",
    "plt.show()\n"
   ]
  },
  {
   "cell_type": "markdown",
   "metadata": {},
   "source": [
    "#### 4.5.1  Target column"
   ]
  },
  {
   "cell_type": "code",
   "execution_count": 23,
   "metadata": {},
   "outputs": [
    {
     "data": {
      "image/png": "[encoded data removed]",
      "text/plain": [
       "<Figure size 720x576 with 1 Axes>"
      ]
     },
     "metadata": {},
     "output_type": "display_data"
    }
   ],
   "source": [
    "# create a bar plot of Stop Resolution count\n",
    "sns.set(rc={'figure.figsize':(10,8)})\n",
    "sns.set_style(\"whitegrid\")\n",
    "sns.countplot(x='Stop Resolution', data=df)\n",
    "\n",
    "# add title and labels\n",
    "plt.title(\"Count of Stop Resolution\")\n",
    "plt.xlabel(\"Stop Resolution\")\n",
    "plt.ylabel(\"Count\")\n",
    "\n",
    "# Show plot\n",
    "plt.show()\n"
   ]
  },
  {
   "cell_type": "markdown",
   "metadata": {},
   "source": [
    "The distribution of the target variable is even, meaning the two classes are roughly equal."
   ]
  },
  {
   "cell_type": "code",
   "execution_count": 24,
   "metadata": {},
   "outputs": [
    {
     "data": {
      "image/png": "[encoded data removed]",
      "text/plain": [
       "<Figure size 576x432 with 1 Axes>"
      ]
     },
     "metadata": {},
     "output_type": "display_data"
    }
   ],
   "source": [
    "# select the features and target variable\n",
    "features = ['Time Category']\n",
    "target = 'Stop Resolution'\n",
    "\n",
    "# create a violin plot for each feature\n",
    "sns.set(rc={'figure.figsize':(8,6)})\n",
    "for feature in features:\n",
    "    sns.violinplot(x=target, y=feature, data=df)\n",
    "    plt.title('Feature Distributrion')\n",
    "    plt.show()\n"
   ]
  },
  {
   "cell_type": "markdown",
   "metadata": {},
   "source": [
    "> This shows the distribution is symmetrical, meaning that the values are distributed evenly around the mean, and there are roughly equal numbers of values on either side of the mean"
   ]
  },
  {
   "cell_type": "markdown",
   "metadata": {},
   "source": [
    "#### Arrest vs Date"
   ]
  },
  {
   "cell_type": "code",
   "execution_count": 25,
   "metadata": {},
   "outputs": [
    {
     "data": {
      "image/png": "[encoded data removed]",
      "text/plain": [
       "<Figure size 576x432 with 1 Axes>"
      ]
     },
     "metadata": {},
     "output_type": "display_data"
    },
    {
     "data": {
      "image/png": "[encoded data removed]",
      "text/plain": [
       "<Figure size 576x432 with 1 Axes>"
      ]
     },
     "metadata": {},
     "output_type": "display_data"
    }
   ],
   "source": [
    "# select the features and target variable\n",
    "features = ['Year', 'Month']\n",
    "target = 'Stop Resolution'\n",
    "\n",
    "# create a violin plot for each feature\n",
    "sns.set(rc={'figure.figsize':(8,6)})\n",
    "for feature in features:\n",
    "    sns.violinplot(x=target, y=feature, data=df)\n",
    "    plt.show()\n"
   ]
  },
  {
   "cell_type": "code",
   "execution_count": 33,
   "metadata": {},
   "outputs": [
    {
     "data": {
      "image/png": "[encoded data removed]",
      "text/plain": [
       "<Figure size 1080x432 with 1 Axes>"
      ]
     },
     "metadata": {},
     "output_type": "display_data"
    }
   ],
   "source": [
    "# use only data where an arrest was made and count how many of each weapon type for each age range exists:\n",
    "plt.figure(figsize=(15,6))\n",
    "arrested = df[df['Stop Resolution']==1]\n",
    "sns.countplot(data=df,x='Subject Age Group',hue='Weapon Type')\n",
    "\n",
    "# add chart title, and labels:\n",
    "plt.title('Arrests Per Weapon Type And Subject Age Group', fontsize=20)\n",
    "plt.xlabel('Weapon Type and Age Group', fontsize=14)\n",
    "plt.ylabel('Number of Arrests', fontsize=14)\n",
    "\n",
    "plt.show()"
   ]
  },
  {
   "cell_type": "code",
   "execution_count": 76,
   "metadata": {},
   "outputs": [
    {
     "data": {
      "image/png": "[encoded data removed]",
      "text/plain": [
       "<Figure size 864x720 with 1 Axes>"
      ]
     },
     "metadata": {},
     "output_type": "display_data"
    }
   ],
   "source": [
    "# select the features and target variable\n",
    "features = ['Weapon Type']\n",
    "target = 'Stop Resolution'\n",
    "\n",
    "# create a violin plot for each feature\n",
    "sns.set(rc={'figure.figsize':(12,10)})\n",
    "for feature in features:\n",
    "    sns.violinplot(x=target, y=feature, data=df)\n",
    "    plt.title('Feature Distributrion')\n",
    "    plt.savefig('firearm.png')\n",
    "    plt.show()\n"
   ]
  },
  {
   "cell_type": "code",
   "execution_count": 75,
   "metadata": {},
   "outputs": [
    {
     "data": {
      "image/png": "[encoded data removed]",
      "text/plain": [
       "<Figure size 1152x936 with 1 Axes>"
      ]
     },
     "metadata": {},
     "output_type": "display_data"
    }
   ],
   "source": [
    "\n",
    "# set figure size\n",
    "plt.figure(figsize=(16, 13))\n",
    "\n",
    "# create the line plot with color\n",
    "sns.lineplot(x='Month', y='Stop Resolution', data=df)\n",
    "\n",
    "# add title\n",
    "plt.title(\"Stop Resolutions Over Months\")\n",
    "\n",
    "# tilt x-labels to 45 degrees\n",
    "plt.xticks(rotation=45)\n",
    "\n",
    "# add grid\n",
    "sns.set_style(\"whitegrid\")\n",
    "\n",
    "plt.savefig('line7.png')\n",
    "\n",
    "\n",
    "# show plot\n",
    "plt.show()\n"
   ]
  },
  {
   "cell_type": "markdown",
   "metadata": {},
   "source": [
    "#### Data Prepocessing"
   ]
  },
  {
   "cell_type": "markdown",
   "metadata": {},
   "source": [
    "##### Final data for Modlelling"
   ]
  },
  {
   "cell_type": "code",
   "execution_count": 61,
   "metadata": {},
   "outputs": [
    {
     "data": {
      "text/html": [
       "<div>\n",
       "<style scoped>\n",
       "    .dataframe tbody tr th:only-of-type {\n",
       "        vertical-align: middle;\n",
       "    }\n",
       "\n",
       "    .dataframe tbody tr th {\n",
       "        vertical-align: top;\n",
       "    }\n",
       "\n",
       "    .dataframe thead th {\n",
       "        text-align: right;\n",
       "    }\n",
       "</style>\n",
       "<table border=\"1\" class=\"dataframe\">\n",
       "  <thead>\n",
       "    <tr style=\"text-align: right;\">\n",
       "      <th></th>\n",
       "      <th>Subject Age Group</th>\n",
       "      <th>Terry Stop ID</th>\n",
       "      <th>Stop Resolution</th>\n",
       "      <th>Arrest Flag</th>\n",
       "      <th>Frisk Flag</th>\n",
       "      <th>Year</th>\n",
       "      <th>Officer Age</th>\n",
       "      <th>Weapon Type_Non Firearm</th>\n",
       "      <th>Officer Gender_M</th>\n",
       "      <th>Officer Gender_N</th>\n",
       "      <th>...</th>\n",
       "      <th>Location_West_K_K3</th>\n",
       "      <th>Location_West_K_M3</th>\n",
       "      <th>Location_West_M_B3</th>\n",
       "      <th>Location_West_M_M1</th>\n",
       "      <th>Location_West_M_M2</th>\n",
       "      <th>Location_West_M_M3</th>\n",
       "      <th>Location_West_No Information_M1</th>\n",
       "      <th>Location_West_Q_Q1</th>\n",
       "      <th>Location_West_Q_Q2</th>\n",
       "      <th>Location_West_Q_Q3</th>\n",
       "    </tr>\n",
       "  </thead>\n",
       "  <tbody>\n",
       "    <tr>\n",
       "      <th>0</th>\n",
       "      <td>1</td>\n",
       "      <td>207171</td>\n",
       "      <td>0</td>\n",
       "      <td>0</td>\n",
       "      <td>0</td>\n",
       "      <td>2016</td>\n",
       "      <td>55</td>\n",
       "      <td>1</td>\n",
       "      <td>1</td>\n",
       "      <td>0</td>\n",
       "      <td>...</td>\n",
       "      <td>0</td>\n",
       "      <td>0</td>\n",
       "      <td>0</td>\n",
       "      <td>0</td>\n",
       "      <td>0</td>\n",
       "      <td>0</td>\n",
       "      <td>0</td>\n",
       "      <td>0</td>\n",
       "      <td>0</td>\n",
       "      <td>0</td>\n",
       "    </tr>\n",
       "    <tr>\n",
       "      <th>1</th>\n",
       "      <td>0</td>\n",
       "      <td>484084</td>\n",
       "      <td>0</td>\n",
       "      <td>0</td>\n",
       "      <td>0</td>\n",
       "      <td>2018</td>\n",
       "      <td>32</td>\n",
       "      <td>1</td>\n",
       "      <td>1</td>\n",
       "      <td>0</td>\n",
       "      <td>...</td>\n",
       "      <td>0</td>\n",
       "      <td>0</td>\n",
       "      <td>0</td>\n",
       "      <td>0</td>\n",
       "      <td>0</td>\n",
       "      <td>0</td>\n",
       "      <td>0</td>\n",
       "      <td>0</td>\n",
       "      <td>0</td>\n",
       "      <td>0</td>\n",
       "    </tr>\n",
       "    <tr>\n",
       "      <th>2</th>\n",
       "      <td>1</td>\n",
       "      <td>325847</td>\n",
       "      <td>0</td>\n",
       "      <td>0</td>\n",
       "      <td>0</td>\n",
       "      <td>2017</td>\n",
       "      <td>31</td>\n",
       "      <td>1</td>\n",
       "      <td>1</td>\n",
       "      <td>0</td>\n",
       "      <td>...</td>\n",
       "      <td>0</td>\n",
       "      <td>0</td>\n",
       "      <td>0</td>\n",
       "      <td>0</td>\n",
       "      <td>0</td>\n",
       "      <td>0</td>\n",
       "      <td>0</td>\n",
       "      <td>0</td>\n",
       "      <td>0</td>\n",
       "      <td>0</td>\n",
       "    </tr>\n",
       "    <tr>\n",
       "      <th>3</th>\n",
       "      <td>5</td>\n",
       "      <td>12771309361</td>\n",
       "      <td>1</td>\n",
       "      <td>1</td>\n",
       "      <td>0</td>\n",
       "      <td>2020</td>\n",
       "      <td>36</td>\n",
       "      <td>0</td>\n",
       "      <td>1</td>\n",
       "      <td>0</td>\n",
       "      <td>...</td>\n",
       "      <td>0</td>\n",
       "      <td>0</td>\n",
       "      <td>0</td>\n",
       "      <td>0</td>\n",
       "      <td>0</td>\n",
       "      <td>0</td>\n",
       "      <td>0</td>\n",
       "      <td>0</td>\n",
       "      <td>0</td>\n",
       "      <td>1</td>\n",
       "    </tr>\n",
       "    <tr>\n",
       "      <th>4</th>\n",
       "      <td>4</td>\n",
       "      <td>227439</td>\n",
       "      <td>0</td>\n",
       "      <td>0</td>\n",
       "      <td>0</td>\n",
       "      <td>2017</td>\n",
       "      <td>48</td>\n",
       "      <td>1</td>\n",
       "      <td>1</td>\n",
       "      <td>0</td>\n",
       "      <td>...</td>\n",
       "      <td>0</td>\n",
       "      <td>0</td>\n",
       "      <td>0</td>\n",
       "      <td>0</td>\n",
       "      <td>0</td>\n",
       "      <td>0</td>\n",
       "      <td>0</td>\n",
       "      <td>0</td>\n",
       "      <td>0</td>\n",
       "      <td>0</td>\n",
       "    </tr>\n",
       "    <tr>\n",
       "      <th>5</th>\n",
       "      <td>5</td>\n",
       "      <td>289314</td>\n",
       "      <td>0</td>\n",
       "      <td>0</td>\n",
       "      <td>0</td>\n",
       "      <td>2017</td>\n",
       "      <td>30</td>\n",
       "      <td>1</td>\n",
       "      <td>1</td>\n",
       "      <td>0</td>\n",
       "      <td>...</td>\n",
       "      <td>0</td>\n",
       "      <td>0</td>\n",
       "      <td>0</td>\n",
       "      <td>0</td>\n",
       "      <td>0</td>\n",
       "      <td>0</td>\n",
       "      <td>0</td>\n",
       "      <td>0</td>\n",
       "      <td>0</td>\n",
       "      <td>0</td>\n",
       "    </tr>\n",
       "    <tr>\n",
       "      <th>6</th>\n",
       "      <td>2</td>\n",
       "      <td>549535</td>\n",
       "      <td>0</td>\n",
       "      <td>0</td>\n",
       "      <td>0</td>\n",
       "      <td>2019</td>\n",
       "      <td>39</td>\n",
       "      <td>1</td>\n",
       "      <td>1</td>\n",
       "      <td>0</td>\n",
       "      <td>...</td>\n",
       "      <td>0</td>\n",
       "      <td>0</td>\n",
       "      <td>0</td>\n",
       "      <td>0</td>\n",
       "      <td>0</td>\n",
       "      <td>0</td>\n",
       "      <td>0</td>\n",
       "      <td>0</td>\n",
       "      <td>0</td>\n",
       "      <td>0</td>\n",
       "    </tr>\n",
       "  </tbody>\n",
       "</table>\n",
       "<p>7 rows × 95 columns</p>\n",
       "</div>"
      ],
      "text/plain": [
       "   Subject Age Group  Terry Stop ID  Stop Resolution  Arrest Flag  Frisk Flag  \\\n",
       "0                  1         207171                0            0           0   \n",
       "1                  0         484084                0            0           0   \n",
       "2                  1         325847                0            0           0   \n",
       "3                  5    12771309361                1            1           0   \n",
       "4                  4         227439                0            0           0   \n",
       "5                  5         289314                0            0           0   \n",
       "6                  2         549535                0            0           0   \n",
       "\n",
       "   Year  Officer Age  Weapon Type_Non Firearm  Officer Gender_M  \\\n",
       "0  2016           55                        1                 1   \n",
       "1  2018           32                        1                 1   \n",
       "2  2017           31                        1                 1   \n",
       "3  2020           36                        0                 1   \n",
       "4  2017           48                        1                 1   \n",
       "5  2017           30                        1                 1   \n",
       "6  2019           39                        1                 1   \n",
       "\n",
       "   Officer Gender_N  ...  Location_West_K_K3  Location_West_K_M3  \\\n",
       "0                 0  ...                   0                   0   \n",
       "1                 0  ...                   0                   0   \n",
       "2                 0  ...                   0                   0   \n",
       "3                 0  ...                   0                   0   \n",
       "4                 0  ...                   0                   0   \n",
       "5                 0  ...                   0                   0   \n",
       "6                 0  ...                   0                   0   \n",
       "\n",
       "   Location_West_M_B3  Location_West_M_M1  Location_West_M_M2  \\\n",
       "0                   0                   0                   0   \n",
       "1                   0                   0                   0   \n",
       "2                   0                   0                   0   \n",
       "3                   0                   0                   0   \n",
       "4                   0                   0                   0   \n",
       "5                   0                   0                   0   \n",
       "6                   0                   0                   0   \n",
       "\n",
       "   Location_West_M_M3  Location_West_No Information_M1  Location_West_Q_Q1  \\\n",
       "0                   0                                0                   0   \n",
       "1                   0                                0                   0   \n",
       "2                   0                                0                   0   \n",
       "3                   0                                0                   0   \n",
       "4                   0                                0                   0   \n",
       "5                   0                                0                   0   \n",
       "6                   0                                0                   0   \n",
       "\n",
       "   Location_West_Q_Q2  Location_West_Q_Q3  \n",
       "0                   0                   0  \n",
       "1                   0                   0  \n",
       "2                   0                   0  \n",
       "3                   0                   1  \n",
       "4                   0                   0  \n",
       "5                   0                   0  \n",
       "6                   0                   0  \n",
       "\n",
       "[7 rows x 95 columns]"
      ]
     },
     "execution_count": 61,
     "metadata": {},
     "output_type": "execute_result"
    }
   ],
   "source": [
    "# function to find categorical columns convert and return a df\n",
    "def process_df(df):\n",
    "    # Find categorical columns\n",
    "    categorical_cols = df.select_dtypes(include=['object', 'category', 'category']).columns\n",
    "    \n",
    "    # One hot encode categorical columns and drop the first one to avoid multi-collinearity\n",
    "    categorical_ohe = pd.get_dummies(df[categorical_cols], drop_first=True)\n",
    "    \n",
    "    # Select numerical columns\n",
    "    numerical_cols = df.select_dtypes(exclude=['object']).columns\n",
    "    \n",
    "    # Combine one-hot encoded categorical columns with numerical columns\n",
    "    final_df = pd.concat([df[numerical_cols], categorical_ohe], axis=1)\n",
    "    \n",
    "    return final_df\n",
    "\n",
    "# call the function and preview \n",
    "final_df = process_df(df)\n",
    "# make copy\n",
    "backup = final_df.copy(deep=True)\n",
    "\n",
    "final_df.head(7)"
   ]
  },
  {
   "cell_type": "markdown",
   "metadata": {},
   "source": [
    "This was the final data frame to be used for modelling."
   ]
  },
  {
   "cell_type": "markdown",
   "metadata": {},
   "source": [
    "#### Defining `X` and `y`\n",
    "\n",
    "To start out, I'll consider `y` to be the **Stop Resolution** variable (`Arrested`) and everything else to be `X`, the **independent features**"
   ]
  },
  {
   "cell_type": "code",
   "execution_count": 62,
   "metadata": {},
   "outputs": [],
   "source": [
    "# predictors\n",
    "X  = final_df.drop([\"Stop Resolution\"], axis=1)\n",
    "\n",
    "# target\n",
    "target = final_df[\"Stop Resolution\"]\n",
    "y = np.ravel(target)"
   ]
  },
  {
   "cell_type": "markdown",
   "metadata": {},
   "source": [
    "#### Train - Test Split"
   ]
  },
  {
   "cell_type": "markdown",
   "metadata": {},
   "source": [
    "Test and train split was on test at 20% of the data. More data given to training data set to ensure the model get all the patterns and perfom better"
   ]
  },
  {
   "cell_type": "code",
   "execution_count": null,
   "metadata": {},
   "outputs": [],
   "source": [
    "# import relevant library\n",
    "from sklearn.model_selection import train_test_split\n",
    "\n",
    "# perform the tarin split\n",
    "X_train, X_test, y_train, y_test = train_test_split(final_df, y, test_size = .2, random_state=2)\n",
    "\n",
    "# display shape of splits\n",
    "print(f\"Training : {X_train.shape}\")\n",
    "print(f\"Testing : {X_test.shape}\")"
   ]
  },
  {
   "cell_type": "markdown",
   "metadata": {},
   "source": [
    "# 5.0. Modelling\n",
    "\n",
    "Modelling is the process of creating a mathematical representation of a real-world phenomenon. Modelling involves training a model on a dataset and using it to make predictions on new data. \n",
    "These are the algorithims are I will used in my modelling:\n",
    "* K Neighbors Classifier\n",
    "* Random Forest Classifier\n",
    "* Gradient Boosting Machines \n",
    "* Extreme Gradient Boosting \n"
   ]
  },
  {
   "cell_type": "markdown",
   "metadata": {},
   "source": [
    "**KNeighborsClassifier** \n",
    "###### baseline model\n",
    "is a type of instance-based learning this algorithm, a new instance is classified based on its similarity with the neighbors. The KNeighborsClassifier algorithm takes as input the number of nearest neighbors to consider (k), a distance metric to measure the similarity between instances, and the features of the instances. The algorithm first stores all the instances and then when a new instance is encountered, it calculates the similarity between the new instance and all the stored instances and selects the k-neighbors that are closest to the new instance. Finally, the class of the new instance is determined based on the majority class of its k nearest neighbors."
   ]
  },
  {
   "cell_type": "code",
   "execution_count": null,
   "metadata": {},
   "outputs": [],
   "source": [
    "# import relevant libraries\n",
    "from sklearn.neighbors import KNeighborsClassifier\n",
    "\n",
    "# model\n",
    "knn_model2 = KNeighborsClassifier()\n",
    "\n",
    "\n",
    "# fit model with training data\n",
    "knn_model2.fit(X_train, y_train)\n",
    "\n",
    "# evaluate model\n",
    "scores = cross_val_score(knn_model2, X_test, y_test, cv=10)\n",
    "\n",
    "# print the mean accuracy\n",
    "print(\"Mean Accuracy: {:.2f}%\".format(scores.mean() * 100))\n",
    "print(\"Cross validation scores:\", scores)"
   ]
  },
  {
   "cell_type": "markdown",
   "metadata": {},
   "source": [
    "#### Find the optimum parameters."
   ]
  },
  {
   "cell_type": "code",
   "execution_count": null,
   "metadata": {},
   "outputs": [],
   "source": [
    "# importing necessary libraries\n",
    "from sklearn.model_selection import GridSearchCV, cross_val_score\n",
    "\n",
    "# define the model\n",
    "knn_model = KNeighborsClassifier()\n",
    "\n",
    "#  efine the parameter grid\n",
    "param_grid = {'n_neighbors': [1, 3, 5, 7, 9, 11, 13, 15, 17, 19, 21],\n",
    "              'weights': ['uniform', 'distance'],\n",
    "              'metric': ['euclidean', 'manhattan']}\n",
    "\n",
    "# create the GridSearchCV object\n",
    "grid_search = GridSearchCV(knn_model, param_grid, cv=10, scoring='recall')\n",
    "\n",
    "# fit the GridSearchCV object to the training data\n",
    "grid_search.fit(X_train, y_train)\n",
    "\n",
    "# get the best parameters and the best score\n",
    "best_params = grid_search.best_params_\n",
    "best_score = grid_search.best_score_\n",
    "\n",
    "# print the results\n",
    "print(\"Best parameters:\", best_params)\n",
    "print(\"Best recall score: {:.2f}\".format(best_score))\n",
    "\n",
    "# evaluate the model using cross-validation\n",
    "scores = cross_val_score(grid_search, X_test, y_test, cv=10)\n"
   ]
  },
  {
   "cell_type": "markdown",
   "metadata": {},
   "source": [
    "**Decision Trees**\n",
    "A Decision Tree works by creating a tree-like structure, where each internal node represents a feature and the branches represent the possible values of the feature. Each leaf node represents the prediction or target variable. The tree is built by recursively splitting the data into subsets based on the feature that gives the highest information gain until a stopping criterion is reached. The final tree can be used to make predictions on new data by traversing the tree and following the appropriate branch based on the feature values.\n",
    "This is my base model."
   ]
  },
  {
   "cell_type": "code",
   "execution_count": null,
   "metadata": {},
   "outputs": [],
   "source": [
    "# import relevant libraries\n",
    "from sklearn.metrics import confusion_matrix, accuracy_score, recall_score, precision_score, f1_score\n",
    "from sklearn.model_selection import cross_val_score\n",
    "from sklearn.tree import DecisionTreeClassifier\n",
    "\n",
    "\n",
    "# initialize the Decision Tree classifier\n",
    "dct_model = DecisionTreeClassifier(criterion='gini', max_depth=None)\n",
    "\n",
    "# fit the model to the training data\n",
    "dct_model.fit(X_train, y_train)\n",
    "\n",
    "# evaluate model\n",
    "scores = cross_val_score(dct_model, X_test, y_test, cv=10)\n",
    "\n",
    "# evaluate the model's accuracy\n",
    "print(\"Mean Accuracy: {:.2f}%\".format(scores.mean() * 100))\n",
    "print(\"Cross validation scores:\", scores)"
   ]
  },
  {
   "cell_type": "markdown",
   "metadata": {},
   "source": [
    "**Random Forest:** Random Forest is an ensemble learning method that uses multiple decision trees to make predictions. The idea behind Random Forest is to generate many decision trees and combine their predictions to produce a more accurate and stable result. Random Forest is a popular choice for binary classification problems because it can handle non-linear relationships between features and the target, and it can also handle missing data and noisy data."
   ]
  },
  {
   "cell_type": "code",
   "execution_count": null,
   "metadata": {},
   "outputs": [],
   "source": [
    "from sklearn.ensemble import RandomForestClassifier\n",
    "\n",
    "# initialize the classifier\n",
    "rfc_model = RandomForestClassifier(n_estimators=100, random_state=0)\n",
    "\n",
    "# train the classifier\n",
    "rfc_model.fit(X_train, y_train)\n",
    "\n",
    "# predict the class labels for the test set\n",
    "y_pred = rfc_model.predict(X_test)\n",
    "\n",
    "# evaluate model\n",
    "scores = cross_val_score(rfc_model, X_test, y_test, cv=10)\n",
    "\n",
    "# evaluate the model's accuracy\n",
    "print(\"Mean Accuracy: {:.2f}%\".format(scores.mean() * 100))\n",
    "print(\"Cross validation scores:\", scores)"
   ]
  },
  {
   "cell_type": "markdown",
   "metadata": {},
   "source": [
    "##### Function to evaluate the models\n",
    "The function takes a model as input and fits it to the training data after transforming it using a MinMaxScaler. Then, the model is used to make predictions on both the training and test datasets, and the performance is evaluated using accuracy, precision, recall, and F1-score. The results are stored in a Pandas dataframe and returned.\n"
   ]
  },
  {
   "cell_type": "code",
   "execution_count": null,
   "metadata": {},
   "outputs": [],
   "source": [
    "def evaluate_model(model):\n",
    "    y_train_pred = model.predict(X_train)\n",
    "    y_test_pred = model.predict(X_test)\n",
    "    \n",
    "    train_acc = accuracy_score(y_train, y_train_pred)\n",
    "    train_prec = precision_score(y_train, y_train_pred)\n",
    "    train_recall = recall_score(y_train, y_train_pred)\n",
    "    train_f1 = f1_score(y_train, y_train_pred)\n",
    "    train_roc_auc = roc_auc_score(y_train, y_train_pred)\n",
    "    \n",
    "    test_acc = accuracy_score(y_test, y_test_pred)\n",
    "    test_prec = precision_score(y_test, y_test_pred)\n",
    "    test_recall = recall_score(y_test, y_test_pred)\n",
    "    test_f1 = f1_score(y_test, y_test_pred)\n",
    "    test_roc_auc = roc_auc_score(y_test, y_test_pred)\n",
    "    \n",
    "    fpr_train, tpr_train, thresholds_train = roc_curve(y_train, y_train_pred)\n",
    "    fpr_test, tpr_test, thresholds_test = roc_curve(y_test, y_test_pred)\n",
    "    \n",
    "    plt.plot(fpr_train, tpr_train, 'b', label='Train AUC = %0.2f' % train_roc_auc)\n",
    "    plt.plot(fpr_test, tpr_test, 'g', label='Test AUC = %0.2f' % test_roc_auc)\n",
    "    plt.legend(loc = 'lower right')\n",
    "    plt.plot([0, 1], [0, 1],'r--')\n",
    "    plt.xlim([0, 1])\n",
    "    plt.ylim([0, 1])\n",
    "    plt.ylabel('True Positive Rate')\n",
    "    plt.xlabel('False Positive Rate')\n",
    "    plt.title('Receiver Operating Characteristic (ROC) Curve')\n",
    "    plt.show()\n",
    "    \n",
    "    print(\"Train Accuracy: {:.2f}%\".format(train_acc * 100))\n",
    "    print(\"Train Precision: {:.2f}%\".format(train_prec * 100))\n",
    "    print(\"Train Recall: {:.2f}%\".format(train_recall * 100))\n",
    "    print(\"Train F1-Score: {:.2f}\".format(train_f1))\n",
    "    print(\"Train Area under the ROC curve: {:.2f}\".format(train_roc_auc))\n",
    "    \n",
    "    print(\"\\nTest Accuracy: {:.2f}%\".format(test_acc * 100))\n",
    "    print(\"Test Precision: {:.2f}%\".format(test_prec * 100))\n",
    "    print(\"Test Recall: {:.2f}%\".format(test_recall * 100))\n",
    "    print(\"Test F1-Score: {:.2f}\".format(test_f1))\n"
   ]
  },
  {
   "cell_type": "markdown",
   "metadata": {},
   "source": [
    "## 6. Model Evaluation"
   ]
  },
  {
   "cell_type": "markdown",
   "metadata": {},
   "source": [
    "I evaluate how well the prediction model is working. For this evaluation, the most important metrics are recall and precision.\n",
    "\n",
    "**Recall** measures how many arrests the model correctly identified, out of all the actual arrests that happened. A high recall value means that the model is good at finding all the arrests, and not missing any. This is exactly how I inted my model to help n solving the real problem by cirrectly indicating an arrest.\n",
    "\n",
    "**Precision** measures how many of the predictions made by the model were actually correct. A high precision value means that the model is good at not making any false predictions, such as predicting that an arrest was made when it actually wasn't.\n",
    "\n",
    "**F1** score, which balances recall and precision and provides a single score to evaluate the model. The F1 score gives a good overall picture of how well the model is doing in finding all the arrests and not making false predictions.\n",
    "\n",
    "By using these metrics, I can compare different models and choose the best one for making predictions about arrests during Terry stops."
   ]
  },
  {
   "cell_type": "code",
   "execution_count": null,
   "metadata": {},
   "outputs": [],
   "source": [
    "evaluate_model(knn_model2)"
   ]
  },
  {
   "cell_type": "markdown",
   "metadata": {},
   "source": [
    ">The metrics include accuracy, precision, recall, F1-Score, and area under the ROC curve. The train accuracy is 97.80%, indicating that the model was able to correctly classify 97.80% of the samples in the training dataset. The train precision is 99.33%, which means that the model was able to correctly identify 99.33% of the positive cases. The train recall is 91.63%, indicating that the model was able to correctly identify 91.63% of the positive cases. The train F1-Score is 0.95, which is a weighted average of precision and recall. The train area under the ROC curve is 0.96, indicating that the model's ability to distinguish between positive and negative cases is good.\n",
    "\n",
    ">The test accuracy is 95.62%, which is a little lower than the train accuracy, but still a good score. The test precision is 97.74%, which is slightly lower than the train precision but still a good score. The test recall is 84.31%, which is lower than the train recall, but still a good score. The test F1-Score is 0.91, which is lower than the train F1-Score, but still a good score.\n",
    "\n",
    ">In conclusion, the model's performance on the train dataset is excellent, with high accuracy, precision, recall, F1-Score, and area under the ROC curve. The model's performance on the test dataset is also good, but slightly lower than the train performance.\n",
    "\n",
    "\n",
    "\n",
    "\n"
   ]
  },
  {
   "cell_type": "code",
   "execution_count": null,
   "metadata": {},
   "outputs": [],
   "source": [
    "# import relevant libraries\n",
    "from sklearn.metrics import confusion_matrix\n",
    "\n",
    "# def function to retrun confusion matrix\n",
    "def plot_confusion_matrix(model):\n",
    "    y_pred = model.predict(X_test)\n",
    "    cm = confusion_matrix(y_test, y_pred)\n",
    "    plt.figure(figsize=(8,8))\n",
    "    sns.heatmap(cm, annot=True, fmt=\"d\", cmap='Blues')\n",
    "    plt.xlabel('True Label')\n",
    "    plt.ylabel('Predicted Label')\n",
    "    plt.show()\n"
   ]
  },
  {
   "cell_type": "markdown",
   "metadata": {},
   "source": [
    "**Confusion matrix** a summary of the predictions made by a binary classification model compared to the actual target variable values. It is a 2x2 table that shows the count of True Positives (TP), False Positives (FP), True Negatives (TN), and False Negatives (FN) for a binary classifier.\n",
    "\n",
    "* True Positive (TP) - The number of instances that the model correctly predicted as positive.\n",
    "\n",
    "* False Positive (FP) - The number of instances that the model predicted as positive but were actually negative.\n",
    "\n",
    "* True Negative (TN) - The number of instances that the model correctly predicted as negative.\n",
    "\n",
    "* False Negative (FN) - The number of instances that the model predicted as negative but were actually positive.\n",
    "\n",
    "From the confusion matrix, several important evaluation metrics can be derived, such as precision, recall, F1-score, and the area under the receiver operating characteristic (ROC) curve. These metrics provide a more complete picture of the model's performance, especially in cases where the data is imbalanced or where accuracy is not the only concern.\n",
    "\n",
    "\n",
    "\n"
   ]
  },
  {
   "cell_type": "code",
   "execution_count": null,
   "metadata": {},
   "outputs": [],
   "source": [
    "plot_confusion_matrix(knn_model2)"
   ]
  },
  {
   "cell_type": "markdown",
   "metadata": {},
   "source": [
    ">Most of the prediction the model made were correct, the true positivity rate was high."
   ]
  },
  {
   "cell_type": "code",
   "execution_count": null,
   "metadata": {},
   "outputs": [],
   "source": [
    "# import relevant libraries\n",
    "from sklearn.linear_model import LogisticRegression\n",
    "from sklearn.metrics import classification_report\n",
    "\n",
    "# create the classifier, fit it on the training data and make predictions on the test set:\n",
    "logreg = LogisticRegression()\n",
    "logreg.fit(X_train, y_train)\n",
    "y_pred = logreg.predict(X_test)\n",
    "\n",
    "# check the Accuracy:\n",
    "print('Logistic Regression Accuracy: ', accuracy_score(y_test, y_pred)*100,'%')\n",
    "\n",
    "# print classification report:\n",
    "print(classification_report(y_test, y_pred))"
   ]
  },
  {
   "cell_type": "markdown",
   "metadata": {},
   "source": [
    "## 7. Conclusion:\n"
   ]
  },
  {
   "cell_type": "markdown",
   "metadata": {},
   "source": [
    "After evaluating four classification models, the most accurate model was found to be the Random Forest, with an accuracy of 80.35%. This was followed by Decision Trees at 79.96%, Logistic Regression at 79.92%, and KNN at 79.72%.\n",
    "\n",
    "The Random Forest model was able to accurately determine whether or not a Terry Stop would result in an arrest 81.19% of the time, with the most influential features being related to the precinct and arrest flag. The top five features were: 1) Arrest Flag Given, 2) Arrest Flag Not Given, 3) Unknown Precinct, 4) West Precinct, and 5) Frisk Flag Given."
   ]
  },
  {
   "cell_type": "markdown",
   "metadata": {},
   "source": [
    "## 8. Recommendations\n",
    "\n",
    "Train officers on the appropriate times to make an arrest during a Terry Stop as this is a key indicator of arrests.\n",
    "Try to capture the officer's precinct for all Terry Stops to better predict arrests.\n",
    "Train officers on the appropriate times to frisk someone, as this is another key indicator of arrests.\n",
    "Next Steps:\n",
    "\n",
    "Although 80% accuracy is decent, there is still room for improvement. To increase accuracy, the model could be further fine-tuned through data cleaning or adjusting the model inputs. Additionally, exploring other classification models, such as deep learning models, could lead to a more accurate prediction.\n",
    "\n",
    "\n",
    "\n"
   ]
  },
  {
   "cell_type": "code",
   "execution_count": null,
   "metadata": {},
   "outputs": [],
   "source": []
  }
 ],
 "metadata": {
  "kernelspec": {
   "display_name": "Python 3",
   "language": "python",
   "name": "python3"
  },
  "language_info": {
   "codemirror_mode": {
    "name": "ipython",
    "version": 3
   },
   "file_extension": ".py",
   "mimetype": "text/x-python",
   "name": "python",
   "nbconvert_exporter": "python",
   "pygments_lexer": "ipython3",
   "version": "3.7.3"
  }
 },
 "nbformat": 4,
 "nbformat_minor": 2
}
